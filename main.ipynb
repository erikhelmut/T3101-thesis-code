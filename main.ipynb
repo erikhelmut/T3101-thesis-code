{
 "cells": [
  {
   "cell_type": "markdown",
   "id": "mineral-poetry",
   "metadata": {},
   "source": [
    "# RNN for japanese character classification"
   ]
  },
  {
   "cell_type": "code",
   "execution_count": 1,
   "id": "statistical-native",
   "metadata": {},
   "outputs": [
    {
     "name": "stdout",
     "output_type": "stream",
     "text": [
      "499 4.99 1.5403 data/train\\a__44364.csv / a CORRECT\n",
      "999 9.99 1.5057 data/train\\a__29661.csv / a CORRECT\n",
      "1499 14.99 1.4974 data/train\\e__26726.csv / e CORRECT\n",
      "1999 19.99 1.6011 data/train\\i__70302.csv / e WRONG (i)\n",
      "2499 24.990000000000002 1.6155 data/train\\i__28157.csv / u WRONG (i)\n",
      "2999 29.99 1.6020 data/train\\i__92051.csv / u WRONG (i)\n",
      "3499 34.99 1.5494 data/train\\a__85026.csv / e WRONG (a)\n",
      "3999 39.989999999999995 1.3723 data/train\\e__54428.csv / e CORRECT\n",
      "4499 44.99 1.2324 data/train\\o__48681.csv / o CORRECT\n",
      "4999 49.99 2.0506 data/train\\i__54477.csv / u WRONG (i)\n",
      "5499 54.99000000000001 1.8401 data/train\\a__44364.csv / u WRONG (a)\n",
      "5999 59.99 1.4609 data/train\\i__70302.csv / a WRONG (i)\n",
      "6499 64.99000000000001 1.3690 data/train\\i__12320.csv / u WRONG (i)\n",
      "6999 69.99 0.0122 data/train\\e__54428.csv / e CORRECT\n",
      "7499 74.99 1.3285 data/train\\a__55117.csv / i WRONG (a)\n",
      "7999 79.99000000000001 1.7938 data/train\\o__42940.csv / a WRONG (o)\n",
      "8499 84.99 1.4745 data/train\\u__06655.csv / u CORRECT\n",
      "8999 89.99000000000001 1.3860 data/train\\i__12320.csv / a WRONG (i)\n",
      "9499 94.99 1.0602 data/train\\u__89555.csv / u CORRECT\n",
      "9999 99.99 1.5230 data/train\\i__13846.csv / o WRONG (i)\n"
     ]
    },
    {
     "data": {
      "image/png": "[encoded data removed]",
      "text/plain": [
       "<Figure size 432x288 with 1 Axes>"
      ]
     },
     "metadata": {
      "needs_background": "light"
     },
     "output_type": "display_data"
    }
   ],
   "source": [
    "import torch\n",
    "import torch.nn as nn\n",
    "import matplotlib.pyplot as plt\n",
    "%matplotlib inline\n",
    "\n",
    "from utils import load_data, file_to_tensor, character_to_tensor, random_training_example\n",
    "\n",
    "class RNN(nn.Module):\n",
    "    \n",
    "    def __init__(self, input_size, hidden_size, output_size):\n",
    "        super(RNN, self).__init__()\n",
    "        \n",
    "        self.hidden_size = hidden_size\n",
    "        self.i2h = nn.Linear(input_size + hidden_size, hidden_size)\n",
    "        self.i2o = nn.Linear(input_size + hidden_size, output_size)\n",
    "        self.softmax = nn.LogSoftmax(dim=1)\n",
    "        \n",
    "    def forward(self, input_tensor, hidden_tensor):\n",
    "        combined = torch.cat((input_tensor, hidden_tensor), 1)\n",
    "        \n",
    "        hidden = self.i2h(combined)\n",
    "        output = self.i2o(combined)\n",
    "        output = self.softmax(output)\n",
    "        return output, hidden\n",
    "    \n",
    "    def init_hidden(self):\n",
    "        return torch.zeros(1, self.hidden_size)\n",
    "    \n",
    "character_files, all_characters = load_data()\n",
    "n_characters = len(all_characters)\n",
    "\n",
    "n_features = 3 # x,y,z\n",
    "n_hidden = 128\n",
    "\n",
    "\n",
    "rnn = RNN(n_features, n_hidden, n_characters)\n",
    "\n",
    "\n",
    "def character_from_output(output):\n",
    "    character_idx = torch.argmax(output).item()\n",
    "    return all_characters[character_idx]\n",
    "\n",
    "criterion = nn.NLLLoss()\n",
    "learning_rate = 0.001\n",
    "optimizer = torch.optim.SGD(rnn.parameters(), lr=learning_rate)\n",
    "\n",
    "def train(file_tensor, character_tensor):\n",
    "    hidden = rnn.init_hidden()\n",
    "    \n",
    "    # über seq-lenght iterieren\n",
    "    for i in range(file_tensor.size()[0]):\n",
    "        output, hidden = rnn(file_tensor[i], hidden)\n",
    "        \n",
    "    loss = criterion(output, character_tensor)\n",
    "    optimizer.zero_grad()\n",
    "    loss.backward()\n",
    "    optimizer.step()\n",
    "    \n",
    "    return output, loss.item()\n",
    "\n",
    "current_loss = 0\n",
    "all_losses = []\n",
    "\n",
    "plot_steps, print_steps = 100, 500\n",
    "n_iters = 10000\n",
    "\n",
    "for i in range(n_iters):\n",
    "    character, file, character_tensor, file_tensor = random_training_example(character_files, all_characters)\n",
    "    output, loss = train(file_tensor, character_tensor)\n",
    "    current_loss += loss\n",
    "    \n",
    "    if (i+1) % plot_steps == 0:\n",
    "        all_losses.append(current_loss / plot_steps)\n",
    "        current_loss = 0\n",
    "        \n",
    "    if (i+1) % print_steps == 0:\n",
    "        guess = character_from_output(output)\n",
    "        correct = \"CORRECT\" if guess == character else f\"WRONG ({character})\"\n",
    "        print(f\"{i} {i/n_iters*100} {loss:.4f} {file} / {guess} {correct}\")\n",
    "        \n",
    "plt.figure()\n",
    "plt.plot(all_losses)\n",
    "plt.show()"
   ]
  },
  {
   "cell_type": "code",
   "execution_count": null,
   "id": "aware-helping",
   "metadata": {},
   "outputs": [],
   "source": []
  }
 ],
 "metadata": {
  "kernelspec": {
   "display_name": "Python 3",
   "language": "python",
   "name": "python3"
  },
  "language_info": {
   "codemirror_mode": {
    "name": "ipython",
    "version": 3
   },
   "file_extension": ".py",
   "mimetype": "text/x-python",
   "name": "python",
   "nbconvert_exporter": "python",
   "pygments_lexer": "ipython3",
   "version": "3.8.5"
  }
 },
 "nbformat": 4,
 "nbformat_minor": 5
}
