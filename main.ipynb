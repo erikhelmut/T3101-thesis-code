{
 "cells": [
  {
   "cell_type": "markdown",
   "id": "actual-lawrence",
   "metadata": {},
   "source": [
    "# RNN for japanese character classification"
   ]
  },
  {
   "cell_type": "code",
   "execution_count": 1,
   "id": "prescription-power",
   "metadata": {},
   "outputs": [],
   "source": [
    "import time\n",
    "import math\n",
    "\n",
    "import torch\n",
    "import torch.nn as nn\n",
    "\n",
    "import matplotlib as mpl\n",
    "import matplotlib.pyplot as plt\n",
    "%matplotlib inline\n",
    "\n",
    "from utils import load_data, file_to_tensor, character_to_tensor, random_training_example"
   ]
  },
  {
   "cell_type": "markdown",
   "id": "liquid-capitol",
   "metadata": {},
   "source": [
    "## Netzarchitektur"
   ]
  },
  {
   "cell_type": "code",
   "execution_count": 2,
   "id": "composed-cosmetic",
   "metadata": {},
   "outputs": [],
   "source": [
    "# device config\n",
    "device = torch.device(\"cuda\" if torch.cuda.is_available() else \"cpu\")\n",
    "\n",
    "# load dataset\n",
    "character_files, all_characters = load_data(subfolder=\"train\")\n",
    "\n",
    "# hyper parameters\n",
    "n_features = 3 # input_size -> x_acc, y_acc, z_acc\n",
    "n_characters = len(all_characters) # output_size\n",
    "hidden_size = 128\n",
    "\n",
    "learning_rate = 0.001\n",
    "\n",
    "# Netzarchitektur\n",
    "class RNN(nn.Module):\n",
    "    \n",
    "    def __init__(self, input_size, hidden_size, output_size):\n",
    "        super(RNN, self).__init__()\n",
    "        self.hidden_size = hidden_size\n",
    "        \n",
    "        # input to hidden\n",
    "        self.i2h = nn.Linear(input_size + hidden_size, hidden_size)\n",
    "        # input to output\n",
    "        self.i2o = nn.Linear(input_size + hidden_size, output_size)\n",
    "        self.softmax = nn.LogSoftmax(dim=1)\n",
    "        \n",
    "    def forward(self, input_tensor, hidden_tensor):\n",
    "        # Kombinieren entlang der ersten Dimension\n",
    "        combined = torch.cat((input_tensor, hidden_tensor), 1)\n",
    "        \n",
    "        hidden = self.i2h(combined)\n",
    "        output = self.i2o(combined)\n",
    "        output = self.softmax(output)\n",
    "        return output, hidden\n",
    "    \n",
    "    def init_hidden(self):\n",
    "        # Initialisierung hidden-state\n",
    "        return torch.zeros(1, self.hidden_size)\n",
    "\n",
    "\n",
    "def train(file_tensor, character_tensor):\n",
    "    hidden = rnn.init_hidden()\n",
    "    \n",
    "    # über seq-lenght iterieren\n",
    "    for i in range(file_tensor.size()[0]):\n",
    "        output, hidden = rnn(file_tensor[i], hidden)\n",
    "        \n",
    "    loss = criterion(output, character_tensor)\n",
    "    optimizer.zero_grad()\n",
    "    loss.backward()\n",
    "    optimizer.step()\n",
    "    \n",
    "    return output, loss.item()\n",
    "\n",
    "\n",
    "def character_from_output(output):\n",
    "    character_idx = torch.argmax(output).item()\n",
    "    return all_characters[character_idx]"
   ]
  },
  {
   "cell_type": "markdown",
   "id": "optical-tiger",
   "metadata": {},
   "source": [
    "## Training loop"
   ]
  },
  {
   "cell_type": "code",
   "execution_count": 3,
   "id": "aboriginal-failing",
   "metadata": {},
   "outputs": [
    {
     "name": "stdout",
     "output_type": "stream",
     "text": [
      "500 5% (0m 55s) 1.5552 data/train\\e__49604.csv / u ✗ (e)\n",
      "1000 10% (1m 46s) 1.5610 data/train\\u__15626.csv / e ✗ (u)\n",
      "1500 15% (2m 39s) 1.6376 data/train\\i__02369.csv / e ✗ (i)\n",
      "2000 20% (3m 31s) 1.4448 data/train\\u__94863.csv / u ✓\n",
      "2500 25% (4m 23s) 1.4455 data/train\\u__94863.csv / o ✗ (u)\n",
      "3000 30% (5m 15s) 1.5412 data/train\\i__02369.csv / i ✓\n",
      "3500 35% (5m 56s) 1.0463 data/train\\u__27434.csv / o ✗ (u)\n",
      "4000 40% (6m 35s) 0.0229 data/train\\e__00867.csv / e ✓\n",
      "4500 45% (7m 18s) 0.0220 data/train\\e__11863.csv / e ✓\n",
      "5000 50% (8m 13s) 1.3361 data/train\\a__77402.csv / a ✓\n",
      "5500 55% (9m 5s) 1.6480 data/train\\e__54428.csv / a ✗ (e)\n",
      "6000 60% (9m 58s) 1.5597 data/train\\e__54428.csv / a ✗ (e)\n",
      "6500 65% (10m 42s) 1.3107 data/train\\o__10867.csv / u ✗ (o)\n",
      "7000 70% (11m 30s) 1.2773 data/train\\o__42940.csv / u ✗ (o)\n",
      "7500 75% (12m 6s) 1.2769 data/train\\o__42151.csv / u ✗ (o)\n",
      "8000 80% (12m 44s) 1.9247 data/train\\a__36857.csv / o ✗ (a)\n",
      "8500 85% (13m 28s) 1.2907 data/train\\o__07804.csv / u ✗ (o)\n",
      "9000 90% (14m 5s) 0.1799 data/train\\u__89555.csv / u ✓\n",
      "9500 95% (14m 52s) 1.7431 data/train\\u__56673.csv / i ✗ (u)\n",
      "10000 100% (15m 44s) 1.3100 data/train\\e__23515.csv / e ✓\n"
     ]
    }
   ],
   "source": [
    "rnn = RNN(n_features, hidden_size, n_characters).to(device)\n",
    "\n",
    "# loss and optimizer\n",
    "criterion = nn.NLLLoss()\n",
    "optimizer = torch.optim.SGD(rnn.parameters(), lr=learning_rate)\n",
    "\n",
    "current_loss = 0\n",
    "all_losses = []\n",
    "\n",
    "plot_steps, print_steps = 100, 500\n",
    "n_iters = 10000\n",
    "\n",
    "print_every = 500\n",
    "plot_every = 100\n",
    "n_iters = 10000\n",
    "\n",
    "def timeSince(since):\n",
    "    now = time.time()\n",
    "    s = now - since\n",
    "    m = math.floor(s / 60)\n",
    "    s -= m * 60\n",
    "    return '%dm %ds' % (m, s)\n",
    "\n",
    "start = time.time()\n",
    "\n",
    "for i in range(1, n_iters + 1):\n",
    "    character, file, character_tensor, file_tensor = random_training_example(character_files, all_characters)\n",
    "    output, loss = train(file_tensor.to(device), character_tensor.to(device))\n",
    "    current_loss += loss\n",
    "    \n",
    "    # Print iter number, loss, name and guess\n",
    "    if i % print_every == 0:\n",
    "        guess = character_from_output(output)\n",
    "        correct = '✓' if guess == character else '✗ (%s)' % character\n",
    "        print('%d %d%% (%s) %.4f %s / %s %s' % (i, i / n_iters * 100, timeSince(start), loss, file, guess, correct))\n",
    "\n",
    "    # Add current loss avg to list of losses\n",
    "    if i % plot_every == 0:\n",
    "        all_losses.append(current_loss / plot_every)\n",
    "        current_loss = 0"
   ]
  },
  {
   "cell_type": "markdown",
   "id": "partial-bronze",
   "metadata": {},
   "source": [
    "## Plot der LOSS-Funktion"
   ]
  },
  {
   "cell_type": "code",
   "execution_count": 4,
   "id": "unexpected-speaker",
   "metadata": {},
   "outputs": [
    {
     "data": {
      "image/png": "[encoded data removed]",
      "text/plain": [
       "<Figure size 864x432 with 1 Axes>"
      ]
     },
     "metadata": {},
     "output_type": "display_data"
    }
   ],
   "source": [
    "# Erstellung der Figure zur Ausgabe vom Loss\n",
    "mpl.style.use(\"seaborn-whitegrid\")\n",
    "plt.figure(figsize=(12,6))\n",
    "# Erzeugung des Plots\n",
    "plt.plot(all_losses)\n",
    "# Bezeichnungen\n",
    "plt.title(\"LOSS\", fontsize=20)\n",
    "plt.xlabel(\"iterations\", fontsize=15)\n",
    "plt.ylabel(\"loss\", fontsize=15)\n",
    "# Plot anzeigen\n",
    "plt.show()"
   ]
  },
  {
   "cell_type": "markdown",
   "id": "infinite-tonight",
   "metadata": {},
   "source": [
    "## Speichern des Models"
   ]
  },
  {
   "cell_type": "code",
   "execution_count": 5,
   "id": "greatest-gregory",
   "metadata": {},
   "outputs": [],
   "source": [
    "FILE = \"main.pth\"\n",
    "torch.save(rnn.state_dict(), FILE)"
   ]
  },
  {
   "cell_type": "markdown",
   "id": "awful-metropolitan",
   "metadata": {},
   "source": [
    "## Laden des Models"
   ]
  },
  {
   "cell_type": "code",
   "execution_count": null,
   "id": "dress-service",
   "metadata": {},
   "outputs": [],
   "source": [
    "loaded_model = RNN(n_features, hidden_size, n_characters)\n",
    "loaded_model.load_state_dict(torch.load(FILE))\n",
    "loaded_model.eval()"
   ]
  },
  {
   "cell_type": "markdown",
   "id": "polyphonic-geometry",
   "metadata": {},
   "source": [
    "## Accuracy bestimmmen"
   ]
  },
  {
   "cell_type": "code",
   "execution_count": 11,
   "id": "traditional-newport",
   "metadata": {},
   "outputs": [
    {
     "name": "stdout",
     "output_type": "stream",
     "text": [
      "accuracy = 46.15 %\n"
     ]
    }
   ],
   "source": [
    "# load dataset\n",
    "character_files, all_characters = load_data(subfolder=\"test\")\n",
    "\n",
    "with torch.no_grad():\n",
    "    n_correct = 0\n",
    "    n_samples = 0\n",
    "    \n",
    "    # alle Testdaten auswerten\n",
    "    for character in all_characters:\n",
    "        # alle Testdateien eines Characters\n",
    "        for file in character_files[character]:\n",
    "            file_tensor = file_to_tensor(file).to(device)\n",
    "            hidden = rnn.init_hidden()\n",
    "            # über seq_lenght iterieren um letzen output zu bekommen\n",
    "            for i in range(file_tensor.size()[0]):\n",
    "                output, hidden = rnn(file_tensor[i], hidden)\n",
    "            \n",
    "            guess = character_from_output(output)\n",
    "            n_samples += 1\n",
    "            if guess == character:\n",
    "                n_correct += 1\n",
    "    \n",
    "    acc = 100.0 * n_correct / n_samples # Genauigkeit in % \n",
    "    print(f\"accuracy = {acc:.2f} %\")"
   ]
  },
  {
   "cell_type": "code",
   "execution_count": null,
   "id": "coordinated-cambridge",
   "metadata": {},
   "outputs": [],
   "source": []
  }
 ],
 "metadata": {
  "kernelspec": {
   "display_name": "Python 3",
   "language": "python",
   "name": "python3"
  },
  "language_info": {
   "codemirror_mode": {
    "name": "ipython",
    "version": 3
   },
   "file_extension": ".py",
   "mimetype": "text/x-python",
   "name": "python",
   "nbconvert_exporter": "python",
   "pygments_lexer": "ipython3",
   "version": "3.8.5"
  }
 },
 "nbformat": 4,
 "nbformat_minor": 5
}
