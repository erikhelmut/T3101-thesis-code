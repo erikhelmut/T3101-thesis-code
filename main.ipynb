{
 "cells": [
  {
   "cell_type": "markdown",
   "id": "mysterious-telling",
   "metadata": {},
   "source": [
    "# RNN for japanese character classification"
   ]
  },
  {
   "cell_type": "code",
   "execution_count": 3,
   "id": "native-specific",
   "metadata": {},
   "outputs": [
    {
     "name": "stdout",
     "output_type": "stream",
     "text": [
      "499 4.99 1.6191 data/train\\a__98589.csv / i WRONG (a)\n",
      "999 9.99 1.3577 data/train\\e__86396.csv / e CORRECT\n",
      "1499 14.99 nan data/train\\e__32221.csv / a WRONG (e)\n",
      "1999 19.99 nan data/train\\i__41794.csv / a WRONG (i)\n",
      "2499 24.990000000000002 nan data/train\\i__28157.csv / a WRONG (i)\n",
      "2999 29.99 nan data/train\\u__71491.csv / a WRONG (u)\n",
      "3499 34.99 nan data/train\\a__77402.csv / a CORRECT\n",
      "3999 39.989999999999995 nan data/train\\u__56673.csv / a WRONG (u)\n",
      "4499 44.99 nan data/train\\u__96031.csv / a WRONG (u)\n",
      "4999 49.99 nan data/train\\e__86396.csv / a WRONG (e)\n",
      "5499 54.99000000000001 nan data/train\\e__19736.csv / a WRONG (e)\n",
      "5999 59.99 nan data/train\\o__08016.csv / a WRONG (o)\n",
      "6499 64.99000000000001 nan data/train\\o__48681.csv / a WRONG (o)\n",
      "6999 69.99 nan data/train\\u__71491.csv / a WRONG (u)\n",
      "7499 74.99 nan data/train\\a__02621.csv / a CORRECT\n",
      "7999 79.99000000000001 nan data/train\\o__08016.csv / a WRONG (o)\n",
      "8499 84.99 nan data/train\\e__54428.csv / a WRONG (e)\n",
      "8999 89.99000000000001 nan data/train\\o__54442.csv / a WRONG (o)\n",
      "9499 94.99 nan data/train\\a__28749.csv / a CORRECT\n",
      "9999 99.99 nan data/train\\u__54667.csv / a WRONG (u)\n"
     ]
    },
    {
     "data": {
      "image/png": "[encoded data removed]",
      "text/plain": [
       "<Figure size 432x288 with 1 Axes>"
      ]
     },
     "metadata": {
      "needs_background": "light"
     },
     "output_type": "display_data"
    }
   ],
   "source": [
    "import torch\n",
    "import torch.nn as nn\n",
    "import matplotlib.pyplot as plt\n",
    "%matplotlib inline\n",
    "\n",
    "from utils import load_data, file_to_tensor, character_to_tensor, random_training_example\n",
    "\n",
    "class RNN(nn.Module):\n",
    "    \n",
    "    def __init__(self, input_size, hidden_size, output_size):\n",
    "        super(RNN, self).__init__()\n",
    "        \n",
    "        self.hidden_size = hidden_size\n",
    "        self.i2h = nn.Linear(input_size + hidden_size, hidden_size)\n",
    "        self.i2o = nn.Linear(input_size + hidden_size, output_size)\n",
    "        self.softmax = nn.LogSoftmax(dim=1)\n",
    "        \n",
    "    def forward(self, input_tensor, hidden_tensor):\n",
    "        combined = torch.cat((input_tensor, hidden_tensor), 1)\n",
    "        \n",
    "        hidden = self.i2h(combined)\n",
    "        output = self.i2o(combined)\n",
    "        output = self.softmax(output)\n",
    "        return output, hidden\n",
    "    \n",
    "    def init_hidden(self):\n",
    "        return torch.zeros(1, self.hidden_size)\n",
    "    \n",
    "character_files, all_characters = load_data()\n",
    "n_characters = len(all_characters)\n",
    "\n",
    "n_features = 3 # x,y,z\n",
    "n_hidden = 128\n",
    "\n",
    "\n",
    "rnn = RNN(n_features, n_hidden, n_characters)\n",
    "\n",
    "\n",
    "def character_from_output(output):\n",
    "    character_idx = torch.argmax(output).item()\n",
    "    return all_characters[character_idx]\n",
    "\n",
    "criterion = nn.NLLLoss()\n",
    "learning_rate = 0.005\n",
    "optimizer = torch.optim.SGD(rnn.parameters(), lr=learning_rate)\n",
    "\n",
    "def train(file_tensor, character_tensor):\n",
    "    hidden = rnn.init_hidden()\n",
    "    \n",
    "    # über seq-lenght iterieren\n",
    "    for i in range(file_tensor.size()[0]):\n",
    "        output, hidden = rnn(file_tensor[i], hidden)\n",
    "        \n",
    "    loss = criterion(output, character_tensor)\n",
    "    optimizer.zero_grad()\n",
    "    loss.backward()\n",
    "    optimizer.step()\n",
    "    \n",
    "    return output, loss.item()\n",
    "\n",
    "current_loss = 0\n",
    "all_losses = []\n",
    "\n",
    "plot_steps, print_steps = 100, 500\n",
    "n_iters = 10000\n",
    "\n",
    "for i in range(n_iters):\n",
    "    character, file, character_tensor, file_tensor = random_training_example(character_files, all_characters)\n",
    "    output, loss = train(file_tensor, character_tensor)\n",
    "    current_loss += loss\n",
    "    \n",
    "    if (i+1) % plot_steps == 0:\n",
    "        all_losses.append(current_loss / plot_steps)\n",
    "        current_loss = 0\n",
    "        \n",
    "    if (i+1) % print_steps == 0:\n",
    "        guess = character_from_output(output)\n",
    "        correct = \"CORRECT\" if guess == character else f\"WRONG ({character})\"\n",
    "        print(f\"{i} {i/n_iters*100} {loss:.4f} {file} / {guess} {correct}\")\n",
    "        \n",
    "plt.figure()\n",
    "plt.plot(all_losses)\n",
    "plt.show()"
   ]
  },
  {
   "cell_type": "code",
   "execution_count": null,
   "id": "english-peripheral",
   "metadata": {},
   "outputs": [],
   "source": []
  }
 ],
 "metadata": {
  "kernelspec": {
   "display_name": "Python 3",
   "language": "python",
   "name": "python3"
  },
  "language_info": {
   "codemirror_mode": {
    "name": "ipython",
    "version": 3
   },
   "file_extension": ".py",
   "mimetype": "text/x-python",
   "name": "python",
   "nbconvert_exporter": "python",
   "pygments_lexer": "ipython3",
   "version": "3.8.5"
  }
 },
 "nbformat": 4,
 "nbformat_minor": 5
}
