{
 "cells": [
  {
   "cell_type": "markdown",
   "id": "qualified-bench",
   "metadata": {},
   "source": [
    "# RNN for japanese character classification"
   ]
  },
  {
   "cell_type": "code",
   "execution_count": 1,
   "id": "accompanied-alexandria",
   "metadata": {},
   "outputs": [],
   "source": [
    "import time\n",
    "import math\n",
    "import random\n",
    "\n",
    "import os\n",
    "import glob\n",
    "import csv\n",
    "\n",
    "import torch\n",
    "import torch.nn as nn\n",
    "\n",
    "import matplotlib as mpl\n",
    "import matplotlib.pyplot as plt\n",
    "%matplotlib inline\n",
    "\n",
    "device = torch.device(\"cuda\" if torch.cuda.is_available() else \"cpu\")"
   ]
  },
  {
   "source": [
    "## Preparing the data"
   ],
   "cell_type": "markdown",
   "metadata": {}
  },
  {
   "cell_type": "code",
   "execution_count": null,
   "metadata": {},
   "outputs": [],
   "source": [
    "def load_data(subfolder=\"train\"):\n",
    "    \n",
    "    \"\"\"\n",
    "    load_data() -> Dictionary, List\n",
    "    \n",
    "    Returns a dictionary filled with characters as keys and a list with file-paths as values.\n",
    "        Returns a list with all found characters.\n",
    "    \n",
    "    Keywords:\n",
    "        subfolder - \"train\" oder \"test\". Default: \"train\"\n",
    "    \"\"\"\n",
    "    \n",
    "    # initialize dictionary and lists\n",
    "    character_files = {}\n",
    "    all_characters = []\n",
    "    all_files = []\n",
    "    \n",
    "    # search files in path\n",
    "    def find_files(path):\n",
    "        return glob.glob(path)\n",
    "    \n",
    "    for filename in find_files(\"data/\"+subfolder+\"/*csv\"):\n",
    "        # get character from filename\n",
    "        character = os.path.splitext(os.path.basename(filename))[0][0]\n",
    "        \n",
    "        # collect all characters\n",
    "        if (character in all_characters) == False:\n",
    "            all_characters.append(character)\n",
    "        \n",
    "        # expand lists in dictionary for character (key)\n",
    "        character_files.setdefault(character, []).append(filename)\n",
    "    \n",
    "    return character_files, all_characters\n",
    "        \n",
    "    \n",
    "def file_to_tensor(file, batch=1, input_size=3):\n",
    "    \n",
    "    \"\"\"\n",
    "    file_to_tensor(file, batch=1, input_size=3) -> Tensor\n",
    "    \n",
    "    Returns a tensor of shape (seq_len, batch, input_size).\n",
    "    \n",
    "    Keywords:\n",
    "        file - e.g. \"data/train\\\\a__02621.csv\"\n",
    "        batch - total number of training examples present in a single batch\n",
    "        input_size - the number of expected features in the input x\n",
    "    \"\"\"\n",
    "    \n",
    "    # initialize lists for acceleration data\n",
    "    x_acc = []\n",
    "    y_acc = []\n",
    "    z_acc = []\n",
    "\n",
    "    with open(file, newline=\"\") as csvdatei:\n",
    "        # add rows as string to list\n",
    "        csv_reader_object = csv.reader(csvdatei, delimiter=\",\")\n",
    "\n",
    "        # ground truth and identifier\n",
    "        gt, idf = csvdatei.name.split(\"__\")\n",
    "        # ground truth = last character\n",
    "        gt = gt[-1]\n",
    "        # identifier without \".csv\" as integer\n",
    "        idf = int(idf[0:-4])\n",
    "        \n",
    "        # append list with acceleration data\n",
    "        for row in csv_reader_object:\n",
    "            cal, x, y, z = row[0].split(\";\")\n",
    "            # cal = 1 --> calibration completed\n",
    "            if cal == \"1\":\n",
    "                x_acc.append(float(x))\n",
    "                y_acc.append(float(y))\n",
    "                z_acc.append(float(z))\n",
    "                \n",
    "        # get sequence length\n",
    "        seq_len = len(x_acc)\n",
    "        \n",
    "        # create empty tensor\n",
    "        tensor = torch.zeros(seq_len, batch, input_size, dtype=torch.float32)\n",
    "        \n",
    "        # fill tensor\n",
    "        for i in range(seq_len):\n",
    "            tensor[i][0][0] = x_acc[i]\n",
    "            tensor[i][0][1] = y_acc[i]\n",
    "            tensor[i][0][2] = z_acc[i]\n",
    "        \n",
    "    return tensor\n",
    "\n",
    "\n",
    "def character_to_tensor(all_characters, character):\n",
    "    \n",
    "    \"\"\"\n",
    "    character_to_tensor(all_characters, character) -> Tensor\n",
    "    \n",
    "    Returns a one-hot encoded tensor of shape <1 x n_characters>.\n",
    "        Tensor represents given character.\n",
    "        \n",
    "    Keywords:\n",
    "        all_characters - list with all characters\n",
    "        character - character that will be one-hot encoded\n",
    "    \"\"\"\n",
    "    \n",
    "    # number of all characters\n",
    "    n_characters = len(all_characters)\n",
    "    # create empty tensor\n",
    "    tensor = torch.zeros(1, n_characters)\n",
    "    # label of character in tensor\n",
    "    tensor[0][all_characters.index(character)] = 1\n",
    "    \n",
    "    return tensor\n",
    "    \n",
    "    \n",
    "def random_training_example(character_files, all_characters):\n",
    "    \n",
    "    \"\"\"\n",
    "    random_training_example(character_files, all_characters) -> String, String, Tensor, Tensor\n",
    "    \n",
    "    Returns a random training example. Character and file as string,\n",
    "        character-label and whole file as tensor.\n",
    "        \n",
    "    Keywords:\n",
    "        character_files - dictionary filled with characters as keys and\n",
    "            a list with file-paths as values\n",
    "        all_characters - list with all characters     \n",
    "    \"\"\"\n",
    "    \n",
    "    # get random value from list\n",
    "    def random_choice(a):\n",
    "        random_idx = random.randint(0, len(a) - 1)\n",
    "        return a[random_idx]\n",
    "        \n",
    "    # random character\n",
    "    character = random_choice(all_characters)\n",
    "    # random file from selected character\n",
    "    file = random_choice(character_files[character])\n",
    "    # label as tensor; dtype = 64-bit integer\n",
    "    character_tensor = torch.tensor([all_characters.index(character)], dtype=torch.long)\n",
    "    # transformation file to tensor\n",
    "    file_tensor = file_to_tensor(file)\n",
    "    \n",
    "    return character, file, character_tensor, file_tensor"
   ]
  },
  {
   "cell_type": "markdown",
   "id": "amber-square",
   "metadata": {},
   "source": [
    "## Define network structure"
   ]
  },
  {
   "cell_type": "code",
   "execution_count": 2,
   "id": "literary-customer",
   "metadata": {},
   "outputs": [],
   "source": [
    "class RNN(nn.Module):\n",
    "    \n",
    "    def __init__(self, input_size, hidden_size, output_size):\n",
    "        super(RNN, self).__init__()\n",
    "        self.hidden_size = hidden_size\n",
    "        \n",
    "        # input to hidden\n",
    "        self.i2h = nn.Linear(input_size + hidden_size, hidden_size)\n",
    "        # input to output\n",
    "        self.i2o = nn.Linear(input_size + hidden_size, output_size)\n",
    "        self.softmax = nn.LogSoftmax(dim=1)\n",
    "        \n",
    "    def forward(self, input_tensor, hidden_tensor):\n",
    "        # combine along first dimension\n",
    "        combined = torch.cat((input_tensor, hidden_tensor), 1)\n",
    "        \n",
    "        hidden = self.i2h(combined)\n",
    "        output = self.i2o(combined)\n",
    "        output = self.softmax(output)\n",
    "        return output, hidden\n",
    "    \n",
    "    def init_hidden(self):\n",
    "        # initialize hidden-state\n",
    "        return torch.zeros(1, self.hidden_size)"
   ]
  },
  {
   "cell_type": "markdown",
   "id": "honey-ebony",
   "metadata": {},
   "source": [
    "## Define helper functions for neural network's training"
   ]
  },
  {
   "cell_type": "code",
   "execution_count": 3,
   "id": "anticipated-secret",
   "metadata": {},
   "outputs": [],
   "source": [
    "def train(file_tensor, character_tensor):\n",
    "    hidden = rnn.init_hidden()\n",
    "    \n",
    "    # iterate over seq_lenght to get last output\n",
    "    for i in range(file_tensor.size()[0]):\n",
    "        output, hidden = rnn(file_tensor[i], hidden)\n",
    "        \n",
    "    loss = criterion(output, character_tensor)\n",
    "    optimizer.zero_grad()\n",
    "    loss.backward()\n",
    "    optimizer.step()\n",
    "    \n",
    "    return output, loss.item()\n",
    "\n",
    "def character_from_output(output):\n",
    "    character_idx = torch.argmax(output).item()\n",
    "    return all_characters[character_idx]"
   ]
  },
  {
   "cell_type": "markdown",
   "id": "organic-latvia",
   "metadata": {},
   "source": [
    "## Defining hyperparameters of neural network's training"
   ]
  },
  {
   "cell_type": "code",
   "execution_count": 5,
   "id": "liked-breath",
   "metadata": {},
   "outputs": [],
   "source": [
    "# load train dataset\n",
    "character_files, all_characters = load_data(subfolder=\"train\")\n",
    "\n",
    "n_features = 3 # input_size -> x_acc, y_acc, z_acc\n",
    "n_characters = len(all_characters) # output_size\n",
    "hidden_size = 128\n",
    "\n",
    "learning_rate = 0.0005"
   ]
  },
  {
   "cell_type": "markdown",
   "id": "stunning-perfume",
   "metadata": {},
   "source": [
    "## Start training loop"
   ]
  },
  {
   "cell_type": "code",
   "execution_count": 6,
   "id": "typical-integration",
   "metadata": {},
   "outputs": [
    {
     "name": "stdout",
     "output_type": "stream",
     "text": [
      "500 5% (0m 51s) 1.6594 data/train\\a__36857.csv / o ✗ (a)\n",
      "1000 10% (1m 39s) 1.4980 data/train\\e__11863.csv / e ✓\n",
      "1500 15% (2m 26s) 1.6360 data/train\\a__77402.csv / e ✗ (a)\n",
      "2000 20% (3m 12s) 1.5715 data/train\\i__97008.csv / i ✓\n",
      "2500 25% (4m 1s) 1.5985 data/train\\a__55697.csv / e ✗ (a)\n",
      "3000 30% (4m 48s) 1.5387 data/train\\e__06730.csv / e ✓\n",
      "3500 35% (5m 40s) 1.6272 data/train\\a__98589.csv / i ✗ (a)\n",
      "4000 40% (6m 25s) 1.4811 data/train\\o__10867.csv / u ✗ (o)\n",
      "4500 45% (7m 12s) 1.6307 data/train\\e__21613.csv / u ✗ (e)\n",
      "5000 50% (7m 59s) 1.6109 data/train\\i__54477.csv / u ✗ (i)\n",
      "5500 55% (8m 42s) 1.3729 data/train\\o__54087.csv / o ✓\n",
      "6000 60% (9m 16s) 1.5706 data/train\\i__02369.csv / o ✗ (i)\n",
      "6500 65% (9m 50s) 1.5323 data/train\\a__98589.csv / u ✗ (a)\n",
      "7000 70% (10m 24s) 1.0280 data/train\\u__18784.csv / u ✓\n",
      "7500 75% (10m 58s) 0.7588 data/train\\u__06655.csv / u ✓\n",
      "8000 80% (11m 32s) 0.7165 data/train\\u__27434.csv / u ✓\n",
      "8500 85% (12m 6s) 1.6256 data/train\\u__56673.csv / i ✗ (u)\n",
      "9000 90% (12m 45s) 1.4686 data/train\\i__22628.csv / u ✗ (i)\n",
      "9500 95% (13m 19s) 1.3744 data/train\\i__35733.csv / o ✗ (i)\n",
      "10000 100% (13m 52s) 1.3808 data/train\\a__23126.csv / o ✗ (a)\n"
     ]
    }
   ],
   "source": [
    "# initialize neural network\n",
    "rnn = RNN(n_features, hidden_size, n_characters).to(device)\n",
    "\n",
    "# loss and optimizer\n",
    "criterion = nn.NLLLoss()\n",
    "optimizer = torch.optim.SGD(rnn.parameters(), lr=learning_rate)\n",
    "\n",
    "current_loss = 0\n",
    "all_losses = []\n",
    "\n",
    "print_every = 500\n",
    "plot_every = 100\n",
    "n_iters = 10000\n",
    "\n",
    "def timeSince(since):\n",
    "    now = time.time()\n",
    "    s = now - since\n",
    "    m = math.floor(s / 60)\n",
    "    s -= m * 60\n",
    "    return '%dm %ds' % (m, s)\n",
    "\n",
    "start = time.time()\n",
    "\n",
    "for i in range(1, n_iters + 1):\n",
    "    character, file, character_tensor, file_tensor = random_training_example(character_files, all_characters)\n",
    "    output, loss = train(file_tensor.to(device), character_tensor.to(device))\n",
    "    current_loss += loss\n",
    "    \n",
    "    # print iter number, loss, name and guess\n",
    "    if i % print_every == 0:\n",
    "        guess = character_from_output(output)\n",
    "        correct = '✓' if guess == character else '✗ (%s)' % character\n",
    "        print('%d %d%% (%s) %.4f %s / %s %s' % (i, i / n_iters * 100, timeSince(start), loss, file, guess, correct))\n",
    "\n",
    "    # add current loss avg to list of losses\n",
    "    if i % plot_every == 0:\n",
    "        all_losses.append(current_loss / plot_every)\n",
    "        current_loss = 0"
   ]
  },
  {
   "cell_type": "markdown",
   "id": "fifth-pioneer",
   "metadata": {},
   "source": [
    "## Plot LOSS-function"
   ]
  },
  {
   "cell_type": "code",
   "execution_count": 7,
   "id": "express-masters",
   "metadata": {},
   "outputs": [
    {
     "data": {
      "image/png": "[encoded data removed]",
      "text/plain": [
       "<Figure size 864x432 with 1 Axes>"
      ]
     },
     "metadata": {},
     "output_type": "display_data"
    }
   ],
   "source": [
    "# create figure\n",
    "mpl.style.use(\"seaborn-whitegrid\")\n",
    "plt.figure(figsize=(12,6))\n",
    "# create plot\n",
    "plt.plot(all_losses)\n",
    "# title and labels\n",
    "plt.title(\"LOSS\", fontsize=20)\n",
    "plt.xlabel(\"iterations\", fontsize=15)\n",
    "plt.ylabel(\"loss\", fontsize=15)\n",
    "# show plot\n",
    "plt.show()"
   ]
  },
  {
   "cell_type": "markdown",
   "id": "parallel-extent",
   "metadata": {},
   "source": [
    "## Save model"
   ]
  },
  {
   "cell_type": "code",
   "execution_count": 8,
   "id": "athletic-republican",
   "metadata": {},
   "outputs": [],
   "source": [
    "FILE = \"main.pth\"\n",
    "torch.save(rnn.state_dict(), FILE)"
   ]
  },
  {
   "cell_type": "markdown",
   "id": "coordinated-render",
   "metadata": {},
   "source": [
    "## Load model"
   ]
  },
  {
   "cell_type": "code",
   "execution_count": null,
   "id": "heavy-spending",
   "metadata": {},
   "outputs": [],
   "source": [
    "loaded_model = RNN(n_features, hidden_size, n_characters)\n",
    "loaded_model.load_state_dict(torch.load(FILE))\n",
    "loaded_model.eval()"
   ]
  },
  {
   "cell_type": "markdown",
   "id": "efficient-annex",
   "metadata": {},
   "source": [
    "## Determine accuracy"
   ]
  },
  {
   "cell_type": "code",
   "execution_count": 9,
   "id": "educational-foster",
   "metadata": {},
   "outputs": [
    {
     "name": "stdout",
     "output_type": "stream",
     "text": [
      "accuracy = 76.92 %\n"
     ]
    }
   ],
   "source": [
    "# load test dataset\n",
    "character_files, all_characters = load_data(subfolder=\"test\")\n",
    "\n",
    "with torch.no_grad():\n",
    "    n_correct = 0\n",
    "    n_samples = 0\n",
    "    \n",
    "    for character in all_characters:\n",
    "        # all files from one character\n",
    "        for file in character_files[character]:\n",
    "            file_tensor = file_to_tensor(file).to(device)\n",
    "            hidden = rnn.init_hidden()\n",
    "            # iterate over seq_lenght to get last output\n",
    "            for i in range(file_tensor.size()[0]):\n",
    "                output, hidden = rnn(file_tensor[i], hidden)\n",
    "            \n",
    "            guess = character_from_output(output)\n",
    "            n_samples += 1\n",
    "            if guess == character:\n",
    "                n_correct += 1\n",
    "    \n",
    "    acc = 100.0 * n_correct / n_samples\n",
    "    print(f\"accuracy = {acc:.2f} %\")"
   ]
  },
  {
   "cell_type": "code",
   "execution_count": null,
   "id": "mental-depression",
   "metadata": {},
   "outputs": [],
   "source": []
  }
 ],
 "metadata": {
  "kernelspec": {
   "display_name": "Python 3",
   "language": "python",
   "name": "python3"
  },
  "language_info": {
   "codemirror_mode": {
    "name": "ipython",
    "version": 3
   },
   "file_extension": ".py",
   "mimetype": "text/x-python",
   "name": "python",
   "nbconvert_exporter": "python",
   "pygments_lexer": "ipython3",
   "version": "3.8.5"
  }
 },
 "nbformat": 4,
 "nbformat_minor": 5
}