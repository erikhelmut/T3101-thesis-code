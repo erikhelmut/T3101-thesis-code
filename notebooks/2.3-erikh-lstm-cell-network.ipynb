{
 "cells": [
  {
   "cell_type": "markdown",
   "id": "behind-control",
   "metadata": {
    "id": "grave-termination"
   },
   "source": [
    "# RNN with LSTMCell for japanese character classification"
   ]
  },
  {
   "cell_type": "code",
   "execution_count": 1,
   "id": "different-horizon",
   "metadata": {
    "colab": {
     "base_uri": "https://localhost:8080/"
    },
    "id": "expanded-advice",
    "outputId": "9c0b2a6b-ed14-4040-8cf1-dd791fe0a311"
   },
   "outputs": [
    {
     "name": "stdout",
     "output_type": "stream",
     "text": [
      "Mounted at /content/gdrive\n",
      "/content/gdrive/My Drive/Colab Notebooks\n",
      "/content/gdrive/My Drive/Colab Notebooks/japanese-character-classification\n",
      "Already up to date.\n"
     ]
    }
   ],
   "source": [
    "from google.colab import drive, files\n",
    "import os\n",
    "drive.mount(\"/content/gdrive\")\n",
    "%cd gdrive/My Drive/Colab\\ Notebooks/\n",
    "if not os.path.exists('japanese-character-classification'):\n",
    "    !git clone https://github.com/erikhelmut/japanese-character-classification.git\n",
    "    %cd japanese-character-classification/notebooks/\n",
    "else:\n",
    "    %cd japanese-character-classification/notebooks/\n",
    "    !git pull\n",
    "#%pip install -r requirements.txt"
   ]
  },
  {
   "cell_type": "code",
   "execution_count": 1,
   "id": "surrounded-timing",
   "metadata": {
    "colab": {
     "base_uri": "https://localhost:8080/"
    },
    "id": "applied-sustainability",
    "outputId": "5aab74d2-b247-4941-9f74-9029a4e9b8b0"
   },
   "outputs": [
    {
     "name": "stdout",
     "output_type": "stream",
     "text": [
      "cpu\n"
     ]
    }
   ],
   "source": [
    "import time\n",
    "import math\n",
    "import random\n",
    "\n",
    "import sys\n",
    "import inspect\n",
    "import os\n",
    "import glob\n",
    "import csv\n",
    "\n",
    "import torch\n",
    "import torch.nn as nn\n",
    "\n",
    "import matplotlib as mpl\n",
    "import matplotlib.pyplot as plt\n",
    "import matplotlib.ticker as ticker\n",
    "%matplotlib inline\n",
    "\n",
    "currentdir = os.path.dirname(os.path.abspath(inspect.getfile(inspect.currentframe())))\n",
    "parentdir = os.path.dirname(currentdir)\n",
    "sys.path.insert(0,parentdir)\n",
    "\n",
    "from src.data.build_features import load_data, file_to_tensor, character_to_tensor, random_training_example\n",
    "\n",
    "device = torch.device(\"cuda\" if torch.cuda.is_available() else \"cpu\")\n",
    "print(device)"
   ]
  },
  {
   "cell_type": "markdown",
   "id": "fitted-payment",
   "metadata": {
    "id": "stuffed-contract"
   },
   "source": [
    "## Defining network structure"
   ]
  },
  {
   "cell_type": "code",
   "execution_count": 2,
   "id": "ancient-representative",
   "metadata": {
    "id": "convenient-balance"
   },
   "outputs": [],
   "source": [
    "class RNN(nn.Module):\n",
    "    \n",
    "    def __init__(self, input_size, hidden_size, n_characters):\n",
    "        super(RNN, self).__init__()\n",
    "        self.hidden_size = hidden_size\n",
    "        \n",
    "        self.lstmcell = nn.LSTMCell(input_size, hidden_size, bias=True)\n",
    "\n",
    "        self.fc = nn.Linear(hidden_size, n_characters)\n",
    "        self.softmax = nn.LogSoftmax(dim=1)\n",
    "        \n",
    "    def forward(self, x, h0, c0):      \n",
    "        # x-tensor of shape (batch, input_size)\n",
    "        h1, c1 = self.lstmcell(x, (h0,c0))\n",
    "        \n",
    "        # h1-tensor of shape (batch, hidden_size)\n",
    "        out = self.fc(h1)\n",
    "        out = self.softmax(out)\n",
    "\n",
    "        return out, h1, c1\n",
    "\n",
    "    def init_hidden(self):\n",
    "        # initial hidden - & cell-state\n",
    "        # batch_size = 1\n",
    "        h0 = torch.zeros(1, self.hidden_size).to(device)\n",
    "        c0 = torch.zeros(1, self.hidden_size).to(device)\n",
    "\n",
    "        return h0, c0"
   ]
  },
  {
   "cell_type": "markdown",
   "id": "associate-morrison",
   "metadata": {
    "id": "measured-johnston"
   },
   "source": [
    "## Define helper functions for neural network's training"
   ]
  },
  {
   "cell_type": "code",
   "execution_count": 3,
   "id": "formed-minister",
   "metadata": {
    "id": "abroad-certification"
   },
   "outputs": [],
   "source": [
    "def train(file_tensor, character_tensor):\n",
    "    hidden, cell = model.init_hidden()\n",
    "    hidden = hidden.to(device)\n",
    "    cell = cell.to(device)\n",
    "\n",
    "    # iterate over seq_lenght to get last output\n",
    "    for i in range(file_tensor.size()[0]):\n",
    "        output, hidden, cell = model(file_tensor[i], hidden, cell)\n",
    "        output = output.to(device)\n",
    "        hidden = hidden.to(device)\n",
    "        cell = cell.to(device)\n",
    "\n",
    "    #output = model(file_tensor)\n",
    "    loss = criterion(output, character_tensor)\n",
    "    \n",
    "    optimizer.zero_grad()\n",
    "    loss.backward()\n",
    "    optimizer.step()\n",
    "    \n",
    "    return output, loss.item()\n",
    "\n",
    "def character_from_output(output):\n",
    "    character_idx = torch.argmax(output).item()\n",
    "    return all_characters[character_idx]"
   ]
  },
  {
   "cell_type": "markdown",
   "id": "aware-flood",
   "metadata": {
    "id": "adverse-communist"
   },
   "source": [
    "## Defining hyperparameters of neural network's training"
   ]
  },
  {
   "cell_type": "code",
   "execution_count": 4,
   "id": "premier-arcade",
   "metadata": {
    "id": "rapid-corruption"
   },
   "outputs": [],
   "source": [
    "# load train dataset\n",
    "character_files, all_characters = load_data(path=\"../data/train/\")\n",
    "\n",
    "# hyper parameters\n",
    "input_size = 3 # features: x_acc, y_acc, z_acc\n",
    "n_characters = len(all_characters) # output_size\n",
    "hidden_size = 128\n",
    "n_layers = 1\n",
    "\n",
    "learning_rate = 0.005"
   ]
  },
  {
   "cell_type": "markdown",
   "id": "efficient-metro",
   "metadata": {
    "id": "graduate-island"
   },
   "source": [
    "## Start training loop"
   ]
  },
  {
   "cell_type": "code",
   "execution_count": 6,
   "id": "functional-boating",
   "metadata": {
    "colab": {
     "base_uri": "https://localhost:8080/"
    },
    "id": "optional-hebrew",
    "outputId": "a3368a1d-86ee-4ec9-c2e0-aaea85bafd70"
   },
   "outputs": [
    {
     "name": "stdout",
     "output_type": "stream",
     "text": [
      "5000 10% (6m 16s) 1.1827 ../data/train/o__31750.csv / u ✗ (o)\n",
      "10000 20% (11m 57s) 0.9151 ../data/train/o__45723.csv / o ✓\n",
      "15000 30% (17m 38s) 0.6819 ../data/train/o__54442.csv / o ✓\n",
      "20000 40% (23m 14s) 0.6977 ../data/train/u__74597.csv / u ✓\n",
      "25000 50% (29m 5s) 0.0808 ../data/train/o__42940.csv / o ✓\n",
      "30000 60% (34m 56s) 0.0328 ../data/train/u__96031.csv / u ✓\n",
      "35000 70% (40m 47s) 0.0033 ../data/train/e__28466.csv / e ✓\n",
      "40000 80% (46m 30s) 0.6270 ../data/train/u__89555.csv / u ✓\n",
      "45000 90% (52m 19s) 1.1906 ../data/train/u__92199.csv / o ✗ (u)\n",
      "50000 100% (58m 6s) 0.2897 ../data/train/u__71491.csv / u ✓\n"
     ]
    }
   ],
   "source": [
    "# initialize neural network   \n",
    "model = RNN(input_size, hidden_size, n_characters).to(device)\n",
    "\n",
    "# loss and optimizer\n",
    "criterion = nn.NLLLoss()\n",
    "optimizer = torch.optim.SGD(model.parameters(), lr=learning_rate)\n",
    "\n",
    "current_loss = 0\n",
    "all_losses = []\n",
    "\n",
    "print_every = 5000\n",
    "plot_every = 1000\n",
    "n_iters = 50000\n",
    "\n",
    "def timeSince(since):\n",
    "    now = time.time()\n",
    "    s = now - since\n",
    "    m = math.floor(s / 60)\n",
    "    s -= m * 60\n",
    "    return '%dm %ds' % (m, s)\n",
    "\n",
    "start = time.time()\n",
    "\n",
    "for i in range(1, n_iters + 1):\n",
    "    character, file, character_tensor, file_tensor = random_training_example(character_files, all_characters)\n",
    "    output, loss = train(file_tensor.to(device), character_tensor.to(device))\n",
    "    current_loss += loss\n",
    "    \n",
    "    # print iter number, loss, name and guess\n",
    "    if i % print_every == 0:\n",
    "        guess = character_from_output(output)\n",
    "        correct = '✓' if guess == character else '✗ (%s)' % character\n",
    "        print('%d %d%% (%s) %.4f %s / %s %s' % (i, i / n_iters * 100, timeSince(start), loss, file, guess, correct))\n",
    "\n",
    "    # add current loss avg to list of losses\n",
    "    if i % plot_every == 0:\n",
    "        all_losses.append(current_loss / plot_every)\n",
    "        current_loss = 0"
   ]
  },
  {
   "cell_type": "markdown",
   "id": "public-stack",
   "metadata": {
    "id": "spiritual-pollution"
   },
   "source": [
    "## Plot LOSS-function"
   ]
  },
  {
   "cell_type": "code",
   "execution_count": 7,
   "id": "possible-subcommittee",
   "metadata": {
    "colab": {
     "base_uri": "https://localhost:8080/",
     "height": 410
    },
    "id": "careful-initial",
    "outputId": "d3f82fce-1776-413c-a15a-ad5236f34f20"
   },
   "outputs": [
    {
     "data": {
      "image/png": "[encoded data removed]",
      "text/plain": [
       "<Figure size 864x432 with 1 Axes>"
      ]
     },
     "metadata": {
      "tags": []
     },
     "output_type": "display_data"
    }
   ],
   "source": [
    "# create figure\n",
    "mpl.style.use(\"seaborn-whitegrid\")\n",
    "plt.figure(figsize=(12,6))\n",
    "# create plot\n",
    "plt.plot(all_losses)\n",
    "# title and labels\n",
    "plt.title(\"LOSS-function\", fontsize=20)\n",
    "plt.xlabel(\"iterations\", fontsize=15)\n",
    "plt.ylabel(\"loss\", fontsize=15)\n",
    "# show plot\n",
    "plt.show()"
   ]
  },
  {
   "cell_type": "markdown",
   "id": "charged-louisiana",
   "metadata": {
    "id": "instant-squad"
   },
   "source": [
    "## Save model"
   ]
  },
  {
   "cell_type": "code",
   "execution_count": 8,
   "id": "regulation-american",
   "metadata": {
    "id": "fossil-above"
   },
   "outputs": [],
   "source": [
    "%cd ../models/\n",
    "FILE = \"2.3-lstm-cell-network-model.pth\"\n",
    "torch.save(model.state_dict(), FILE)\n",
    "%cd ../notebooks/"
   ]
  },
  {
   "cell_type": "markdown",
   "id": "appropriate-recipe",
   "metadata": {
    "id": "proud-freeware"
   },
   "source": [
    "## Load model"
   ]
  },
  {
   "cell_type": "code",
   "execution_count": 5,
   "id": "liquid-repeat",
   "metadata": {
    "colab": {
     "base_uri": "https://localhost:8080/"
    },
    "id": "assumed-boundary",
    "outputId": "48c4853d-7807-4bce-a3e4-dd4702e29bd5"
   },
   "outputs": [
    {
     "data": {
      "text/plain": [
       "RNN(\n",
       "  (lstmcell): LSTMCell(3, 128)\n",
       "  (fc): Linear(in_features=128, out_features=5, bias=True)\n",
       "  (softmax): LogSoftmax(dim=1)\n",
       ")"
      ]
     },
     "execution_count": 5,
     "metadata": {},
     "output_type": "execute_result"
    }
   ],
   "source": [
    "%cd ../models/\n",
    "FILE = \"2.3-lstm-cell-network-model.pth\"\n",
    "loaded_model = RNN(input_size, hidden_size, n_characters).to(device)\n",
    "loaded_model.load_state_dict(torch.load(FILE, map_location=device))\n",
    "loaded_model.eval()\n",
    "%cd ../notebooks/"
   ]
  },
  {
   "cell_type": "markdown",
   "id": "annoying-fitting",
   "metadata": {
    "id": "homeless-sending"
   },
   "source": [
    "## Determine accuracy"
   ]
  },
  {
   "cell_type": "code",
   "execution_count": 7,
   "id": "loved-death",
   "metadata": {
    "colab": {
     "base_uri": "https://localhost:8080/",
     "height": 773
    },
    "id": "charged-thompson",
    "outputId": "778a1263-6f2c-4b97-a9e4-ead6963ad781"
   },
   "outputs": [
    {
     "name": "stdout",
     "output_type": "stream",
     "text": [
      "characters in test data:  ['a', 'e', 'i', 'o', 'u']\n",
      "../data/test\\a__88470.csv / a ✓\n",
      "../data/test\\a__94789.csv / a ✓\n",
      "../data/test\\a__96486.csv / a ✓\n",
      "../data/test\\a__97545.csv / a ✓\n",
      "../data/test\\a__98539.csv / a ✓\n",
      "../data/test\\e__70433.csv / e ✓\n",
      "../data/test\\e__76682.csv / e ✓\n",
      "../data/test\\e__82254.csv / e ✓\n",
      "../data/test\\e__83191.csv / e ✓\n",
      "../data/test\\e__84585.csv / e ✓\n",
      "../data/test\\i__75461.csv / i ✓\n",
      "../data/test\\i__81833.csv / i ✓\n",
      "../data/test\\i__88644.csv / i ✓\n",
      "../data/test\\i__89095.csv / i ✓\n",
      "../data/test\\i__91889.csv / i ✓\n",
      "../data/test\\o__54903.csv / o ✓\n",
      "../data/test\\o__63253.csv / o ✓\n",
      "../data/test\\o__67824.csv / a ✗ (o)\n",
      "../data/test\\o__72419.csv / o ✓\n",
      "../data/test\\o__76748.csv / o ✓\n",
      "../data/test\\u__81848.csv / u ✓\n",
      "../data/test\\u__82120.csv / a ✗ (u)\n",
      "../data/test\\u__83897.csv / u ✓\n",
      "../data/test\\u__85976.csv / u ✓\n",
      "../data/test\\u__88458.csv / u ✓\n",
      "../data/test\\u__93521.csv / u ✓\n",
      "\n",
      "accuracy = 92.31 %\n",
      "\n"
     ]
    },
    {
     "name": "stderr",
     "output_type": "stream",
     "text": [
      "<ipython-input-7-ea5ba8b87f0e>:55: UserWarning: FixedFormatter should only be used together with FixedLocator\n",
      "  ax.set_xticklabels([''] + all_characters, rotation=90)\n",
      "<ipython-input-7-ea5ba8b87f0e>:56: UserWarning: FixedFormatter should only be used together with FixedLocator\n",
      "  ax.set_yticklabels([''] + all_characters)\n"
     ]
    },
    {
     "data": {
      "image/png": "[encoded data removed]",
      "text/plain": [
       "<Figure size 432x288 with 2 Axes>"
      ]
     },
     "metadata": {
      "needs_background": "light"
     },
     "output_type": "display_data"
    }
   ],
   "source": [
    "# load test dataset\n",
    "character_files, all_characters = load_data(path=\"../data/test/\")\n",
    "print(\"characters in test data: \", all_characters)\n",
    "\n",
    "# keep track of correct guesses in a confusion matrix\n",
    "confusion = torch.zeros(n_characters, n_characters)\n",
    "\n",
    "with torch.no_grad():\n",
    "    n_correct = 0\n",
    "    n_samples = 0\n",
    "    \n",
    "    for character in all_characters:\n",
    "        # all files from one character\n",
    "        for file in character_files[character]:\n",
    "\n",
    "            file_tensor = file_to_tensor(file).to(device)\n",
    "\n",
    "            hidden, cell = loaded_model.init_hidden()\n",
    "            hidden = hidden.to(device)\n",
    "            cell = cell.to(device)\n",
    "\n",
    "            # iterate over seq_lenght to get last output\n",
    "            for i in range(file_tensor.size()[0]):\n",
    "                output, hidden, cell = loaded_model(file_tensor[i], hidden, cell)\n",
    "                output = output.to(device)\n",
    "                hidden = hidden.to(device)\n",
    "                cell = cell.to(device)\n",
    "\n",
    "            # get character from output\n",
    "            guess = character_from_output(output)\n",
    "            n_samples += 1\n",
    "            if guess == character:\n",
    "                n_correct += 1\n",
    "                correct = \"✓\"\n",
    "            else:\n",
    "                correct = \"✗ (%s)\" % character\n",
    "            confusion[all_characters.index(character)][all_characters.index(guess)] += 1\n",
    "            \n",
    "            print(file, \"/\", guess, correct)\n",
    "\n",
    "# normalize by dividing every row by its sum\n",
    "for i in range(n_characters):\n",
    "    confusion[i] = confusion[i] / confusion[i].sum()\n",
    "\n",
    "acc = 100.0 * n_correct / n_samples\n",
    "print(f\"\\naccuracy = {acc:.2f} %\\n\")\n",
    "\n",
    "# set up plot\n",
    "fig = plt.figure()\n",
    "ax = fig.add_subplot(111)\n",
    "cax = ax.matshow(confusion.numpy())\n",
    "fig.colorbar(cax)\n",
    "\n",
    "# set up axes\n",
    "ax.set_xticklabels([''] + all_characters, rotation=90)\n",
    "ax.set_yticklabels([''] + all_characters)\n",
    "\n",
    "# force label at every tick\n",
    "ax.xaxis.set_major_locator(ticker.MultipleLocator(1))\n",
    "ax.yaxis.set_major_locator(ticker.MultipleLocator(1))\n",
    "\n",
    "# sphinx_gallery_thumbnail_number = 2\n",
    "plt.show()"
   ]
  }
 ],
 "metadata": {
  "accelerator": "GPU",
  "colab": {
   "collapsed_sections": [],
   "name": "2.3-erikh-lstm-cell-network.ipynb",
   "provenance": [],
   "toc_visible": true
  },
  "kernelspec": {
   "display_name": "Python 3",
   "language": "python",
   "name": "python3"
  },
  "language_info": {
   "codemirror_mode": {
    "name": "ipython",
    "version": 3
   },
   "file_extension": ".py",
   "mimetype": "text/x-python",
   "name": "python",
   "nbconvert_exporter": "python",
   "pygments_lexer": "ipython3",
   "version": "3.9.2"
  }
 },
 "nbformat": 4,
 "nbformat_minor": 5
}
