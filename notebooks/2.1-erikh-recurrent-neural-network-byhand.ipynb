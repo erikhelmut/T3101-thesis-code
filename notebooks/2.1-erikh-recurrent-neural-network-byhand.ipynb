{
 "cells": [
  {
   "cell_type": "markdown",
   "id": "furnished-coordination",
   "metadata": {
    "id": "qualified-bench"
   },
   "source": [
    "# RNN for japanese character classification"
   ]
  },
  {
   "cell_type": "code",
   "execution_count": 86,
   "id": "interesting-mediterranean",
   "metadata": {
    "colab": {
     "base_uri": "https://localhost:8080/"
    },
    "executionInfo": {
     "elapsed": 4052,
     "status": "ok",
     "timestamp": 1613854937664,
     "user": {
      "displayName": "Erik Helmut",
      "photoUrl": "https://lh3.googleusercontent.com/a-/AOh14GiRlVwr0oMEAsVTe0S1tLmAIgrH8zUSVrp_6cvcSw=s64",
      "userId": "13906979822254877021"
     },
     "user_tz": -60
    },
    "id": "accompanied-alexandria",
    "outputId": "1db05b9f-45a4-4c55-9ce9-daddca6c6328"
   },
   "outputs": [
    {
     "name": "stdout",
     "output_type": "stream",
     "text": [
      "cpu\n"
     ]
    }
   ],
   "source": [
    "import time\n",
    "import math\n",
    "import random\n",
    "\n",
    "import sys\n",
    "import inspect\n",
    "import os\n",
    "import glob\n",
    "import csv\n",
    "\n",
    "import torch\n",
    "import torch.nn as nn\n",
    "\n",
    "import matplotlib as mpl\n",
    "import matplotlib.pyplot as plt\n",
    "import matplotlib.ticker as ticker\n",
    "%matplotlib inline\n",
    "\n",
    "currentdir = os.path.dirname(os.path.abspath(inspect.getfile(inspect.currentframe())))\n",
    "parentdir = os.path.dirname(currentdir)\n",
    "sys.path.insert(0,parentdir)\n",
    "\n",
    "from src.data.build_features import load_data, file_to_tensor, character_to_tensor, random_training_example\n",
    "\n",
    "device = torch.device(\"cuda\" if torch.cuda.is_available() else \"cpu\")\n",
    "print(device)"
   ]
  },
  {
   "cell_type": "code",
   "execution_count": 2,
   "id": "greater-differential",
   "metadata": {
    "colab": {
     "base_uri": "https://localhost:8080/"
    },
    "executionInfo": {
     "elapsed": 17758,
     "status": "ok",
     "timestamp": 1613854956003,
     "user": {
      "displayName": "Erik Helmut",
      "photoUrl": "https://lh3.googleusercontent.com/a-/AOh14GiRlVwr0oMEAsVTe0S1tLmAIgrH8zUSVrp_6cvcSw=s64",
      "userId": "13906979822254877021"
     },
     "user_tz": -60
    },
    "id": "Toc6arzCP4vX",
    "outputId": "390bf307-12eb-4cc0-8f06-3c3f3f3d9d6e"
   },
   "outputs": [
    {
     "name": "stdout",
     "output_type": "stream",
     "text": [
      "Mounted at /content/gdrive\n",
      "/content/gdrive/My Drive/Colab Notebooks\n"
     ]
    }
   ],
   "source": [
    "from google.colab import drive, files\n",
    "drive.mount(\"/content/gdrive\")\n",
    "%cd gdrive/My Drive/Colab\\ Notebooks/"
   ]
  },
  {
   "cell_type": "markdown",
   "id": "supposed-columbia",
   "metadata": {
    "id": "amber-square"
   },
   "source": [
    "## Define network structure"
   ]
  },
  {
   "cell_type": "code",
   "execution_count": 97,
   "id": "another-adult",
   "metadata": {
    "executionInfo": {
     "elapsed": 716,
     "status": "ok",
     "timestamp": 1613855103082,
     "user": {
      "displayName": "Erik Helmut",
      "photoUrl": "https://lh3.googleusercontent.com/a-/AOh14GiRlVwr0oMEAsVTe0S1tLmAIgrH8zUSVrp_6cvcSw=s64",
      "userId": "13906979822254877021"
     },
     "user_tz": -60
    },
    "id": "literary-customer"
   },
   "outputs": [],
   "source": [
    "class RNN(nn.Module):\n",
    "    \n",
    "    def __init__(self, input_size, hidden_size, output_size):\n",
    "        super(RNN, self).__init__()\n",
    "        self.hidden_size = hidden_size\n",
    "        \n",
    "        # input to hidden\n",
    "        self.i2h = nn.Linear(input_size + hidden_size, hidden_size)\n",
    "        # input to output\n",
    "        self.i2o = nn.Linear(input_size + hidden_size, output_size)\n",
    "        self.softmax = nn.LogSoftmax(dim=1)\n",
    "        \n",
    "    def forward(self, input_tensor, hidden_tensor):\n",
    "        # combine along first dimension\n",
    "        combined = torch.cat((input_tensor, hidden_tensor), 1)\n",
    "        \n",
    "        hidden = self.i2h(combined)\n",
    "        output = self.i2o(combined)\n",
    "        output = self.softmax(output)\n",
    "        return output, hidden\n",
    "    \n",
    "    def init_hidden(self):\n",
    "        # initialize hidden-state\n",
    "        return torch.zeros(1, self.hidden_size)"
   ]
  },
  {
   "cell_type": "markdown",
   "id": "modified-parcel",
   "metadata": {
    "id": "honey-ebony"
   },
   "source": [
    "## Define helper functions for neural network's training"
   ]
  },
  {
   "cell_type": "code",
   "execution_count": 98,
   "id": "suspended-laptop",
   "metadata": {
    "executionInfo": {
     "elapsed": 541,
     "status": "ok",
     "timestamp": 1613855317808,
     "user": {
      "displayName": "Erik Helmut",
      "photoUrl": "https://lh3.googleusercontent.com/a-/AOh14GiRlVwr0oMEAsVTe0S1tLmAIgrH8zUSVrp_6cvcSw=s64",
      "userId": "13906979822254877021"
     },
     "user_tz": -60
    },
    "id": "anticipated-secret"
   },
   "outputs": [],
   "source": [
    "def train(file_tensor, character_tensor):\n",
    "    hidden = rnn.init_hidden().to(device)\n",
    "    \n",
    "    # iterate over seq_lenght to get last output\n",
    "    for i in range(file_tensor.size()[0]):\n",
    "        output, hidden = rnn(file_tensor[i], hidden)\n",
    "        \n",
    "    loss = criterion(output, character_tensor)\n",
    "    optimizer.zero_grad()\n",
    "    loss.backward()\n",
    "    optimizer.step()\n",
    "    \n",
    "    return output, loss.item()\n",
    "\n",
    "def character_from_output(output):\n",
    "    character_idx = torch.argmax(output).item()\n",
    "    return all_characters[character_idx]"
   ]
  },
  {
   "cell_type": "markdown",
   "id": "enabling-greece",
   "metadata": {
    "id": "organic-latvia"
   },
   "source": [
    "## Defining hyperparameters of neural network's training"
   ]
  },
  {
   "cell_type": "code",
   "execution_count": 99,
   "id": "studied-carol",
   "metadata": {
    "executionInfo": {
     "elapsed": 664,
     "status": "ok",
     "timestamp": 1613856455445,
     "user": {
      "displayName": "Erik Helmut",
      "photoUrl": "https://lh3.googleusercontent.com/a-/AOh14GiRlVwr0oMEAsVTe0S1tLmAIgrH8zUSVrp_6cvcSw=s64",
      "userId": "13906979822254877021"
     },
     "user_tz": -60
    },
    "id": "liked-breath"
   },
   "outputs": [],
   "source": [
    "# load train dataset\n",
    "character_files, all_characters = load_data(path=\"../data/train/\")\n",
    "\n",
    "n_features = 3 # input_size -> x_acc, y_acc, z_acc\n",
    "n_characters = len(all_characters) # output_size\n",
    "hidden_size = 128\n",
    "\n",
    "learning_rate = 0.001"
   ]
  },
  {
   "cell_type": "markdown",
   "id": "sound-potential",
   "metadata": {
    "id": "stunning-perfume"
   },
   "source": [
    "## Start training loop"
   ]
  },
  {
   "cell_type": "code",
   "execution_count": 18,
   "id": "reasonable-convergence",
   "metadata": {
    "colab": {
     "base_uri": "https://localhost:8080/"
    },
    "executionInfo": {
     "elapsed": 1306327,
     "status": "ok",
     "timestamp": 1613857762627,
     "user": {
      "displayName": "Erik Helmut",
      "photoUrl": "https://lh3.googleusercontent.com/a-/AOh14GiRlVwr0oMEAsVTe0S1tLmAIgrH8zUSVrp_6cvcSw=s64",
      "userId": "13906979822254877021"
     },
     "user_tz": -60
    },
    "id": "typical-integration",
    "outputId": "f282c782-d45b-46ee-82a4-74df8659b519"
   },
   "outputs": [
    {
     "name": "stdout",
     "output_type": "stream",
     "text": [
      "2000 10% (2m 13s) 1.5236 data/train/e__19736.csv / e ✓\n",
      "4000 20% (4m 24s) 1.4548 data/train/o__85130.csv / u ✗ (o)\n",
      "6000 30% (6m 34s) 1.5647 data/train/a__38791.csv / e ✗ (a)\n",
      "8000 40% (8m 43s) 1.4175 data/train/a__77402.csv / e ✗ (a)\n",
      "10000 50% (10m 49s) 1.4158 data/train/i__35733.csv / a ✗ (i)\n",
      "12000 60% (13m 1s) 0.9550 data/train/u__45378.csv / o ✗ (u)\n",
      "14000 70% (15m 12s) 0.8708 data/train/e__28466.csv / e ✓\n",
      "16000 80% (17m 22s) 0.0007 data/train/e__06730.csv / e ✓\n",
      "18000 90% (19m 33s) 1.7877 data/train/e__53786.csv / a ✗ (e)\n",
      "20000 100% (21m 45s) 1.4626 data/train/i__22628.csv / a ✗ (i)\n"
     ]
    }
   ],
   "source": [
    "# initialize neural network\n",
    "rnn = RNN(n_features, hidden_size, n_characters).to(device)\n",
    "\n",
    "# loss and optimizer\n",
    "criterion = nn.NLLLoss()\n",
    "optimizer = torch.optim.SGD(rnn.parameters(), lr=learning_rate)\n",
    "\n",
    "current_loss = 0\n",
    "all_losses = []\n",
    "\n",
    "print_every = 2000\n",
    "plot_every = 500\n",
    "n_iters = 20000\n",
    "\n",
    "def timeSince(since):\n",
    "    now = time.time()\n",
    "    s = now - since\n",
    "    m = math.floor(s / 60)\n",
    "    s -= m * 60\n",
    "    return '%dm %ds' % (m, s)\n",
    "\n",
    "start = time.time()\n",
    "\n",
    "for i in range(1, n_iters + 1):\n",
    "    character, file, character_tensor, file_tensor = random_training_example(character_files, all_characters)\n",
    "    output, loss = train(file_tensor.to(device), character_tensor.to(device))\n",
    "    current_loss += loss\n",
    "    \n",
    "    # print iter number, loss, name and guess\n",
    "    if i % print_every == 0:\n",
    "        guess = character_from_output(output)\n",
    "        correct = '✓' if guess == character else '✗ (%s)' % character\n",
    "        print('%d %d%% (%s) %.4f %s / %s %s' % (i, i / n_iters * 100, timeSince(start), loss, file, guess, correct))\n",
    "\n",
    "    # add current loss avg to list of losses\n",
    "    if i % plot_every == 0:\n",
    "        all_losses.append(current_loss / plot_every)\n",
    "        current_loss = 0"
   ]
  },
  {
   "cell_type": "markdown",
   "id": "relevant-institute",
   "metadata": {
    "id": "fifth-pioneer"
   },
   "source": [
    "## Plot LOSS-function"
   ]
  },
  {
   "cell_type": "code",
   "execution_count": 19,
   "id": "dedicated-progress",
   "metadata": {
    "colab": {
     "base_uri": "https://localhost:8080/",
     "height": 410
    },
    "executionInfo": {
     "elapsed": 712,
     "status": "ok",
     "timestamp": 1613857770849,
     "user": {
      "displayName": "Erik Helmut",
      "photoUrl": "https://lh3.googleusercontent.com/a-/AOh14GiRlVwr0oMEAsVTe0S1tLmAIgrH8zUSVrp_6cvcSw=s64",
      "userId": "13906979822254877021"
     },
     "user_tz": -60
    },
    "id": "express-masters",
    "outputId": "d854980c-ead1-43d8-befd-01f78f38df09"
   },
   "outputs": [
    {
     "data": {
      "image/png": "[encoded data removed]",
      "text/plain": [
       "<Figure size 864x432 with 1 Axes>"
      ]
     },
     "metadata": {
      "tags": []
     },
     "output_type": "display_data"
    }
   ],
   "source": [
    "# create figure\n",
    "mpl.style.use(\"seaborn-whitegrid\")\n",
    "plt.figure(figsize=(12,6))\n",
    "# create plot\n",
    "plt.plot(all_losses)\n",
    "# title and labels\n",
    "plt.title(\"LOSS-function\", fontsize=20)\n",
    "plt.xlabel(\"iterations\", fontsize=15)\n",
    "plt.ylabel(\"loss\", fontsize=15)\n",
    "# show plot\n",
    "plt.show()"
   ]
  },
  {
   "cell_type": "markdown",
   "id": "caroline-battlefield",
   "metadata": {
    "id": "parallel-extent"
   },
   "source": [
    "## Save model"
   ]
  },
  {
   "cell_type": "code",
   "execution_count": 20,
   "id": "established-brisbane",
   "metadata": {
    "executionInfo": {
     "elapsed": 720,
     "status": "ok",
     "timestamp": 1613857798856,
     "user": {
      "displayName": "Erik Helmut",
      "photoUrl": "https://lh3.googleusercontent.com/a-/AOh14GiRlVwr0oMEAsVTe0S1tLmAIgrH8zUSVrp_6cvcSw=s64",
      "userId": "13906979822254877021"
     },
     "user_tz": -60
    },
    "id": "athletic-republican"
   },
   "outputs": [],
   "source": [
    "FILE = \"../models/2.0-recurrent-neural-network-model.pth\"\n",
    "torch.save(rnn.state_dict(), FILE)"
   ]
  },
  {
   "cell_type": "markdown",
   "id": "reasonable-disposal",
   "metadata": {
    "id": "coordinated-render"
   },
   "source": [
    "## Load model"
   ]
  },
  {
   "cell_type": "code",
   "execution_count": 100,
   "id": "compatible-context",
   "metadata": {
    "colab": {
     "base_uri": "https://localhost:8080/"
    },
    "executionInfo": {
     "elapsed": 737,
     "status": "ok",
     "timestamp": 1613858022868,
     "user": {
      "displayName": "Erik Helmut",
      "photoUrl": "https://lh3.googleusercontent.com/a-/AOh14GiRlVwr0oMEAsVTe0S1tLmAIgrH8zUSVrp_6cvcSw=s64",
      "userId": "13906979822254877021"
     },
     "user_tz": -60
    },
    "id": "heavy-spending",
    "outputId": "a88cf8aa-f1f8-4c14-b0f5-62e5f3060fd7"
   },
   "outputs": [
    {
     "data": {
      "text/plain": [
       "RNN(\n",
       "  (i2h): Linear(in_features=131, out_features=128, bias=True)\n",
       "  (i2o): Linear(in_features=131, out_features=5, bias=True)\n",
       "  (softmax): LogSoftmax(dim=1)\n",
       ")"
      ]
     },
     "execution_count": 100,
     "metadata": {},
     "output_type": "execute_result"
    }
   ],
   "source": [
    "FILE = \"../models/2.0-recurrent-neural-network-model.pth\"\n",
    "loaded_model = RNN(n_features, hidden_size, n_characters).to(device)\n",
    "loaded_model.load_state_dict(torch.load(FILE, map_location=device))\n",
    "loaded_model.eval()"
   ]
  },
  {
   "cell_type": "markdown",
   "id": "tired-hands",
   "metadata": {
    "id": "efficient-annex"
   },
   "source": [
    "## Determine accuracy"
   ]
  },
  {
   "cell_type": "code",
   "execution_count": 101,
   "id": "polyphonic-inside",
   "metadata": {
    "colab": {
     "base_uri": "https://localhost:8080/",
     "height": 773
    },
    "executionInfo": {
     "elapsed": 2262,
     "status": "ok",
     "timestamp": 1613858404073,
     "user": {
      "displayName": "Erik Helmut",
      "photoUrl": "https://lh3.googleusercontent.com/a-/AOh14GiRlVwr0oMEAsVTe0S1tLmAIgrH8zUSVrp_6cvcSw=s64",
      "userId": "13906979822254877021"
     },
     "user_tz": -60
    },
    "id": "educational-foster",
    "outputId": "51f5b9c9-3ac7-4ea6-a1a4-e8398ea68f04"
   },
   "outputs": [
    {
     "name": "stdout",
     "output_type": "stream",
     "text": [
      "characters in test data:  ['a', 'e', 'i', 'o', 'u']\n",
      "../data/test\\a__88470.csv / a ✓\n",
      "../data/test\\a__94789.csv / a ✓\n",
      "../data/test\\a__96486.csv / a ✓\n",
      "../data/test\\a__97545.csv / a ✓\n",
      "../data/test\\a__98539.csv / a ✓\n",
      "../data/test\\e__70433.csv / e ✓\n",
      "../data/test\\e__76682.csv / e ✓\n",
      "../data/test\\e__82254.csv / e ✓\n",
      "../data/test\\e__83191.csv / e ✓\n",
      "../data/test\\e__84585.csv / e ✓\n",
      "../data/test\\i__75461.csv / i ✓\n",
      "../data/test\\i__81833.csv / o ✗ (i)\n",
      "../data/test\\i__88644.csv / o ✗ (i)\n",
      "../data/test\\i__89095.csv / i ✓\n",
      "../data/test\\i__91889.csv / u ✗ (i)\n",
      "../data/test\\o__54903.csv / u ✗ (o)\n",
      "../data/test\\o__63253.csv / o ✓\n",
      "../data/test\\o__67824.csv / o ✓\n",
      "../data/test\\o__72419.csv / o ✓\n",
      "../data/test\\o__76748.csv / o ✓\n",
      "../data/test\\u__81848.csv / o ✗ (u)\n",
      "../data/test\\u__82120.csv / o ✗ (u)\n",
      "../data/test\\u__83897.csv / o ✗ (u)\n",
      "../data/test\\u__85976.csv / u ✓\n",
      "../data/test\\u__88458.csv / o ✗ (u)\n",
      "../data/test\\u__93521.csv / o ✗ (u)\n",
      "\n",
      "accuracy = 65.38 %\n",
      "\n"
     ]
    },
    {
     "name": "stderr",
     "output_type": "stream",
     "text": [
      "<ipython-input-101-3a7d86f00275>:46: UserWarning: FixedFormatter should only be used together with FixedLocator\n",
      "  ax.set_xticklabels([''] + all_characters, rotation=90)\n",
      "<ipython-input-101-3a7d86f00275>:47: UserWarning: FixedFormatter should only be used together with FixedLocator\n",
      "  ax.set_yticklabels([''] + all_characters)\n"
     ]
    },
    {
     "data": {
      "image/png": "[encoded data removed]",
      "text/plain": [
       "<Figure size 432x288 with 2 Axes>"
      ]
     },
     "metadata": {
      "needs_background": "light"
     },
     "output_type": "display_data"
    }
   ],
   "source": [
    "# load test dataset\n",
    "character_files, all_characters = load_data(\"../data/test/\")\n",
    "print(\"characters in test data: \", all_characters)\n",
    "\n",
    "# keep track of correct guesses in a confusion matrix\n",
    "confusion = torch.zeros(n_characters, n_characters)\n",
    "\n",
    "with torch.no_grad():\n",
    "    n_correct = 0\n",
    "    n_samples = 0\n",
    "    \n",
    "    for character in all_characters:\n",
    "        # all files from one character\n",
    "        for file in character_files[character]:\n",
    "            file_tensor = file_to_tensor(file).to(device)\n",
    "            hidden = loaded_model.init_hidden().to(device)\n",
    "            # iterate over seq_lenght to get last output\n",
    "            for i in range(file_tensor.size()[0]):\n",
    "                output, hidden = loaded_model(file_tensor[i], hidden)\n",
    "            \n",
    "            guess = character_from_output(output)\n",
    "            n_samples += 1\n",
    "            if guess == character:\n",
    "                n_correct += 1\n",
    "                correct = \"✓\"\n",
    "            else:\n",
    "                correct = \"✗ (%s)\" % character\n",
    "            confusion[all_characters.index(character)][all_characters.index(guess)] += 1\n",
    "            \n",
    "            print(file, \"/\", guess, correct)\n",
    "\n",
    "# normalize by dividing every row by its sum\n",
    "for i in range(n_characters):\n",
    "    confusion[i] = confusion[i] / confusion[i].sum()\n",
    "    \n",
    "acc = 100.0 * n_correct / n_samples\n",
    "print(f\"\\naccuracy = {acc:.2f} %\\n\")\n",
    "\n",
    "# set up plot\n",
    "fig = plt.figure()\n",
    "ax = fig.add_subplot(111)\n",
    "cax = ax.matshow(confusion.numpy())\n",
    "fig.colorbar(cax)\n",
    "\n",
    "# set up axes\n",
    "ax.set_xticklabels([''] + all_characters, rotation=90)\n",
    "ax.set_yticklabels([''] + all_characters)\n",
    "\n",
    "# force label at every tick\n",
    "ax.xaxis.set_major_locator(ticker.MultipleLocator(1))\n",
    "ax.yaxis.set_major_locator(ticker.MultipleLocator(1))\n",
    "\n",
    "# sphinx_gallery_thumbnail_number = 2\n",
    "plt.show()"
   ]
  },
  {
   "cell_type": "code",
   "execution_count": null,
   "id": "structural-senate",
   "metadata": {
    "id": "rx4DB7anP4vk"
   },
   "outputs": [],
   "source": []
  }
 ],
 "metadata": {
  "accelerator": "GPU",
  "colab": {
   "collapsed_sections": [],
   "name": "main.ipynb",
   "provenance": []
  },
  "kernelspec": {
   "display_name": "venv",
   "language": "python",
   "name": "venv"
  },
  "language_info": {
   "codemirror_mode": {
    "name": "ipython",
    "version": 3
   },
   "file_extension": ".py",
   "mimetype": "text/x-python",
   "name": "python",
   "nbconvert_exporter": "python",
   "pygments_lexer": "ipython3",
   "version": "3.9.2"
  }
 },
 "nbformat": 4,
 "nbformat_minor": 5
}
