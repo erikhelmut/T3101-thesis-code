{
  "nbformat": 4,
  "nbformat_minor": 5,
  "metadata": {
    "accelerator": "GPU",
    "colab": {
      "name": "2.0-erikh-recurrent-neural-network.ipynb",
      "provenance": [],
      "collapsed_sections": []
    },
    "kernelspec": {
      "display_name": "venv",
      "language": "python",
      "name": "venv"
    },
    "language_info": {
      "codemirror_mode": {
        "name": "ipython",
        "version": 3
      },
      "file_extension": ".py",
      "mimetype": "text/x-python",
      "name": "python",
      "nbconvert_exporter": "python",
      "pygments_lexer": "ipython3",
      "version": "3.9.2"
    }
  },
  "cells": [
    {
      "cell_type": "markdown",
      "metadata": {
        "id": "pleased-damage"
      },
      "source": [
        "# RNN with LSTM for japanese character classification"
      ],
      "id": "pleased-damage"
    },
    {
      "cell_type": "code",
      "metadata": {
        "id": "retained-pioneer",
        "outputId": "f17aef67-5220-4c0b-9433-2c01d5af2c3c",
        "colab": {
          "base_uri": "https://localhost:8080/"
        }
      },
      "source": [
        "from google.colab import drive, files\n",
        "import os\n",
        "drive.mount(\"/content/gdrive\")\n",
        "%cd gdrive/My Drive/Colab\\ Notebooks/\n",
        "if not os.path.exists('japanese-character-classification'):\n",
        "    !git clone https://github.com/erikhelmut/japanese-character-classification.git\n",
        "    %cd japanese-character-classification\n",
        "else:\n",
        "    %cd japanese-character-classification/\n",
        "    !git pull\n",
        "#%pip install -r requirements.txt\n",
        "#%cd notebooks/"
      ],
      "id": "retained-pioneer",
      "execution_count": 1,
      "outputs": [
        {
          "output_type": "stream",
          "text": [
            "Mounted at /content/gdrive\n",
            "/content/gdrive/My Drive/Colab Notebooks\n",
            "Cloning into 'japanese-character-classification'...\n",
            "remote: Enumerating objects: 107, done.\u001b[K\n",
            "remote: Counting objects: 100% (107/107), done.\u001b[K\n",
            "remote: Compressing objects: 100% (78/78), done.\u001b[K\n",
            "remote: Total 495 (delta 57), reused 74 (delta 28), pack-reused 388\u001b[K\n",
            "Receiving objects: 100% (495/495), 3.66 MiB | 13.68 MiB/s, done.\n",
            "Resolving deltas: 100% (176/176), done.\n",
            "Checking out files: 100% (159/159), done.\n",
            "/content/gdrive/My Drive/Colab Notebooks/japanese-character-classification\n"
          ],
          "name": "stdout"
        }
      ]
    },
    {
      "cell_type": "code",
      "metadata": {
        "colab": {
          "base_uri": "https://localhost:8080/"
        },
        "id": "relative-carry",
        "outputId": "086308b3-4fc7-41a7-8185-2faee0dc0498"
      },
      "source": [
        "import time\n",
        "import math\n",
        "import random\n",
        "\n",
        "import sys\n",
        "import inspect\n",
        "import os\n",
        "import glob\n",
        "import csv\n",
        "\n",
        "import torch\n",
        "import torch.nn as nn\n",
        "\n",
        "import matplotlib as mpl\n",
        "import matplotlib.pyplot as plt\n",
        "import matplotlib.ticker as ticker\n",
        "%matplotlib inline\n",
        "\n",
        "currentdir = os.path.dirname(os.path.abspath(inspect.getfile(inspect.currentframe())))\n",
        "parentdir = os.path.dirname(currentdir)\n",
        "sys.path.insert(0,parentdir)\n",
        "\n",
        "from src.data.build_features import load_data, file_to_tensor, character_to_tensor, random_training_example\n",
        "\n",
        "device = torch.device(\"cuda\" if torch.cuda.is_available() else \"cpu\")\n",
        "print(device)"
      ],
      "id": "relative-carry",
      "execution_count": 11,
      "outputs": [
        {
          "output_type": "stream",
          "text": [
            "cuda\n"
          ],
          "name": "stdout"
        }
      ]
    },
    {
      "cell_type": "markdown",
      "metadata": {
        "id": "confident-president"
      },
      "source": [
        "## Define network structure"
      ],
      "id": "confident-president"
    },
    {
      "cell_type": "code",
      "metadata": {
        "id": "lined-mailman"
      },
      "source": [
        "class RNN(nn.Module):\n",
        "    \n",
        "    def __init__(self, input_size, hidden_size, n_layers, n_characters):\n",
        "        super(RNN, self).__init__()\n",
        "        self.n_layers = n_layers\n",
        "        self.hidden_size = hidden_size\n",
        "        \n",
        "        self.rnn = nn.RNN(input_size, hidden_size, n_layers, batch_first=False)\n",
        "        # -> x of shape (seq_len, batch, hidden_size)\n",
        "        self.fc = nn.Linear(hidden_size, n_characters)\n",
        "        self.softmax = nn.LogSoftmax(dim=1)\n",
        "        \n",
        "    def forward(self, x):\n",
        "        # initial hidden- & cell-state\n",
        "        h0 = torch.zeros(self.n_layers, x.size(1), self.hidden_size).to(device)\n",
        "        \n",
        "        # output of shape (seq_len, batch, n_directions * hidden_size)\n",
        "        out, _ = self.rnn(x, h0)\n",
        "        \n",
        "        # only last Time-Step\n",
        "        out = out[-1, :, :]\n",
        "        \n",
        "        out = self.fc(out)\n",
        "        out = self.softmax(out)\n",
        "\n",
        "        return out"
      ],
      "id": "lined-mailman",
      "execution_count": 12,
      "outputs": []
    },
    {
      "cell_type": "markdown",
      "metadata": {
        "id": "excess-optimum"
      },
      "source": [
        "## Define helper functions for neural network's training"
      ],
      "id": "excess-optimum"
    },
    {
      "cell_type": "code",
      "metadata": {
        "id": "valid-genesis"
      },
      "source": [
        "def train(file_tensor, character_tensor):\n",
        "    output = model(file_tensor)\n",
        "    loss = criterion(output, character_tensor)\n",
        "    \n",
        "    optimizer.zero_grad()\n",
        "    loss.backward()\n",
        "    optimizer.step()\n",
        "    \n",
        "    return output, loss.item()\n",
        "\n",
        "def character_from_output(output):\n",
        "    character_idx = torch.argmax(output).item()\n",
        "    return all_characters[character_idx]"
      ],
      "id": "valid-genesis",
      "execution_count": 13,
      "outputs": []
    },
    {
      "cell_type": "markdown",
      "metadata": {
        "id": "strategic-royalty"
      },
      "source": [
        "## Defining hyperparameters of neural network's training"
      ],
      "id": "strategic-royalty"
    },
    {
      "cell_type": "code",
      "metadata": {
        "id": "nearby-administration"
      },
      "source": [
        "# load train dataset\n",
        "character_files, all_characters = load_data(path=\"../data/train/\")\n",
        "\n",
        "# hyper parameters\n",
        "input_size = 3 # features: x_acc, y_acc, z_acc\n",
        "n_characters = len(all_characters) # output_size\n",
        "hidden_size = 128\n",
        "n_layers = 1\n",
        "\n",
        "learning_rate = 0.001"
      ],
      "id": "nearby-administration",
      "execution_count": 23,
      "outputs": []
    },
    {
      "cell_type": "markdown",
      "metadata": {
        "id": "third-passenger"
      },
      "source": [
        "## Start training loop"
      ],
      "id": "third-passenger"
    },
    {
      "cell_type": "code",
      "metadata": {
        "colab": {
          "base_uri": "https://localhost:8080/"
        },
        "id": "civil-trainer",
        "outputId": "723dcad4-65e1-40d0-f112-518665f12059"
      },
      "source": [
        "# initialize neural network   \n",
        "model = RNN(input_size, hidden_size, n_layers, n_characters).to(device)\n",
        "\n",
        "# loss and optimizer\n",
        "criterion = nn.NLLLoss()\n",
        "optimizer = torch.optim.SGD(model.parameters(), lr=learning_rate)\n",
        "\n",
        "current_loss = 0\n",
        "all_losses = []\n",
        "\n",
        "print_every = 4000#5000\n",
        "plot_every = 400#1000\n",
        "n_iters = 40000\n",
        "\n",
        "def timeSince(since):\n",
        "    now = time.time()\n",
        "    s = now - since\n",
        "    m = math.floor(s / 60)\n",
        "    s -= m * 60\n",
        "    return '%dm %ds' % (m, s)\n",
        "\n",
        "start = time.time()\n",
        "\n",
        "for i in range(1, n_iters + 1):\n",
        "    character, file, character_tensor, file_tensor = random_training_example(character_files, all_characters)\n",
        "    output, loss = train(file_tensor.to(device), character_tensor.to(device))\n",
        "    current_loss += loss\n",
        "    \n",
        "    # print iter number, loss, name and guess\n",
        "    if i % print_every == 0:\n",
        "        guess = character_from_output(output)\n",
        "        correct = '✓' if guess == character else '✗ (%s)' % character\n",
        "        print('%d %d%% (%s) %.4f %s / %s %s' % (i, i / n_iters * 100, timeSince(start), loss, file, guess, correct))\n",
        "\n",
        "    # add current loss avg to list of losses\n",
        "    if i % plot_every == 0:\n",
        "        all_losses.append(current_loss / plot_every)\n",
        "        current_loss = 0"
      ],
      "id": "civil-trainer",
      "execution_count": 29,
      "outputs": [
        {
          "output_type": "stream",
          "text": [
            "4000 10% (0m 43s) 0.0645 ../data/test/e__82254.csv / e ✓\n",
            "8000 20% (1m 27s) 0.8979 ../data/test/u__88458.csv / o ✗ (u)\n",
            "12000 30% (2m 10s) 0.1799 ../data/test/i__75461.csv / i ✓\n",
            "16000 40% (2m 54s) 0.0223 ../data/test/e__76682.csv / e ✓\n",
            "20000 50% (3m 37s) 0.1397 ../data/test/o__76748.csv / o ✓\n",
            "24000 60% (4m 21s) 0.0131 ../data/test/e__76682.csv / e ✓\n",
            "28000 70% (5m 4s) 0.0120 ../data/test/a__96486.csv / a ✓\n",
            "32000 80% (5m 47s) 0.0072 ../data/test/u__88458.csv / u ✓\n",
            "36000 90% (6m 31s) 0.0012 ../data/test/i__89095.csv / i ✓\n",
            "40000 100% (7m 14s) 0.0036 ../data/test/a__96486.csv / a ✓\n"
          ],
          "name": "stdout"
        }
      ]
    },
    {
      "cell_type": "markdown",
      "metadata": {
        "id": "bored-beatles"
      },
      "source": [
        "## Plot LOSS-function"
      ],
      "id": "bored-beatles"
    },
    {
      "cell_type": "code",
      "metadata": {
        "colab": {
          "base_uri": "https://localhost:8080/",
          "height": 410
        },
        "id": "charitable-blues",
        "outputId": "3b6e7a05-6411-411a-a837-27f145d7f71c"
      },
      "source": [
        "# create figure\n",
        "mpl.style.use(\"seaborn-whitegrid\")\n",
        "plt.figure(figsize=(12,6))\n",
        "# create plot\n",
        "plt.plot(all_losses)\n",
        "# title and labels\n",
        "plt.title(\"LOSS-function\", fontsize=20)\n",
        "plt.xlabel(\"iterations\", fontsize=15)\n",
        "plt.ylabel(\"loss\", fontsize=15)\n",
        "# show plot\n",
        "plt.show()"
      ],
      "id": "charitable-blues",
      "execution_count": 30,
      "outputs": [
        {
          "output_type": "display_data",
          "data": {
            "image/png": "[encoded data removed]",
            "text/plain": [
              "<Figure size 864x432 with 1 Axes>"
            ]
          },
          "metadata": {
            "tags": []
          }
        }
      ]
    },
    {
      "cell_type": "markdown",
      "metadata": {
        "id": "thrown-domestic"
      },
      "source": [
        "## Save model"
      ],
      "id": "thrown-domestic"
    },
    {
      "cell_type": "code",
      "metadata": {
        "id": "mobile-ordinance",
        "outputId": "419497a7-7a32-4f57-a429-295074697133",
        "colab": {
          "base_uri": "https://localhost:8080/"
        }
      },
      "source": [
        "%cd ../models/\n",
        "FILE = \"2.0-recurrent-neural-network-model.pth\"\n",
        "torch.save(model.state_dict(), FILE)\n",
        "%cd ../notebooks/"
      ],
      "id": "mobile-ordinance",
      "execution_count": 31,
      "outputs": [
        {
          "output_type": "stream",
          "text": [
            "/content/gdrive/My Drive/Colab Notebooks/japanese-character-classification/models\n",
            "/content/gdrive/My Drive/Colab Notebooks/japanese-character-classification/notebooks\n"
          ],
          "name": "stdout"
        }
      ]
    },
    {
      "cell_type": "markdown",
      "metadata": {
        "id": "ranging-afghanistan"
      },
      "source": [
        "## Load model"
      ],
      "id": "ranging-afghanistan"
    },
    {
      "cell_type": "code",
      "metadata": {
        "colab": {
          "base_uri": "https://localhost:8080/"
        },
        "id": "stock-seeking",
        "outputId": "80bbd9e2-e3f4-4844-997f-c0000e46c218"
      },
      "source": [
        "%cd ../models/\n",
        "FILE = \"2.0-recurrent-neural-network-model.pth\"\n",
        "loaded_model = RNN(input_size, hidden_size, n_layers, n_characters).to(device)\n",
        "loaded_model.load_state_dict(torch.load(FILE, map_location=device))\n",
        "loaded_model.eval()\n",
        "%cd ../notebooks/"
      ],
      "id": "stock-seeking",
      "execution_count": 32,
      "outputs": [
        {
          "output_type": "stream",
          "text": [
            "/content/gdrive/My Drive/Colab Notebooks/japanese-character-classification/models\n",
            "/content/gdrive/My Drive/Colab Notebooks/japanese-character-classification/notebooks\n"
          ],
          "name": "stdout"
        }
      ]
    },
    {
      "cell_type": "markdown",
      "metadata": {
        "id": "union-essence"
      },
      "source": [
        "## Determine accuracy"
      ],
      "id": "union-essence"
    },
    {
      "cell_type": "code",
      "metadata": {
        "id": "aging-jones",
        "outputId": "ba0f6b42-797a-43eb-b72f-00d9decd4ce5",
        "colab": {
          "base_uri": "https://localhost:8080/",
          "height": 773
        }
      },
      "source": [
        "# load test dataset\n",
        "character_files, all_characters = load_data(path=\"../data/test/\")\n",
        "print(\"characters in test data: \", all_characters)\n",
        "\n",
        "# keep track of correct guesses in a confusion matrix\n",
        "confusion = torch.zeros(n_characters, n_characters)\n",
        "\n",
        "with torch.no_grad():\n",
        "    n_correct = 0\n",
        "    n_samples = 0\n",
        "    \n",
        "    for character in all_characters:\n",
        "        # all files from one character\n",
        "        for file in character_files[character]:\n",
        "            file_tensor = file_to_tensor(file).to(device)\n",
        "            # get output\n",
        "            output = loaded_model(file_tensor).to(device)\n",
        "            # get character from output\n",
        "            guess = character_from_output(output)\n",
        "            n_samples += 1\n",
        "            if guess == character:\n",
        "                n_correct += 1\n",
        "                correct = \"✓\"\n",
        "            else:\n",
        "                correct = \"✗ (%s)\" % character\n",
        "            confusion[all_characters.index(character)][all_characters.index(guess)] += 1\n",
        "            \n",
        "            print(file, \"/\", guess, correct)\n",
        "\n",
        "# normalize by dividing every row by its sum\n",
        "for i in range(n_characters):\n",
        "    confusion[i] = confusion[i] / confusion[i].sum()\n",
        "\n",
        "acc = 100.0 * n_correct / n_samples\n",
        "print(f\"\\naccuracy = {acc:.2f} %\\n\")\n",
        "\n",
        "# set up plot\n",
        "fig = plt.figure()\n",
        "ax = fig.add_subplot(111)\n",
        "cax = ax.matshow(confusion.numpy())\n",
        "fig.colorbar(cax)\n",
        "\n",
        "# set up axes\n",
        "ax.set_xticklabels([''] + all_characters, rotation=90)\n",
        "ax.set_yticklabels([''] + all_characters)\n",
        "\n",
        "# force label at every tick\n",
        "ax.xaxis.set_major_locator(ticker.MultipleLocator(1))\n",
        "ax.yaxis.set_major_locator(ticker.MultipleLocator(1))\n",
        "\n",
        "# sphinx_gallery_thumbnail_number = 2\n",
        "plt.show()"
      ],
      "id": "aging-jones",
      "execution_count": 33,
      "outputs": [
        {
          "output_type": "stream",
          "text": [
            "characters in test data:  ['a', 'e', 'i', 'o', 'u']\n",
            "../data/test/a__88470.csv / a ✓\n",
            "../data/test/a__94789.csv / a ✓\n",
            "../data/test/a__96486.csv / a ✓\n",
            "../data/test/a__97545.csv / a ✓\n",
            "../data/test/a__98539.csv / a ✓\n",
            "../data/test/e__70433.csv / e ✓\n",
            "../data/test/e__76682.csv / e ✓\n",
            "../data/test/e__82254.csv / e ✓\n",
            "../data/test/e__83191.csv / e ✓\n",
            "../data/test/e__84585.csv / e ✓\n",
            "../data/test/i__75461.csv / i ✓\n",
            "../data/test/i__81833.csv / i ✓\n",
            "../data/test/i__88644.csv / i ✓\n",
            "../data/test/i__89095.csv / i ✓\n",
            "../data/test/i__91889.csv / i ✓\n",
            "../data/test/o__54903.csv / o ✓\n",
            "../data/test/o__63253.csv / o ✓\n",
            "../data/test/o__67824.csv / o ✓\n",
            "../data/test/o__72419.csv / o ✓\n",
            "../data/test/o__76748.csv / o ✓\n",
            "../data/test/u__81848.csv / u ✓\n",
            "../data/test/u__82120.csv / u ✓\n",
            "../data/test/u__83897.csv / u ✓\n",
            "../data/test/u__85976.csv / u ✓\n",
            "../data/test/u__88458.csv / u ✓\n",
            "../data/test/u__93521.csv / u ✓\n",
            "\n",
            "accuracy = 100.00 %\n",
            "\n"
          ],
          "name": "stdout"
        },
        {
          "output_type": "display_data",
          "data": {
            "image/png": "[encoded data removed]",
            "text/plain": [
              "<Figure size 432x288 with 2 Axes>"
            ]
          },
          "metadata": {
            "tags": []
          }
        }
      ]
    }
  ]
}