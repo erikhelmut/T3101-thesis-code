{
 "cells": [
  {
   "cell_type": "markdown",
   "id": "alert-terrain",
   "metadata": {
    "id": "domestic-magnet"
   },
   "source": [
    "# RNN for japanese character classification - Test Notebook"
   ]
  },
  {
   "cell_type": "code",
   "execution_count": 1,
   "id": "instrumental-guitar",
   "metadata": {
    "colab": {
     "base_uri": "https://localhost:8080/"
    },
    "executionInfo": {
     "elapsed": 24445,
     "status": "ok",
     "timestamp": 1621193464154,
     "user": {
      "displayName": "",
      "photoUrl": "",
      "userId": ""
     },
     "user_tz": -120
    },
    "id": "headed-frame",
    "outputId": "6b5b156a-e6a1-4eb4-ea83-05b2a2655a64"
   },
   "outputs": [
    {
     "name": "stdout",
     "output_type": "stream",
     "text": [
      "Mounted at /content/gdrive\n",
      "/content/gdrive/My Drive/Colab Notebooks\n",
      "Cloning into 'japanese-character-classification'...\n",
      "remote: Enumerating objects: 682, done.\u001b[K\n",
      "remote: Counting objects: 100% (294/294), done.\u001b[K\n",
      "remote: Compressing objects: 100% (210/210), done.\u001b[K\n",
      "remote: Total 682 (delta 165), reused 207 (delta 83), pack-reused 388\u001b[K\n",
      "Receiving objects: 100% (682/682), 6.47 MiB | 15.92 MiB/s, done.\n",
      "Resolving deltas: 100% (284/284), done.\n",
      "Checking out files: 100% (198/198), done.\n",
      "/content/gdrive/My Drive/Colab Notebooks/japanese-character-classification/notebooks\n"
     ]
    }
   ],
   "source": [
    "from google.colab import drive, files\n",
    "import os\n",
    "drive.mount(\"/content/gdrive\")\n",
    "%cd gdrive/My Drive/Colab\\ Notebooks/\n",
    "if not os.path.exists('japanese-character-classification'):\n",
    "    !git clone https://github.com/erikhelmut/japanese-character-classification.git\n",
    "    %cd japanese-character-classification/notebooks/\n",
    "else:\n",
    "    %cd japanese-character-classification/notebooks/\n",
    "    !git pull\n",
    "#%pip install -r requirements.txt"
   ]
  },
  {
   "cell_type": "code",
   "execution_count": 2,
   "id": "prescription-garlic",
   "metadata": {
    "colab": {
     "base_uri": "https://localhost:8080/"
    },
    "executionInfo": {
     "elapsed": 4332,
     "status": "ok",
     "timestamp": 1621193477085,
     "user": {
      "displayName": "",
      "photoUrl": "",
      "userId": ""
     },
     "user_tz": -120
    },
    "id": "removable-stranger",
    "outputId": "a306fa41-861c-4f06-c8a2-000c9791e849"
   },
   "outputs": [
    {
     "name": "stdout",
     "output_type": "stream",
     "text": [
      "cuda\n"
     ]
    }
   ],
   "source": [
    "import time\n",
    "import math\n",
    "import random\n",
    "\n",
    "import sys\n",
    "import inspect\n",
    "import os\n",
    "import glob\n",
    "import csv\n",
    "\n",
    "import numpy as np\n",
    "\n",
    "import torch\n",
    "import torch.nn as nn\n",
    "\n",
    "import matplotlib as mpl\n",
    "import matplotlib.pyplot as plt\n",
    "import matplotlib.ticker as ticker\n",
    "%matplotlib inline\n",
    "\n",
    "#currentdir = os.path.dirname(os.path.abspath(inspect.getfile(inspect.currentframe())))\n",
    "#parentdir = os.path.dirname(currentdir)\n",
    "#sys.path.insert(0,parentdir)\n",
    "\n",
    "sys.path.append(\"..\")\n",
    "\n",
    "from src.data.build_features import load_data, file_to_tensor, character_to_tensor, random_training_example\n",
    "\n",
    "device = torch.device(\"cuda\" if torch.cuda.is_available() else \"cpu\")\n",
    "print(device)"
   ]
  },
  {
   "cell_type": "markdown",
   "id": "novel-quilt",
   "metadata": {
    "id": "included-column"
   },
   "source": [
    "## Define network structure"
   ]
  },
  {
   "cell_type": "code",
   "execution_count": 3,
   "id": "disturbed-accommodation",
   "metadata": {
    "executionInfo": {
     "elapsed": 491,
     "status": "ok",
     "timestamp": 1621193478035,
     "user": {
      "displayName": "",
      "photoUrl": "",
      "userId": ""
     },
     "user_tz": -120
    },
    "id": "hourly-logan"
   },
   "outputs": [],
   "source": [
    "class RNN(nn.Module):\n",
    "    \n",
    "    def __init__(self, input_size, hidden_size, n_layers, n_characters):\n",
    "        super(RNN, self).__init__()\n",
    "        self.n_layers = n_layers\n",
    "        self.hidden_size = hidden_size\n",
    "        \n",
    "        self.rnn = nn.RNN(input_size, hidden_size, n_layers, batch_first=False)\n",
    "        # -> x of shape (seq_len, batch, hidden_size)\n",
    "        self.fc = nn.Linear(hidden_size, n_characters)\n",
    "        self.softmax = nn.LogSoftmax(dim=1)\n",
    "        \n",
    "    def forward(self, x):\n",
    "        # initial hidden- & cell-state\n",
    "        h0 = torch.zeros(self.n_layers, x.size(1), self.hidden_size).to(device)\n",
    "       \n",
    "        \n",
    "        # output of shape (seq_len, batch, n_directions * hidden_size)\n",
    "        out, _ = self.rnn(x, h0)\n",
    "        \n",
    "        # only last Time-Step\n",
    "        out = out[-1, :, :]\n",
    "        \n",
    "        out = self.fc(out)\n",
    "        out = self.softmax(out)\n",
    "\n",
    "        return out"
   ]
  },
  {
   "cell_type": "markdown",
   "id": "supreme-ticket",
   "metadata": {
    "id": "former-gathering"
   },
   "source": [
    "## Define helper functions for neural network's training"
   ]
  },
  {
   "cell_type": "code",
   "execution_count": 4,
   "id": "handed-borough",
   "metadata": {
    "executionInfo": {
     "elapsed": 595,
     "status": "ok",
     "timestamp": 1621193480603,
     "user": {
      "displayName": "",
      "photoUrl": "",
      "userId": ""
     },
     "user_tz": -120
    },
    "id": "right-presentation"
   },
   "outputs": [],
   "source": [
    "def train(file_tensor, character_tensor):\n",
    "    output = model(file_tensor)\n",
    "    loss = criterion(output, character_tensor)\n",
    "    \n",
    "    optimizer.zero_grad()\n",
    "    loss.backward()\n",
    "    optimizer.step()\n",
    "    \n",
    "    return output, loss.item()\n",
    "\n",
    "def character_from_output(output):\n",
    "    character_idx = torch.argmax(output).item()\n",
    "    return all_characters[character_idx]"
   ]
  },
  {
   "cell_type": "code",
   "execution_count": 5,
   "id": "armed-france",
   "metadata": {
    "executionInfo": {
     "elapsed": 596,
     "status": "ok",
     "timestamp": 1621193481856,
     "user": {
      "displayName": "",
      "photoUrl": "",
      "userId": ""
     },
     "user_tz": -120
    },
    "id": "worth-bottom"
   },
   "outputs": [],
   "source": [
    "def determine_accuracy():\n",
    "    # locations of datasets\n",
    "    paths = [\"../data/test\", \"../data/train\"]\n",
    "    \n",
    "    for p in paths:\n",
    "    \n",
    "        character_files, all_characters = load_data(path=p)\n",
    "\n",
    "        with torch.no_grad():\n",
    "            n_correct = 0\n",
    "            n_samples = 0\n",
    "\n",
    "            for character in all_characters:\n",
    "                # all files from one character\n",
    "                for file in character_files[character]:\n",
    "                    file_tensor = file_to_tensor(file).to(device)\n",
    "                    # get output\n",
    "                    output = model(file_tensor).to(device)\n",
    "                    # get character from output\n",
    "                    guess = character_from_output(output)\n",
    "                    n_samples += 1\n",
    "                    if guess == character:\n",
    "                        n_correct += 1\n",
    "        \n",
    "        # calculate accuracy\n",
    "        if p == \"../data/test\":\n",
    "            acc_test = 100.0 * n_correct / n_samples\n",
    "        elif p == \"../data/train\":\n",
    "            acc_train = 100.0 * n_correct / n_samples\n",
    "\n",
    "    return acc_test, acc_train"
   ]
  },
  {
   "cell_type": "markdown",
   "id": "right-denver",
   "metadata": {
    "id": "suburban-native"
   },
   "source": [
    "## Defining hyperparameters of neural network's training"
   ]
  },
  {
   "cell_type": "code",
   "execution_count": 59,
   "id": "aquatic-spine",
   "metadata": {
    "executionInfo": {
     "elapsed": 626,
     "status": "ok",
     "timestamp": 1621199768153,
     "user": {
      "displayName": "",
      "photoUrl": "",
      "userId": ""
     },
     "user_tz": -120
    },
    "id": "descending-lotus"
   },
   "outputs": [],
   "source": [
    "# load train dataset\n",
    "character_files, all_characters = load_data(path=\"../data/train/\")\n",
    "\n",
    "# hyper parameters\n",
    "input_size = 3 # features: x_acc, y_acc, z_acc\n",
    "n_characters = len(all_characters) # output_size\n",
    "hidden_size = 4\n",
    "n_layers = 2\n",
    "\n",
    "learning_rate = 0.001"
   ]
  },
  {
   "cell_type": "markdown",
   "id": "prescription-priest",
   "metadata": {
    "id": "amended-prairie"
   },
   "source": [
    "## Start training loop"
   ]
  },
  {
   "cell_type": "code",
   "execution_count": 60,
   "id": "identified-texas",
   "metadata": {
    "colab": {
     "base_uri": "https://localhost:8080/"
    },
    "executionInfo": {
     "elapsed": 845884,
     "status": "ok",
     "timestamp": 1621200633367,
     "user": {
      "displayName": "",
      "photoUrl": "",
      "userId": ""
     },
     "user_tz": -120
    },
    "id": "stainless-friend",
    "outputId": "0cdd2c90-ccc2-44a3-eb54-27cac629801e"
   },
   "outputs": [
    {
     "name": "stdout",
     "output_type": "stream",
     "text": [
      "5000 10% (1m 23s) 1.5133 ../data/train/a__66610.csv / a ✓\n",
      "10000 20% (2m 47s) 1.4756 ../data/train/u__14388.csv / u ✓\n",
      "15000 30% (4m 12s) 1.7344 ../data/train/i__44481.csv / o ✗ (i)\n",
      "20000 40% (5m 36s) 1.0811 ../data/train/u__13045.csv / u ✓\n",
      "25000 50% (7m 1s) 1.1770 ../data/train/o__92303.csv / o ✓\n",
      "30000 60% (8m 25s) 3.3386 ../data/train/a__44364.csv / u ✗ (a)\n",
      "35000 70% (9m 50s) 1.9440 ../data/train/e__30746.csv / a ✗ (e)\n",
      "40000 80% (11m 14s) 1.2396 ../data/train/i__35733.csv / i ✓\n",
      "45000 90% (12m 39s) 0.0644 ../data/train/e__46600.csv / e ✓\n",
      "50000 100% (14m 4s) 0.7558 ../data/train/o__49156.csv / o ✓\n"
     ]
    }
   ],
   "source": [
    "# initialize neural network   \n",
    "model = RNN(input_size, hidden_size, n_layers, n_characters).to(device)\n",
    "\n",
    "# loss and optimizer\n",
    "criterion = nn.NLLLoss()\n",
    "optimizer = torch.optim.SGD(model.parameters(), lr=learning_rate)\n",
    "\n",
    "current_loss = 0\n",
    "all_losses = []\n",
    "\n",
    "all_acc_test = []\n",
    "all_acc_train = []\n",
    "all_acc_time = []\n",
    "\n",
    "print_every = 5000\n",
    "plot_every = 1000\n",
    "acc_every = 500\n",
    "n_iters = 50000\n",
    "\n",
    "def timeSince(since):\n",
    "    now = time.time()\n",
    "    s = now - since\n",
    "    m = math.floor(s / 60)\n",
    "    s -= m * 60\n",
    "    return '%dm %ds' % (m, s)\n",
    "\n",
    "start = time.time()\n",
    "\n",
    "for i in range(1, n_iters + 1):\n",
    "    character, file, character_tensor, file_tensor = random_training_example(character_files, all_characters)\n",
    "    output, loss = train(file_tensor.to(device), character_tensor.to(device))\n",
    "    current_loss += loss\n",
    "    \n",
    "    # print iter number, loss, name and guess\n",
    "    if i % print_every == 0:\n",
    "        guess = character_from_output(output)\n",
    "        correct = '✓' if guess == character else '✗ (%s)' % character\n",
    "        print('%d %d%% (%s) %.4f %s / %s %s' % (i, i / n_iters * 100, timeSince(start), loss, file, guess, correct))\n",
    "\n",
    "    # add current loss avg to list of losses\n",
    "    if i % plot_every == 0:\n",
    "        all_losses.append(current_loss / plot_every)\n",
    "        current_loss = 0\n",
    "        \n",
    "    # determine accuracy with timestamp\n",
    "    if i % acc_every == 0:\n",
    "        acc_test, acc_train = determine_accuracy()\n",
    "        all_acc_test.append(acc_test)\n",
    "        all_acc_train.append(acc_train)\n",
    "        all_acc_time.append(time.time() - start)"
   ]
  },
  {
   "cell_type": "code",
   "execution_count": 62,
   "id": "ideal-armor",
   "metadata": {
    "executionInfo": {
     "elapsed": 542,
     "status": "ok",
     "timestamp": 1621200644792,
     "user": {
      "displayName": "",
      "photoUrl": "",
      "userId": ""
     },
     "user_tz": -120
    },
    "id": "informational-bottom"
   },
   "outputs": [],
   "source": [
    "np.savetxt(\"../evaluation/RNN_2x4_acc_test.csv\", all_acc_test, delimiter =\",\")\n",
    "np.savetxt(\"../evaluation/RNN_2x4_acc_train.csv\", all_acc_train, delimiter =\",\")\n",
    "np.savetxt(\"../evaluation/RNN_2x4_acc_time.csv\", all_acc_time, delimiter =\",\")\n",
    "np.savetxt(\"../evaluation/RNN_2x4_loss.csv\", all_losses, delimiter =\",\")"
   ]
  },
  {
   "cell_type": "markdown",
   "id": "exclusive-poker",
   "metadata": {
    "id": "organic-manchester"
   },
   "source": [
    "## Plot LOSS-function"
   ]
  },
  {
   "cell_type": "code",
   "execution_count": 61,
   "id": "caroline-listening",
   "metadata": {
    "colab": {
     "base_uri": "https://localhost:8080/",
     "height": 413
    },
    "executionInfo": {
     "elapsed": 652,
     "status": "ok",
     "timestamp": 1621200636232,
     "user": {
      "displayName": "",
      "photoUrl": "",
      "userId": ""
     },
     "user_tz": -120
    },
    "id": "prerequisite-costume",
    "outputId": "d4c24c74-7ae3-417e-ec73-40edce38a186"
   },
   "outputs": [
    {
     "data": {
      "image/png": "[encoded data removed]",
      "text/plain": [
       "<Figure size 864x432 with 1 Axes>"
      ]
     },
     "metadata": {
      "tags": []
     },
     "output_type": "display_data"
    }
   ],
   "source": [
    "# create figure\n",
    "mpl.style.use(\"seaborn\")\n",
    "plt.figure(figsize=(12,6))\n",
    "# create plot\n",
    "plt.plot(all_losses)\n",
    "# title and labels\n",
    "plt.title(\"LOSS-function\", fontsize=20)\n",
    "plt.xlabel(\"iterations [e3]\", fontsize=15)\n",
    "plt.ylabel(\"loss\", fontsize=15)\n",
    "# show plot\n",
    "plt.show()"
   ]
  },
  {
   "cell_type": "markdown",
   "id": "acting-archive",
   "metadata": {
    "id": "numerical-factor"
   },
   "source": [
    "## Save model"
   ]
  },
  {
   "cell_type": "code",
   "execution_count": 63,
   "id": "stock-lloyd",
   "metadata": {
    "colab": {
     "base_uri": "https://localhost:8080/"
    },
    "executionInfo": {
     "elapsed": 526,
     "status": "ok",
     "timestamp": 1621200648042,
     "user": {
      "displayName": "",
      "photoUrl": "",
      "userId": ""
     },
     "user_tz": -120
    },
    "id": "capital-freeze",
    "outputId": "2fa3285a-16cb-4aa1-e949-6e1914d283f3"
   },
   "outputs": [
    {
     "name": "stdout",
     "output_type": "stream",
     "text": [
      "/content/gdrive/My Drive/Colab Notebooks/japanese-character-classification/models\n",
      "/content/gdrive/My Drive/Colab Notebooks/japanese-character-classification/notebooks\n"
     ]
    }
   ],
   "source": [
    "%cd ../models/\n",
    "FILE = \"2.0.1-recurrent-neural-network-model-test-4x2.pth\"\n",
    "torch.save(model.state_dict(), FILE)\n",
    "%cd ../notebooks/"
   ]
  },
  {
   "cell_type": "markdown",
   "id": "economic-negative",
   "metadata": {
    "id": "applicable-logistics"
   },
   "source": [
    "## Load model"
   ]
  },
  {
   "cell_type": "code",
   "execution_count": 64,
   "id": "tribal-lesbian",
   "metadata": {
    "colab": {
     "base_uri": "https://localhost:8080/"
    },
    "executionInfo": {
     "elapsed": 716,
     "status": "ok",
     "timestamp": 1621200652984,
     "user": {
      "displayName": "",
      "photoUrl": "",
      "userId": ""
     },
     "user_tz": -120
    },
    "id": "textile-tiffany",
    "outputId": "e4de71f4-723c-4490-9439-3059c800feb8"
   },
   "outputs": [
    {
     "name": "stdout",
     "output_type": "stream",
     "text": [
      "/content/gdrive/My Drive/Colab Notebooks/japanese-character-classification/models\n",
      "/content/gdrive/My Drive/Colab Notebooks/japanese-character-classification/notebooks\n"
     ]
    }
   ],
   "source": [
    "%cd ../models/\n",
    "FILE = \"2.0.1-recurrent-neural-network-model-test-4x2.pth\"\n",
    "loaded_model = RNN(input_size, hidden_size, n_layers, n_characters).to(device)\n",
    "loaded_model.load_state_dict(torch.load(FILE, map_location=device))\n",
    "loaded_model.eval()\n",
    "%cd ../notebooks/"
   ]
  },
  {
   "cell_type": "markdown",
   "id": "stock-beach",
   "metadata": {
    "id": "focused-bunch"
   },
   "source": [
    "## Determine accuracy"
   ]
  },
  {
   "cell_type": "code",
   "execution_count": 65,
   "id": "athletic-rebound",
   "metadata": {
    "colab": {
     "base_uri": "https://localhost:8080/",
     "height": 871
    },
    "executionInfo": {
     "elapsed": 908,
     "status": "ok",
     "timestamp": 1621200654696,
     "user": {
      "displayName": "",
      "photoUrl": "",
      "userId": ""
     },
     "user_tz": -120
    },
    "id": "general-superintendent",
    "outputId": "0245daa5-a079-4021-c3da-fc83527446cf"
   },
   "outputs": [
    {
     "name": "stdout",
     "output_type": "stream",
     "text": [
      "characters in test data:  ['a', 'e', 'i', 'o', 'u']\n",
      "../data/test/a__88470.csv / a ✓\n",
      "../data/test/a__94789.csv / i ✗ (a)\n",
      "../data/test/a__96486.csv / o ✗ (a)\n",
      "../data/test/a__97545.csv / i ✗ (a)\n",
      "../data/test/a__98539.csv / a ✓\n",
      "../data/test/e__70433.csv / e ✓\n",
      "../data/test/e__76682.csv / e ✓\n",
      "../data/test/e__82254.csv / e ✓\n",
      "../data/test/e__83191.csv / e ✓\n",
      "../data/test/e__84585.csv / e ✓\n",
      "../data/test/i__75461.csv / u ✗ (i)\n",
      "../data/test/i__81833.csv / i ✓\n",
      "../data/test/i__88644.csv / o ✗ (i)\n",
      "../data/test/i__89095.csv / i ✓\n",
      "../data/test/i__91889.csv / u ✗ (i)\n",
      "../data/test/o__54903.csv / o ✓\n",
      "../data/test/o__63253.csv / o ✓\n",
      "../data/test/o__67824.csv / u ✗ (o)\n",
      "../data/test/o__72419.csv / o ✓\n",
      "../data/test/o__76748.csv / o ✓\n",
      "../data/test/u__81848.csv / o ✗ (u)\n",
      "../data/test/u__82120.csv / a ✗ (u)\n",
      "../data/test/u__83897.csv / o ✗ (u)\n",
      "../data/test/u__85976.csv / a ✗ (u)\n",
      "../data/test/u__88458.csv / o ✗ (u)\n",
      "../data/test/u__93521.csv / o ✗ (u)\n",
      "\n",
      "accuracy = 50.00 %\n",
      "\n"
     ]
    },
    {
     "data": {
      "image/png": "[encoded data removed]",
      "text/plain": [
       "<Figure size 576x396 with 2 Axes>"
      ]
     },
     "metadata": {
      "tags": []
     },
     "output_type": "display_data"
    }
   ],
   "source": [
    "# load test dataset\n",
    "character_files, all_characters = load_data(path=\"../data/test/\")\n",
    "print(\"characters in test data: \", all_characters)\n",
    "\n",
    "# keep track of correct guesses in a confusion matrix\n",
    "confusion = torch.zeros(n_characters, n_characters)\n",
    "\n",
    "with torch.no_grad():\n",
    "    n_correct = 0\n",
    "    n_samples = 0\n",
    "    \n",
    "    for character in all_characters:\n",
    "        # all files from one character\n",
    "        for file in character_files[character]:\n",
    "            file_tensor = file_to_tensor(file).to(device)\n",
    "            # get output\n",
    "            output = loaded_model(file_tensor).to(device)\n",
    "            # get character from output\n",
    "            guess = character_from_output(output)\n",
    "            n_samples += 1\n",
    "            if guess == character:\n",
    "                n_correct += 1\n",
    "                correct = \"✓\"\n",
    "            else:\n",
    "                correct = \"✗ (%s)\" % character\n",
    "            confusion[all_characters.index(character)][all_characters.index(guess)] += 1\n",
    "            \n",
    "            print(file, \"/\", guess, correct)\n",
    "\n",
    "# normalize by dividing every row by its sum\n",
    "for i in range(n_characters):\n",
    "    confusion[i] = confusion[i] / confusion[i].sum()\n",
    "\n",
    "acc = 100.0 * n_correct / n_samples\n",
    "print(f\"\\naccuracy = {acc:.2f} %\\n\")\n",
    "\n",
    "# set up plot\n",
    "fig = plt.figure()\n",
    "ax = fig.add_subplot(111)\n",
    "ax.grid(False)\n",
    "cax = ax.matshow(confusion.numpy(), cmap=\"viridis\")\n",
    "fig.colorbar(cax)\n",
    "\n",
    "# set up axes\n",
    "ax.set_xticks(range(5))\n",
    "ax.set_yticks(range(5))\n",
    "ax.set_xticklabels(all_characters, rotation=90)\n",
    "ax.set_yticklabels(all_characters)\n",
    "ax.set_xlabel(\"actual\")\n",
    "ax.xaxis.set_label_position(\"top\") \n",
    "ax.set_ylabel(\"predicted\")\n",
    "\n",
    "# force label at every tick\n",
    "ax.xaxis.set_major_locator(ticker.MultipleLocator(1))\n",
    "ax.yaxis.set_major_locator(ticker.MultipleLocator(1))\n",
    "\n",
    "# sphinx_gallery_thumbnail_number = 2\n",
    "plt.show()"
   ]
  },
  {
   "cell_type": "code",
   "execution_count": null,
   "id": "listed-source",
   "metadata": {
    "id": "specific-comparison"
   },
   "outputs": [],
   "source": []
  }
 ],
 "metadata": {
  "accelerator": "GPU",
  "colab": {
   "collapsed_sections": [],
   "name": "2.0.1-erikh-recurrent-neural-network-test.ipynb",
   "provenance": [
    {
     "file_id": "https://github.com/erikhelmut/japanese-character-classification/blob/main/notebooks/2.0.1-erikh-recurrent-neural-network-test.ipynb",
     "timestamp": 1621200670548
    },
    {
     "file_id": "https://github.com/erikhelmut/japanese-character-classification/blob/main/notebooks/2.0.1-erikh-recurrent-neural-network-test.ipynb",
     "timestamp": 1621111109960
    },
    {
     "file_id": "https://github.com/erikhelmut/japanese-character-classification/blob/main/2.0.1-erikh-recurrent-neural-network-test.ipynb",
     "timestamp": 1613827956677
    }
   ]
  },
  "kernelspec": {
   "display_name": "venv",
   "language": "python",
   "name": "venv"
  },
  "language_info": {
   "codemirror_mode": {
    "name": "ipython",
    "version": 3
   },
   "file_extension": ".py",
   "mimetype": "text/x-python",
   "name": "python",
   "nbconvert_exporter": "python",
   "pygments_lexer": "ipython3",
   "version": "3.9.2"
  }
 },
 "nbformat": 4,
 "nbformat_minor": 5
}
