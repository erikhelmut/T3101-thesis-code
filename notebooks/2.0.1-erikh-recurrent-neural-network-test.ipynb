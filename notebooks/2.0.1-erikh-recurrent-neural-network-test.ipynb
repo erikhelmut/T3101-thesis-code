{
 "cells": [
  {
   "cell_type": "markdown",
   "id": "domestic-magnet",
   "metadata": {
    "id": "suspected-sewing"
   },
   "source": [
    "# RNN for japanese character classification - Test Notebook"
   ]
  },
  {
   "cell_type": "code",
   "execution_count": 1,
   "id": "headed-frame",
   "metadata": {
    "colab": {
     "base_uri": "https://localhost:8080/"
    },
    "executionInfo": {
     "elapsed": 42602,
     "status": "ok",
     "timestamp": 1621109529560,
     "user": {
      "displayName": "",
      "photoUrl": "",
      "userId": ""
     },
     "user_tz": -120
    },
    "id": "tight-chrome",
    "outputId": "b1dc2dca-63f2-4db7-b985-2d9ab7427749"
   },
   "outputs": [
    {
     "name": "stdout",
     "output_type": "stream",
     "text": [
      "Mounted at /content/gdrive\n",
      "/content/gdrive/My Drive/Colab Notebooks\n",
      "/content/gdrive/My Drive/Colab Notebooks/japanese-character-classification/notebooks\n",
      "Already up to date.\n"
     ]
    }
   ],
   "source": [
    "from google.colab import drive, files\n",
    "import os\n",
    "drive.mount(\"/content/gdrive\")\n",
    "%cd gdrive/My Drive/Colab\\ Notebooks/\n",
    "if not os.path.exists('japanese-character-classification'):\n",
    "    !git clone https://github.com/erikhelmut/japanese-character-classification.git\n",
    "    %cd japanese-character-classification/notebooks/\n",
    "else:\n",
    "    %cd japanese-character-classification/notebooks/\n",
    "    !git pull\n",
    "#%pip install -r requirements.txt"
   ]
  },
  {
   "cell_type": "code",
   "execution_count": 4,
   "id": "removable-stranger",
   "metadata": {
    "colab": {
     "base_uri": "https://localhost:8080/"
    },
    "executionInfo": {
     "elapsed": 5227,
     "status": "ok",
     "timestamp": 1621109563418,
     "user": {
      "displayName": "",
      "photoUrl": "",
      "userId": ""
     },
     "user_tz": -120
    },
    "id": "tracked-validation",
    "outputId": "ecfdc473-612d-4763-e10b-9d79d0e0eb6b"
   },
   "outputs": [
    {
     "name": "stdout",
     "output_type": "stream",
     "text": [
      "cuda\n"
     ]
    }
   ],
   "source": [
    "import time\n",
    "import math\n",
    "import random\n",
    "\n",
    "import sys\n",
    "import inspect\n",
    "import os\n",
    "import glob\n",
    "import csv\n",
    "\n",
    "import numpy as np\n",
    "\n",
    "import torch\n",
    "import torch.nn as nn\n",
    "\n",
    "import matplotlib as mpl\n",
    "import matplotlib.pyplot as plt\n",
    "import matplotlib.ticker as ticker\n",
    "%matplotlib inline\n",
    "\n",
    "#currentdir = os.path.dirname(os.path.abspath(inspect.getfile(inspect.currentframe())))\n",
    "#parentdir = os.path.dirname(currentdir)\n",
    "#sys.path.insert(0,parentdir)\n",
    "\n",
    "sys.path.append(\"..\")\n",
    "\n",
    "from src.data.build_features import load_data, file_to_tensor, character_to_tensor, random_training_example\n",
    "\n",
    "device = torch.device(\"cuda\" if torch.cuda.is_available() else \"cpu\")\n",
    "print(device)"
   ]
  },
  {
   "cell_type": "markdown",
   "id": "included-column",
   "metadata": {
    "id": "mounted-patrol"
   },
   "source": [
    "## Define network structure"
   ]
  },
  {
   "cell_type": "code",
   "execution_count": 5,
   "id": "hourly-logan",
   "metadata": {
    "executionInfo": {
     "elapsed": 8392,
     "status": "ok",
     "timestamp": 1621109574080,
     "user": {
      "displayName": "",
      "photoUrl": "",
      "userId": ""
     },
     "user_tz": -120
    },
    "id": "rental-idaho"
   },
   "outputs": [],
   "source": [
    "class RNN(nn.Module):\n",
    "    \n",
    "    def __init__(self, input_size, hidden_size, n_layers, n_characters):\n",
    "        super(RNN, self).__init__()\n",
    "        self.n_layers = n_layers\n",
    "        self.hidden_size = hidden_size\n",
    "        \n",
    "        self.rnn = nn.RNN(input_size, hidden_size, n_layers, batch_first=False)\n",
    "        # -> x of shape (seq_len, batch, hidden_size)\n",
    "        self.fc = nn.Linear(hidden_size, n_characters)\n",
    "        self.softmax = nn.LogSoftmax(dim=1)\n",
    "        \n",
    "    def forward(self, x):\n",
    "        # initial hidden- & cell-state\n",
    "        h0 = torch.zeros(self.n_layers, x.size(1), self.hidden_size).to(device)\n",
    "       \n",
    "        \n",
    "        # output of shape (seq_len, batch, n_directions * hidden_size)\n",
    "        out, _ = self.rnn(x, h0)\n",
    "        \n",
    "        # only last Time-Step\n",
    "        out = out[-1, :, :]\n",
    "        \n",
    "        out = self.fc(out)\n",
    "        out = self.softmax(out)\n",
    "\n",
    "        return out"
   ]
  },
  {
   "cell_type": "markdown",
   "id": "former-gathering",
   "metadata": {
    "id": "cutting-challenge"
   },
   "source": [
    "## Define helper functions for neural network's training"
   ]
  },
  {
   "cell_type": "code",
   "execution_count": 7,
   "id": "right-presentation",
   "metadata": {
    "executionInfo": {
     "elapsed": 891,
     "status": "ok",
     "timestamp": 1621109581372,
     "user": {
      "displayName": "",
      "photoUrl": "",
      "userId": ""
     },
     "user_tz": -120
    },
    "id": "administrative-collapse"
   },
   "outputs": [],
   "source": [
    "def train(file_tensor, character_tensor):\n",
    "    output = model(file_tensor)\n",
    "    loss = criterion(output, character_tensor)\n",
    "    \n",
    "    optimizer.zero_grad()\n",
    "    loss.backward()\n",
    "    optimizer.step()\n",
    "    \n",
    "    return output, loss.item()\n",
    "\n",
    "def character_from_output(output):\n",
    "    character_idx = torch.argmax(output).item()\n",
    "    return all_characters[character_idx]"
   ]
  },
  {
   "cell_type": "code",
   "execution_count": 8,
   "id": "worth-bottom",
   "metadata": {
    "executionInfo": {
     "elapsed": 902,
     "status": "ok",
     "timestamp": 1621109586845,
     "user": {
      "displayName": "",
      "photoUrl": "",
      "userId": ""
     },
     "user_tz": -120
    },
    "id": "cardiac-engineering"
   },
   "outputs": [],
   "source": [
    "def determine_accuracy():\n",
    "    # locations of datasets\n",
    "    paths = [\"../data/test\", \"../data/train\"]\n",
    "    \n",
    "    for p in paths:\n",
    "    \n",
    "        character_files, all_characters = load_data(path=p)\n",
    "\n",
    "        with torch.no_grad():\n",
    "            n_correct = 0\n",
    "            n_samples = 0\n",
    "\n",
    "            for character in all_characters:\n",
    "                # all files from one character\n",
    "                for file in character_files[character]:\n",
    "                    file_tensor = file_to_tensor(file).to(device)\n",
    "                    # get output\n",
    "                    output = model(file_tensor).to(device)\n",
    "                    # get character from output\n",
    "                    guess = character_from_output(output)\n",
    "                    n_samples += 1\n",
    "                    if guess == character:\n",
    "                        n_correct += 1\n",
    "        \n",
    "        # calculate accuracy\n",
    "        if p == \"../data/test\":\n",
    "            acc_test = 100.0 * n_correct / n_samples\n",
    "        elif p == \"../data/train\":\n",
    "            acc_train = 100.0 * n_correct / n_samples\n",
    "\n",
    "    return acc_test, acc_train"
   ]
  },
  {
   "cell_type": "markdown",
   "id": "suburban-native",
   "metadata": {
    "id": "welcome-diabetes"
   },
   "source": [
    "## Defining hyperparameters of neural network's training"
   ]
  },
  {
   "cell_type": "code",
   "execution_count": 9,
   "id": "descending-lotus",
   "metadata": {
    "executionInfo": {
     "elapsed": 1590,
     "status": "ok",
     "timestamp": 1621109589949,
     "user": {
      "displayName": "",
      "photoUrl": "",
      "userId": ""
     },
     "user_tz": -120
    },
    "id": "unlikely-margin"
   },
   "outputs": [],
   "source": [
    "# load train dataset\n",
    "character_files, all_characters = load_data(path=\"../data/train/\")\n",
    "\n",
    "# hyper parameters\n",
    "input_size = 3 # features: x_acc, y_acc, z_acc\n",
    "n_characters = len(all_characters) # output_size\n",
    "hidden_size = 128\n",
    "n_layers = 2\n",
    "\n",
    "learning_rate = 0.005"
   ]
  },
  {
   "cell_type": "markdown",
   "id": "amended-prairie",
   "metadata": {
    "id": "therapeutic-unknown"
   },
   "source": [
    "## Start training loop"
   ]
  },
  {
   "cell_type": "code",
   "execution_count": 10,
   "id": "stainless-friend",
   "metadata": {
    "colab": {
     "base_uri": "https://localhost:8080/"
    },
    "executionInfo": {
     "elapsed": 955267,
     "status": "ok",
     "timestamp": 1621110546091,
     "user": {
      "displayName": "",
      "photoUrl": "",
      "userId": ""
     },
     "user_tz": -120
    },
    "id": "growing-exclusion",
    "outputId": "eabc52ff-c676-4fec-fe29-23d23f441283"
   },
   "outputs": [
    {
     "name": "stdout",
     "output_type": "stream",
     "text": [
      "5000 10% (2m 1s) 1.6359 ../data/train/e__46600.csv / o ✗ (e)\n",
      "10000 20% (3m 32s) 1.2144 ../data/train/i__03501.csv / a ✗ (i)\n",
      "15000 30% (5m 5s) 1.2387 ../data/train/u__96553.csv / i ✗ (u)\n",
      "20000 40% (6m 36s) 0.8132 ../data/train/o__03230.csv / o ✓\n",
      "25000 50% (8m 7s) 0.0443 ../data/train/u__89555.csv / u ✓\n",
      "30000 60% (9m 36s) 0.0022 ../data/train/e__17381.csv / e ✓\n",
      "35000 70% (11m 7s) 3.0357 ../data/train/a__44364.csv / o ✗ (a)\n",
      "40000 80% (12m 39s) 0.0225 ../data/train/o__31750.csv / o ✓\n",
      "45000 90% (14m 10s) 0.0045 ../data/train/e__30746.csv / e ✓\n",
      "50000 100% (15m 42s) 0.0014 ../data/train/e__26726.csv / e ✓\n"
     ]
    }
   ],
   "source": [
    "# initialize neural network   \n",
    "model = RNN(input_size, hidden_size, n_layers, n_characters).to(device)\n",
    "\n",
    "# loss and optimizer\n",
    "criterion = nn.NLLLoss()\n",
    "optimizer = torch.optim.SGD(model.parameters(), lr=learning_rate)\n",
    "\n",
    "current_loss = 0\n",
    "all_losses = []\n",
    "\n",
    "all_acc_test = []\n",
    "all_acc_train = []\n",
    "all_acc_time = []\n",
    "\n",
    "print_every = 5000\n",
    "plot_every = 1000\n",
    "acc_every = 500\n",
    "n_iters = 50000\n",
    "\n",
    "def timeSince(since):\n",
    "    now = time.time()\n",
    "    s = now - since\n",
    "    m = math.floor(s / 60)\n",
    "    s -= m * 60\n",
    "    return '%dm %ds' % (m, s)\n",
    "\n",
    "start = time.time()\n",
    "\n",
    "for i in range(1, n_iters + 1):\n",
    "    character, file, character_tensor, file_tensor = random_training_example(character_files, all_characters)\n",
    "    output, loss = train(file_tensor.to(device), character_tensor.to(device))\n",
    "    current_loss += loss\n",
    "    \n",
    "    # print iter number, loss, name and guess\n",
    "    if i % print_every == 0:\n",
    "        guess = character_from_output(output)\n",
    "        correct = '✓' if guess == character else '✗ (%s)' % character\n",
    "        print('%d %d%% (%s) %.4f %s / %s %s' % (i, i / n_iters * 100, timeSince(start), loss, file, guess, correct))\n",
    "\n",
    "    # add current loss avg to list of losses\n",
    "    if i % plot_every == 0:\n",
    "        all_losses.append(current_loss / plot_every)\n",
    "        current_loss = 0\n",
    "        \n",
    "    # determine accuracy with timestamp\n",
    "    if i % acc_every == 0:\n",
    "        acc_test, acc_train = determine_accuracy()\n",
    "        all_acc_test.append(acc_test)\n",
    "        all_acc_train.append(acc_train)\n",
    "        all_acc_time.append(time.time() - start)"
   ]
  },
  {
   "cell_type": "code",
   "execution_count": 11,
   "id": "informational-bottom",
   "metadata": {
    "executionInfo": {
     "elapsed": 533,
     "status": "ok",
     "timestamp": 1621110783312,
     "user": {
      "displayName": "",
      "photoUrl": "",
      "userId": ""
     },
     "user_tz": -120
    },
    "id": "desirable-accent"
   },
   "outputs": [],
   "source": [
    "np.savetxt(\"../evaluation/RNN_1x128_acc_test.csv\", all_acc_test, delimiter =\",\")\n",
    "np.savetxt(\"../evaluation/RNN_1x128_acc_train.csv\", all_acc_train, delimiter =\",\")\n",
    "np.savetxt(\"../evaluation/RNN_1x128_acc_time.csv\", all_acc_time, delimiter =\",\")\n",
    "np.savetxt(\"../evaluation/RNN_1x128_loss.csv\", all_losses, delimiter =\",\")"
   ]
  },
  {
   "cell_type": "markdown",
   "id": "organic-manchester",
   "metadata": {
    "id": "brazilian-offense"
   },
   "source": [
    "## Plot LOSS-function"
   ]
  },
  {
   "cell_type": "code",
   "execution_count": 12,
   "id": "prerequisite-costume",
   "metadata": {
    "colab": {
     "base_uri": "https://localhost:8080/",
     "height": 413
    },
    "executionInfo": {
     "elapsed": 581,
     "status": "ok",
     "timestamp": 1621110785553,
     "user": {
      "displayName": "",
      "photoUrl": "",
      "userId": ""
     },
     "user_tz": -120
    },
    "id": "adult-margin",
    "outputId": "03f7ad1e-e3ff-4529-918a-621190de141f"
   },
   "outputs": [
    {
     "data": {
      "image/png": "[encoded data removed]",
      "text/plain": [
       "<Figure size 864x432 with 1 Axes>"
      ]
     },
     "metadata": {
      "tags": []
     },
     "output_type": "display_data"
    }
   ],
   "source": [
    "# create figure\n",
    "mpl.style.use(\"seaborn\")\n",
    "plt.figure(figsize=(12,6))\n",
    "# create plot\n",
    "plt.plot(all_losses)\n",
    "# title and labels\n",
    "plt.title(\"LOSS-function\", fontsize=20)\n",
    "plt.xlabel(\"iterations [e3]\", fontsize=15)\n",
    "plt.ylabel(\"loss\", fontsize=15)\n",
    "# show plot\n",
    "plt.show()"
   ]
  },
  {
   "cell_type": "markdown",
   "id": "numerical-factor",
   "metadata": {
    "id": "identical-devil"
   },
   "source": [
    "## Save model"
   ]
  },
  {
   "cell_type": "code",
   "execution_count": 13,
   "id": "capital-freeze",
   "metadata": {
    "colab": {
     "base_uri": "https://localhost:8080/"
    },
    "executionInfo": {
     "elapsed": 589,
     "status": "ok",
     "timestamp": 1621110790331,
     "user": {
      "displayName": "",
      "photoUrl": "",
      "userId": ""
     },
     "user_tz": -120
    },
    "id": "regional-interface",
    "outputId": "c94e3973-892e-479d-c3af-f3dae123da95"
   },
   "outputs": [
    {
     "name": "stdout",
     "output_type": "stream",
     "text": [
      "/content/gdrive/My Drive/Colab Notebooks/japanese-character-classification/models\n",
      "/content/gdrive/My Drive/Colab Notebooks/japanese-character-classification/notebooks\n"
     ]
    }
   ],
   "source": [
    "%cd ../models/\n",
    "FILE = \"2.0.1-lstm-network-model-test-128x1.pth\"\n",
    "torch.save(model.state_dict(), FILE)\n",
    "%cd ../notebooks/"
   ]
  },
  {
   "cell_type": "markdown",
   "id": "applicable-logistics",
   "metadata": {
    "id": "colonial-trainer"
   },
   "source": [
    "## Load model"
   ]
  },
  {
   "cell_type": "code",
   "execution_count": 14,
   "id": "textile-tiffany",
   "metadata": {
    "colab": {
     "base_uri": "https://localhost:8080/"
    },
    "executionInfo": {
     "elapsed": 491,
     "status": "ok",
     "timestamp": 1621110792300,
     "user": {
      "displayName": "",
      "photoUrl": "",
      "userId": ""
     },
     "user_tz": -120
    },
    "id": "fifteen-survey",
    "outputId": "65b51b6e-7beb-4d43-a486-7ce899a1ce21"
   },
   "outputs": [
    {
     "name": "stdout",
     "output_type": "stream",
     "text": [
      "/content/gdrive/My Drive/Colab Notebooks/japanese-character-classification/models\n",
      "/content/gdrive/My Drive/Colab Notebooks/japanese-character-classification/notebooks\n"
     ]
    }
   ],
   "source": [
    "%cd ../models/\n",
    "FILE = \"2.0.1-lstm-network-model-test-128x1.pth\"\n",
    "loaded_model = RNN(input_size, hidden_size, n_layers, n_characters).to(device)\n",
    "loaded_model.load_state_dict(torch.load(FILE, map_location=device))\n",
    "loaded_model.eval()\n",
    "%cd ../notebooks/"
   ]
  },
  {
   "cell_type": "markdown",
   "id": "focused-bunch",
   "metadata": {
    "id": "activated-filling"
   },
   "source": [
    "## Determine accuracy"
   ]
  },
  {
   "cell_type": "code",
   "execution_count": 17,
   "id": "general-superintendent",
   "metadata": {
    "colab": {
     "base_uri": "https://localhost:8080/",
     "height": 871
    },
    "executionInfo": {
     "elapsed": 958,
     "status": "ok",
     "timestamp": 1621110809522,
     "user": {
      "displayName": "",
      "photoUrl": "",
      "userId": ""
     },
     "user_tz": -120
    },
    "id": "married-cigarette",
    "outputId": "b24a15c6-a607-432c-8139-0587df340f15"
   },
   "outputs": [
    {
     "name": "stdout",
     "output_type": "stream",
     "text": [
      "characters in test data:  ['a', 'e', 'i', 'o', 'u']\n",
      "../data/test/a__88470.csv / a ✓\n",
      "../data/test/a__94789.csv / a ✓\n",
      "../data/test/a__96486.csv / a ✓\n",
      "../data/test/a__97545.csv / a ✓\n",
      "../data/test/a__98539.csv / a ✓\n",
      "../data/test/e__70433.csv / e ✓\n",
      "../data/test/e__76682.csv / e ✓\n",
      "../data/test/e__82254.csv / e ✓\n",
      "../data/test/e__83191.csv / e ✓\n",
      "../data/test/e__84585.csv / e ✓\n",
      "../data/test/i__75461.csv / i ✓\n",
      "../data/test/i__81833.csv / i ✓\n",
      "../data/test/i__88644.csv / i ✓\n",
      "../data/test/i__89095.csv / i ✓\n",
      "../data/test/i__91889.csv / i ✓\n",
      "../data/test/o__54903.csv / o ✓\n",
      "../data/test/o__63253.csv / o ✓\n",
      "../data/test/o__67824.csv / a ✗ (o)\n",
      "../data/test/o__72419.csv / o ✓\n",
      "../data/test/o__76748.csv / o ✓\n",
      "../data/test/u__81848.csv / u ✓\n",
      "../data/test/u__82120.csv / u ✓\n",
      "../data/test/u__83897.csv / u ✓\n",
      "../data/test/u__85976.csv / u ✓\n",
      "../data/test/u__88458.csv / u ✓\n",
      "../data/test/u__93521.csv / u ✓\n",
      "\n",
      "accuracy = 96.15 %\n",
      "\n"
     ]
    },
    {
     "data": {
      "image/png": "[encoded data removed]",
      "text/plain": [
       "<Figure size 576x396 with 2 Axes>"
      ]
     },
     "metadata": {
      "tags": []
     },
     "output_type": "display_data"
    }
   ],
   "source": [
    "# load test dataset\n",
    "character_files, all_characters = load_data(path=\"../data/test/\")\n",
    "print(\"characters in test data: \", all_characters)\n",
    "\n",
    "# keep track of correct guesses in a confusion matrix\n",
    "confusion = torch.zeros(n_characters, n_characters)\n",
    "\n",
    "with torch.no_grad():\n",
    "    n_correct = 0\n",
    "    n_samples = 0\n",
    "    \n",
    "    for character in all_characters:\n",
    "        # all files from one character\n",
    "        for file in character_files[character]:\n",
    "            file_tensor = file_to_tensor(file).to(device)\n",
    "            # get output\n",
    "            output = loaded_model(file_tensor).to(device)\n",
    "            # get character from output\n",
    "            guess = character_from_output(output)\n",
    "            n_samples += 1\n",
    "            if guess == character:\n",
    "                n_correct += 1\n",
    "                correct = \"✓\"\n",
    "            else:\n",
    "                correct = \"✗ (%s)\" % character\n",
    "            confusion[all_characters.index(character)][all_characters.index(guess)] += 1\n",
    "            \n",
    "            print(file, \"/\", guess, correct)\n",
    "\n",
    "# normalize by dividing every row by its sum\n",
    "for i in range(n_characters):\n",
    "    confusion[i] = confusion[i] / confusion[i].sum()\n",
    "\n",
    "acc = 100.0 * n_correct / n_samples\n",
    "print(f\"\\naccuracy = {acc:.2f} %\\n\")\n",
    "\n",
    "# set up plot\n",
    "fig = plt.figure()\n",
    "ax = fig.add_subplot(111)\n",
    "ax.grid(False)\n",
    "cax = ax.matshow(confusion.numpy(), cmap=\"viridis\")\n",
    "fig.colorbar(cax)\n",
    "\n",
    "# set up axes\n",
    "ax.set_xticks(range(5))\n",
    "ax.set_yticks(range(5))\n",
    "ax.set_xticklabels(all_characters, rotation=90)\n",
    "ax.set_yticklabels(all_characters)\n",
    "ax.set_xlabel(\"actual\")\n",
    "ax.xaxis.set_label_position(\"top\") \n",
    "ax.set_ylabel(\"predicted\")\n",
    "\n",
    "# force label at every tick\n",
    "ax.xaxis.set_major_locator(ticker.MultipleLocator(1))\n",
    "ax.yaxis.set_major_locator(ticker.MultipleLocator(1))\n",
    "\n",
    "# sphinx_gallery_thumbnail_number = 2\n",
    "plt.show()"
   ]
  },
  {
   "cell_type": "code",
   "execution_count": null,
   "id": "specific-comparison",
   "metadata": {
    "id": "lucky-intake"
   },
   "outputs": [],
   "source": []
  }
 ],
 "metadata": {
  "accelerator": "GPU",
  "colab": {
   "collapsed_sections": [],
   "name": "Kopie von 2.0.1-erikh-recurrent-neural-network-test.ipynb",
   "provenance": [
    {
     "file_id": "https://github.com/erikhelmut/japanese-character-classification/blob/main/notebooks/2.0.1-erikh-recurrent-neural-network-test.ipynb",
     "timestamp": 1621111109960
    },
    {
     "file_id": "https://github.com/erikhelmut/japanese-character-classification/blob/main/2.0.1-erikh-recurrent-neural-network-test.ipynb",
     "timestamp": 1613827956677
    }
   ]
  },
  "kernelspec": {
   "display_name": "venv",
   "language": "python",
   "name": "venv"
  },
  "language_info": {
   "codemirror_mode": {
    "name": "ipython",
    "version": 3
   },
   "file_extension": ".py",
   "mimetype": "text/x-python",
   "name": "python",
   "nbconvert_exporter": "python",
   "pygments_lexer": "ipython3",
   "version": "3.9.2"
  }
 },
 "nbformat": 4,
 "nbformat_minor": 5
}
