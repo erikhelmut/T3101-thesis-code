{
 "cells": [
  {
   "cell_type": "markdown",
   "id": "historical-discrimination",
   "metadata": {
    "id": "pacific-simpson"
   },
   "source": [
    "# RNN with LSTM for japanese character classification"
   ]
  },
  {
   "cell_type": "code",
   "execution_count": null,
   "id": "prostate-bread",
   "metadata": {},
   "outputs": [],
   "source": [
    "from google.colab import drive, files\n",
    "import os\n",
    "drive.mount(\"/content/gdrive\")\n",
    "%cd gdrive/My Drive/Colab\\ Notebooks/\n",
    "if not os.path.exists('japanese-character-classification'):\n",
    "    !git clone https://github.com/erikhelmut/japanese-character-classification.git\n",
    "    %cd japanese-character-classification/notebooks/\n",
    "else:\n",
    "    %cd japanese-character-classification/notebooks/\n",
    "    !git pull\n",
    "#%pip install -r requirements.txt"
   ]
  },
  {
   "cell_type": "code",
   "execution_count": 1,
   "id": "excited-notebook",
   "metadata": {
    "colab": {
     "base_uri": "https://localhost:8080/"
    },
    "executionInfo": {
     "elapsed": 1197,
     "status": "ok",
     "timestamp": 1613848042336,
     "user": {
      "displayName": "Erik Helmut",
      "photoUrl": "https://lh3.googleusercontent.com/a-/AOh14GiRlVwr0oMEAsVTe0S1tLmAIgrH8zUSVrp_6cvcSw=s64",
      "userId": "13906979822254877021"
     },
     "user_tz": -60
    },
    "id": "dedicated-crossing",
    "outputId": "e5096c2d-c144-474f-fe9b-7b31523ca9b5"
   },
   "outputs": [
    {
     "name": "stdout",
     "output_type": "stream",
     "text": [
      "cpu\n"
     ]
    }
   ],
   "source": [
    "import time\n",
    "import math\n",
    "import random\n",
    "\n",
    "import sys\n",
    "import inspect\n",
    "import os\n",
    "import glob\n",
    "import csv\n",
    "\n",
    "import torch\n",
    "import torch.nn as nn\n",
    "\n",
    "import matplotlib as mpl\n",
    "import matplotlib.pyplot as plt\n",
    "import matplotlib.ticker as ticker\n",
    "%matplotlib inline\n",
    "\n",
    "currentdir = os.path.dirname(os.path.abspath(inspect.getfile(inspect.currentframe())))\n",
    "parentdir = os.path.dirname(currentdir)\n",
    "sys.path.insert(0,parentdir)\n",
    "\n",
    "from src.data.build_features import load_data, file_to_tensor, character_to_tensor, random_training_example\n",
    "\n",
    "device = torch.device(\"cuda\" if torch.cuda.is_available() else \"cpu\")\n",
    "print(device)"
   ]
  },
  {
   "cell_type": "markdown",
   "id": "geological-width",
   "metadata": {
    "id": "everyday-think"
   },
   "source": [
    "## Define network structure"
   ]
  },
  {
   "cell_type": "code",
   "execution_count": 2,
   "id": "local-integrity",
   "metadata": {
    "executionInfo": {
     "elapsed": 825,
     "status": "ok",
     "timestamp": 1613848054598,
     "user": {
      "displayName": "Erik Helmut",
      "photoUrl": "https://lh3.googleusercontent.com/a-/AOh14GiRlVwr0oMEAsVTe0S1tLmAIgrH8zUSVrp_6cvcSw=s64",
      "userId": "13906979822254877021"
     },
     "user_tz": -60
    },
    "id": "finnish-anaheim"
   },
   "outputs": [],
   "source": [
    "class RNN(nn.Module):\n",
    "    \n",
    "    def __init__(self, input_size, hidden_size, n_layers, n_characters):\n",
    "        super(RNN, self).__init__()\n",
    "        self.n_layers = n_layers\n",
    "        self.hidden_size = hidden_size\n",
    "        \n",
    "        self.lstm = nn.LSTM(input_size, hidden_size, n_layers, batch_first=False)\n",
    "        # -> x of shape (seq_len, batch, hidden_size)\n",
    "        self.fc = nn.Linear(hidden_size, n_characters)\n",
    "        self.softmax = nn.LogSoftmax(dim=1)\n",
    "        \n",
    "    def forward(self, x):\n",
    "        # initial hidden- & cell-state\n",
    "        h0 = torch.zeros(self.n_layers, x.size(1), self.hidden_size).to(device)\n",
    "        c0 = torch.zeros(self.n_layers, x.size(1), self.hidden_size).to(device)\n",
    "        \n",
    "        # output of shape (seq_len, batch, n_directions * hidden_size)\n",
    "        out, _ = self.lstm(x, (h0,c0))\n",
    "        \n",
    "        # only last Time-Step\n",
    "        out = out[-1, :, :]\n",
    "        \n",
    "        out = self.fc(out)\n",
    "        out = self.softmax(out)\n",
    "\n",
    "        return out"
   ]
  },
  {
   "cell_type": "markdown",
   "id": "happy-context",
   "metadata": {
    "id": "reverse-habitat"
   },
   "source": [
    "## Define helper functions for neural network's training"
   ]
  },
  {
   "cell_type": "code",
   "execution_count": 3,
   "id": "suspected-scoop",
   "metadata": {
    "executionInfo": {
     "elapsed": 697,
     "status": "ok",
     "timestamp": 1613848056711,
     "user": {
      "displayName": "Erik Helmut",
      "photoUrl": "https://lh3.googleusercontent.com/a-/AOh14GiRlVwr0oMEAsVTe0S1tLmAIgrH8zUSVrp_6cvcSw=s64",
      "userId": "13906979822254877021"
     },
     "user_tz": -60
    },
    "id": "suburban-drinking"
   },
   "outputs": [],
   "source": [
    "def train(file_tensor, character_tensor):\n",
    "    output = model(file_tensor)\n",
    "    loss = criterion(output, character_tensor)\n",
    "    \n",
    "    optimizer.zero_grad()\n",
    "    loss.backward()\n",
    "    optimizer.step()\n",
    "    \n",
    "    return output, loss.item()\n",
    "\n",
    "def character_from_output(output):\n",
    "    character_idx = torch.argmax(output).item()\n",
    "    return all_characters[character_idx]"
   ]
  },
  {
   "cell_type": "markdown",
   "id": "seasonal-forwarding",
   "metadata": {
    "id": "armed-rover"
   },
   "source": [
    "## Defining hyperparameters of neural network's training"
   ]
  },
  {
   "cell_type": "code",
   "execution_count": 4,
   "id": "international-patch",
   "metadata": {
    "executionInfo": {
     "elapsed": 556,
     "status": "ok",
     "timestamp": 1613848067413,
     "user": {
      "displayName": "Erik Helmut",
      "photoUrl": "https://lh3.googleusercontent.com/a-/AOh14GiRlVwr0oMEAsVTe0S1tLmAIgrH8zUSVrp_6cvcSw=s64",
      "userId": "13906979822254877021"
     },
     "user_tz": -60
    },
    "id": "sustainable-wells"
   },
   "outputs": [],
   "source": [
    "# load train dataset\n",
    "character_files, all_characters = load_data(path=\"../data/train/\")\n",
    "\n",
    "# hyper parameters\n",
    "input_size = 3 # features: x_acc, y_acc, z_acc\n",
    "n_characters = len(all_characters) # output_size\n",
    "hidden_size = 128\n",
    "n_layers = 1\n",
    "\n",
    "learning_rate = 0.005"
   ]
  },
  {
   "cell_type": "markdown",
   "id": "antique-mixer",
   "metadata": {
    "id": "guided-parent"
   },
   "source": [
    "## Start training loop"
   ]
  },
  {
   "cell_type": "code",
   "execution_count": 7,
   "id": "natural-commodity",
   "metadata": {
    "colab": {
     "base_uri": "https://localhost:8080/"
    },
    "executionInfo": {
     "elapsed": 820735,
     "status": "ok",
     "timestamp": 1613848891376,
     "user": {
      "displayName": "Erik Helmut",
      "photoUrl": "https://lh3.googleusercontent.com/a-/AOh14GiRlVwr0oMEAsVTe0S1tLmAIgrH8zUSVrp_6cvcSw=s64",
      "userId": "13906979822254877021"
     },
     "user_tz": -60
    },
    "id": "logical-latex",
    "outputId": "7c26d8a8-8fc1-487a-e2bf-96a202faaea9"
   },
   "outputs": [
    {
     "name": "stdout",
     "output_type": "stream",
     "text": [
      "5000 10% (1m 21s) 0.1003 data/train/e__11863.csv / e ✓\n",
      "10000 20% (2m 46s) 0.4983 data/train/a__77402.csv / a ✓\n",
      "15000 30% (4m 6s) 0.8031 data/train/o__24182.csv / o ✓\n",
      "20000 40% (5m 28s) 0.2918 data/train/u__96553.csv / u ✓\n",
      "25000 50% (6m 50s) 0.0065 data/train/e__54428.csv / e ✓\n",
      "30000 60% (8m 12s) 0.0174 data/train/u__71715.csv / u ✓\n",
      "35000 70% (9m 32s) 0.0049 data/train/i__29449.csv / i ✓\n",
      "40000 80% (10m 53s) 0.0142 data/train/e__49604.csv / e ✓\n",
      "45000 90% (12m 14s) 0.0016 data/train/o__30767.csv / o ✓\n",
      "50000 100% (13m 37s) 0.0009 data/train/a__55117.csv / a ✓\n"
     ]
    }
   ],
   "source": [
    "# initialize neural network   \n",
    "model = RNN(input_size, hidden_size, n_layers, n_characters).to(device)\n",
    "\n",
    "# loss and optimizer\n",
    "criterion = nn.NLLLoss()\n",
    "optimizer = torch.optim.SGD(model.parameters(), lr=learning_rate)\n",
    "\n",
    "current_loss = 0\n",
    "all_losses = []\n",
    "\n",
    "print_every = 5000\n",
    "plot_every = 1000\n",
    "n_iters = 50000\n",
    "\n",
    "def timeSince(since):\n",
    "    now = time.time()\n",
    "    s = now - since\n",
    "    m = math.floor(s / 60)\n",
    "    s -= m * 60\n",
    "    return '%dm %ds' % (m, s)\n",
    "\n",
    "start = time.time()\n",
    "\n",
    "for i in range(1, n_iters + 1):\n",
    "    character, file, character_tensor, file_tensor = random_training_example(character_files, all_characters)\n",
    "    output, loss = train(file_tensor.to(device), character_tensor.to(device))\n",
    "    current_loss += loss\n",
    "    \n",
    "    # print iter number, loss, name and guess\n",
    "    if i % print_every == 0:\n",
    "        guess = character_from_output(output)\n",
    "        correct = '✓' if guess == character else '✗ (%s)' % character\n",
    "        print('%d %d%% (%s) %.4f %s / %s %s' % (i, i / n_iters * 100, timeSince(start), loss, file, guess, correct))\n",
    "\n",
    "    # add current loss avg to list of losses\n",
    "    if i % plot_every == 0:\n",
    "        all_losses.append(current_loss / plot_every)\n",
    "        current_loss = 0"
   ]
  },
  {
   "cell_type": "markdown",
   "id": "absolute-realtor",
   "metadata": {
    "id": "registered-dealer"
   },
   "source": [
    "## Plot LOSS-function"
   ]
  },
  {
   "cell_type": "code",
   "execution_count": 8,
   "id": "domestic-professional",
   "metadata": {
    "colab": {
     "base_uri": "https://localhost:8080/",
     "height": 410
    },
    "executionInfo": {
     "elapsed": 642,
     "status": "ok",
     "timestamp": 1613848896884,
     "user": {
      "displayName": "Erik Helmut",
      "photoUrl": "https://lh3.googleusercontent.com/a-/AOh14GiRlVwr0oMEAsVTe0S1tLmAIgrH8zUSVrp_6cvcSw=s64",
      "userId": "13906979822254877021"
     },
     "user_tz": -60
    },
    "id": "ideal-rental",
    "outputId": "6f9639ca-3570-4db2-803d-54efc8b52fff"
   },
   "outputs": [
    {
     "data": {
      "image/png": "[encoded data removed]",
      "text/plain": [
       "<Figure size 864x432 with 1 Axes>"
      ]
     },
     "metadata": {
      "tags": []
     },
     "output_type": "display_data"
    }
   ],
   "source": [
    "# create figure\n",
    "mpl.style.use(\"seaborn\")\n",
    "plt.figure(figsize=(12,6))\n",
    "# create plot\n",
    "plt.plot(all_losses)\n",
    "# title and labels\n",
    "plt.title(\"LOSS-function\", fontsize=20)\n",
    "plt.xlabel(\"iterations\", fontsize=15)\n",
    "plt.ylabel(\"loss\", fontsize=15)\n",
    "# show plot\n",
    "plt.show()"
   ]
  },
  {
   "cell_type": "markdown",
   "id": "smart-vancouver",
   "metadata": {
    "id": "reduced-cinema"
   },
   "source": [
    "## Save model"
   ]
  },
  {
   "cell_type": "code",
   "execution_count": 11,
   "id": "equipped-bryan",
   "metadata": {
    "executionInfo": {
     "elapsed": 522,
     "status": "ok",
     "timestamp": 1613848954635,
     "user": {
      "displayName": "Erik Helmut",
      "photoUrl": "https://lh3.googleusercontent.com/a-/AOh14GiRlVwr0oMEAsVTe0S1tLmAIgrH8zUSVrp_6cvcSw=s64",
      "userId": "13906979822254877021"
     },
     "user_tz": -60
    },
    "id": "accessory-raise"
   },
   "outputs": [],
   "source": [
    "%cd ../models/\n",
    "FILE = \"2.2-lstm-network-model.pth\"\n",
    "torch.save(model.state_dict(), FILE)\n",
    "%cd ../notebooks/"
   ]
  },
  {
   "cell_type": "markdown",
   "id": "encouraging-genome",
   "metadata": {
    "id": "egyptian-grenada"
   },
   "source": [
    "## Load model"
   ]
  },
  {
   "cell_type": "code",
   "execution_count": 5,
   "id": "right-blocking",
   "metadata": {
    "colab": {
     "base_uri": "https://localhost:8080/"
    },
    "executionInfo": {
     "elapsed": 546,
     "status": "ok",
     "timestamp": 1613848970177,
     "user": {
      "displayName": "Erik Helmut",
      "photoUrl": "https://lh3.googleusercontent.com/a-/AOh14GiRlVwr0oMEAsVTe0S1tLmAIgrH8zUSVrp_6cvcSw=s64",
      "userId": "13906979822254877021"
     },
     "user_tz": -60
    },
    "id": "american-seven",
    "outputId": "c057b58c-065f-4e37-87fd-ae4e735947b8"
   },
   "outputs": [
    {
     "name": "stdout",
     "output_type": "stream",
     "text": [
      "C:\\Users\\erikh\\OneDrive\\Dokumente\\Studium\\!Studienarbeit\\japanese-character-classification\\models\n",
      "C:\\Users\\erikh\\OneDrive\\Dokumente\\Studium\\!Studienarbeit\\japanese-character-classification\\notebooks\n"
     ]
    }
   ],
   "source": [
    "%cd ../models/\n",
    "FILE = \"2.2-lstm-network-model.pth\"\n",
    "loaded_model = RNN(input_size, hidden_size, n_layers, n_characters).to(device)\n",
    "loaded_model.load_state_dict(torch.load(FILE, map_location=device))\n",
    "loaded_model.eval()\n",
    "%cd ../notebooks/"
   ]
  },
  {
   "cell_type": "markdown",
   "id": "clean-barcelona",
   "metadata": {
    "id": "4DX2VySQodeI"
   },
   "source": [
    "## Determine accuracy"
   ]
  },
  {
   "cell_type": "code",
   "execution_count": 7,
   "id": "exempt-launch",
   "metadata": {},
   "outputs": [
    {
     "name": "stdout",
     "output_type": "stream",
     "text": [
      "characters in test data:  ['a', 'e', 'i', 'o', 'u']\n",
      "../data/test\\a__88470.csv / a ✓\n",
      "../data/test\\a__94789.csv / a ✓\n",
      "../data/test\\a__96486.csv / a ✓\n",
      "../data/test\\a__97545.csv / a ✓\n",
      "../data/test\\a__98539.csv / a ✓\n",
      "../data/test\\e__70433.csv / e ✓\n",
      "../data/test\\e__76682.csv / e ✓\n",
      "../data/test\\e__82254.csv / e ✓\n",
      "../data/test\\e__83191.csv / e ✓\n",
      "../data/test\\e__84585.csv / e ✓\n",
      "../data/test\\i__75461.csv / i ✓\n",
      "../data/test\\i__81833.csv / i ✓\n",
      "../data/test\\i__88644.csv / i ✓\n",
      "../data/test\\i__89095.csv / i ✓\n",
      "../data/test\\i__91889.csv / i ✓\n",
      "../data/test\\o__54903.csv / o ✓\n",
      "../data/test\\o__63253.csv / o ✓\n",
      "../data/test\\o__67824.csv / o ✓\n",
      "../data/test\\o__72419.csv / o ✓\n",
      "../data/test\\o__76748.csv / o ✓\n",
      "../data/test\\u__81848.csv / u ✓\n",
      "../data/test\\u__82120.csv / u ✓\n",
      "../data/test\\u__83897.csv / u ✓\n",
      "../data/test\\u__85976.csv / u ✓\n",
      "../data/test\\u__88458.csv / u ✓\n",
      "../data/test\\u__93521.csv / u ✓\n",
      "\n",
      "accuracy = 100.00 %\n",
      "\n"
     ]
    },
    {
     "data": {
      "image/png": "[encoded data removed]",
      "text/plain": [
       "<Figure size 432x288 with 2 Axes>"
      ]
     },
     "metadata": {
      "needs_background": "light"
     },
     "output_type": "display_data"
    }
   ],
   "source": [
    "# load test dataset\n",
    "character_files, all_characters = load_data(path=\"../data/test/\")\n",
    "print(\"characters in test data: \", all_characters)\n",
    "\n",
    "# keep track of correct guesses in a confusion matrix\n",
    "confusion = torch.zeros(n_characters, n_characters)\n",
    "\n",
    "with torch.no_grad():\n",
    "    n_correct = 0\n",
    "    n_samples = 0\n",
    "    \n",
    "    for character in all_characters:\n",
    "        # all files from one character\n",
    "        for file in character_files[character]:\n",
    "            file_tensor = file_to_tensor(file).to(device)\n",
    "            # get output\n",
    "            output = loaded_model(file_tensor).to(device)\n",
    "            # get character from output\n",
    "            guess = character_from_output(output)\n",
    "            n_samples += 1\n",
    "            if guess == character:\n",
    "                n_correct += 1\n",
    "                correct = \"✓\"\n",
    "            else:\n",
    "                correct = \"✗ (%s)\" % character\n",
    "            confusion[all_characters.index(character)][all_characters.index(guess)] += 1\n",
    "            \n",
    "            print(file, \"/\", guess, correct)\n",
    "\n",
    "# normalize by dividing every row by its sum\n",
    "for i in range(n_characters):\n",
    "    confusion[i] = confusion[i] / confusion[i].sum()\n",
    "\n",
    "acc = 100.0 * n_correct / n_samples\n",
    "print(f\"\\naccuracy = {acc:.2f} %\\n\")\n",
    "\n",
    "# set up plot\n",
    "fig = plt.figure()\n",
    "ax = fig.add_subplot(111)\n",
    "ax.grid(False)\n",
    "cax = ax.matshow(confusion.numpy(), cmap=\"viridis\")\n",
    "fig.colorbar(cax)\n",
    "\n",
    "# set up axes\n",
    "ax.set_xticks(range(5))\n",
    "ax.set_yticks(range(5))\n",
    "ax.set_xticklabels(all_characters, rotation=90)\n",
    "ax.set_yticklabels(all_characters)\n",
    "\n",
    "# force label at every tick\n",
    "ax.xaxis.set_major_locator(ticker.MultipleLocator(1))\n",
    "ax.yaxis.set_major_locator(ticker.MultipleLocator(1))\n",
    "\n",
    "# sphinx_gallery_thumbnail_number = 2\n",
    "plt.show()"
   ]
  }
 ],
 "metadata": {
  "accelerator": "GPU",
  "colab": {
   "collapsed_sections": [],
   "name": "2.2-erikh-lstm-network.ipynb",
   "provenance": [
    {
     "file_id": "https://github.com/erikhelmut/japanese-character-classification/blob/main/2.2-erikh-lstm-network.ipynb",
     "timestamp": 1613827956677
    }
   ]
  },
  "kernelspec": {
   "display_name": "Python 3",
   "language": "python",
   "name": "python3"
  },
  "language_info": {
   "codemirror_mode": {
    "name": "ipython",
    "version": 3
   },
   "file_extension": ".py",
   "mimetype": "text/x-python",
   "name": "python",
   "nbconvert_exporter": "python",
   "pygments_lexer": "ipython3",
   "version": "3.9.2"
  }
 },
 "nbformat": 4,
 "nbformat_minor": 5
}
