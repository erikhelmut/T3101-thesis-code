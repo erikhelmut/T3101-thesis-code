{
 "cells": [
  {
   "cell_type": "markdown",
   "id": "sustainable-andrews",
   "metadata": {
    "id": "instructional-monthly"
   },
   "source": [
    "# RNN with Custom LSTMCell for japanese character classification"
   ]
  },
  {
   "cell_type": "code",
   "execution_count": 1,
   "id": "virgin-march",
   "metadata": {
    "colab": {
     "base_uri": "https://localhost:8080/"
    },
    "id": "collect-watts",
    "outputId": "06aee246-fd2c-481b-cca7-a7bdc6042ca2"
   },
   "outputs": [
    {
     "name": "stdout",
     "output_type": "stream",
     "text": [
      "Drive already mounted at /content/gdrive; to attempt to forcibly remount, call drive.mount(\"/content/gdrive\", force_remount=True).\n",
      "/content/gdrive/My Drive/Colab Notebooks\n",
      "Cloning into 'japanese-character-classification'...\n",
      "remote: Enumerating objects: 204, done.\u001b[K\n",
      "remote: Counting objects: 100% (204/204), done.\u001b[K\n",
      "remote: Compressing objects: 100% (151/151), done.\u001b[K\n",
      "remote: Total 592 (delta 117), reused 134 (delta 52), pack-reused 388\u001b[K\n",
      "Receiving objects: 100% (592/592), 4.72 MiB | 15.35 MiB/s, done.\n",
      "Resolving deltas: 100% (236/236), done.\n",
      "Checking out files: 100% (164/164), done.\n",
      "/content/gdrive/My Drive/Colab Notebooks/japanese-character-classification/notebooks\n"
     ]
    }
   ],
   "source": [
    "from google.colab import drive, files\n",
    "import os\n",
    "drive.mount(\"/content/gdrive\")\n",
    "%cd gdrive/My Drive/Colab\\ Notebooks/\n",
    "if not os.path.exists('japanese-character-classification'):\n",
    "    !git clone https://github.com/erikhelmut/japanese-character-classification.git\n",
    "    %cd japanese-character-classification/notebooks/\n",
    "else:\n",
    "    %cd japanese-character-classification/notebooks/\n",
    "    !git pull\n",
    "#%pip install -r requirements.txt"
   ]
  },
  {
   "cell_type": "code",
   "execution_count": 81,
   "id": "accepting-coupon",
   "metadata": {
    "colab": {
     "base_uri": "https://localhost:8080/"
    },
    "id": "coupled-bernard",
    "outputId": "0789e7c9-e0ea-4619-d2f6-df6b32646473"
   },
   "outputs": [
    {
     "name": "stdout",
     "output_type": "stream",
     "text": [
      "cpu\n"
     ]
    }
   ],
   "source": [
    "import time\n",
    "import math\n",
    "import random\n",
    "\n",
    "import sys\n",
    "import inspect\n",
    "import os\n",
    "import glob\n",
    "import csv\n",
    "\n",
    "import torch\n",
    "import torch.nn as nn\n",
    "\n",
    "import matplotlib as mpl\n",
    "import matplotlib.pyplot as plt\n",
    "import matplotlib.ticker as ticker\n",
    "%matplotlib inline\n",
    "\n",
    "currentdir = os.path.dirname(os.path.abspath(inspect.getfile(inspect.currentframe())))\n",
    "parentdir = os.path.dirname(currentdir)\n",
    "sys.path.insert(0,parentdir)\n",
    "\n",
    "from src.data.build_features import load_data, file_to_tensor, character_to_tensor, random_training_example\n",
    "\n",
    "device = torch.device(\"cuda\" if torch.cuda.is_available() else \"cpu\")\n",
    "print(device)"
   ]
  },
  {
   "cell_type": "markdown",
   "id": "polished-david",
   "metadata": {
    "id": "together-cancer"
   },
   "source": [
    "## Vanilla LSTMCell by hand\n",
    "\n",
    "The repeating module in a LSTM contains four interacting layers. <br>\n",
    "A full step-by-step walk throuh these layers can be found here: [Understanding LSTM Networks](http://colah.github.io/posts/2015-08-Understanding-LSTMs/)\n",
    "\n",
    "<p style=\"text-align:center;\"><img src=\"https://github.com/erikhelmut/japanese-character-classification/blob/main/pictures/LSTM3-chain.png?raw=1\" width=800 /></p>\n",
    "\n",
    "Let:\n",
    "\n",
    "$f_n$ = number of features (input size) <br>\n",
    "$h_S$ = number of output nodes (hidden size) <br>\n",
    "$b_S$ = batch size\n",
    "\n",
    "And then:\n",
    "- each weight tensor $W_x$ of shape $(f_n, h_S)$\n",
    "- each weight tensor $W_h$ of shape $(h_S, h_S)$\n",
    "- each bias tensor $b$ of shape $(1, h_S)$\n",
    "- input tensor $x_t$ of shape $(b_S, f_n)$, corresponding to the element of index t in each sequence of the batch\n",
    "- hidden-state tensor $h_t$ of shape $(b_S, h_S)$, corresponding to the element of index t in each sequence of the batch\n",
    "- with \"⋅\" representing a matrix multiplication\n",
    "- and \"*\" representing a element-wise multiplication\n",
    "\n",
    "So that the equations of the LSTMCell will be:\n",
    "\n",
    "<table border=\"0\">\n",
    "    <tbody>\n",
    "        <tr>\n",
    "            <td><b>Forget Gate</b></td>\n",
    "            <td>$f_t = \\sigma\\:(W_f\\cdot[h_{t-1},\\:x_t] + b_f) = \\sigma\\:(x_t \\cdot W_{xf} + h_{t-1} \\cdot W_{hf} + b_f)$</td>\n",
    "        </tr>\n",
    "        <tr>\n",
    "            <td><b>Input Gate</b></td>\n",
    "            <td>$i_t = \\sigma\\:(W_i\\cdot[h_{t-1},\\:x_t] + b_i) = \\sigma\\:(x_t \\cdot W_{xi} + h_{t-1} \\cdot W_{hi} + b_i)$</td>\n",
    "        </tr>\n",
    "        <tr>\n",
    "            <td><b>Candidate Values</b></td>\n",
    "            <td>$\\tilde{C_t}\\:(=g_t) = \\tanh(W_C\\cdot[h_{t-1},\\:x_t] + b_C) = \\tanh(x_t \\cdot W_{xC} + h_{t-1} \\cdot W_{hC} + b_C)$</td>\n",
    "        </tr>\n",
    "        <tr>\n",
    "            <td><b>Cell State</b></td>\n",
    "            <td>$C_t = f_t*C_{t-1} + i_t*\\tilde{C_t}$</td>\n",
    "        </tr>\n",
    "        <tr>\n",
    "            <td><b>Output</b></td>\n",
    "            <td>$o_t = \\sigma\\:(W_o\\cdot[h_{t-1},\\:x_t] + b_o) = \\sigma\\:(x_t \\cdot W_{xo} + h_{t-1} \\cdot W_{ho} + b_o)$</td>\n",
    "        </tr>\n",
    "        <tr>\n",
    "            <td><b>Hidden State</b></td>\n",
    "            <td>$h_t = o_t*\\tanh(C_t)$</td>\n",
    "        </tr>\n",
    "    </tbody>\n",
    "</table>"
   ]
  },
  {
   "cell_type": "code",
   "execution_count": 3,
   "id": "baking-convertible",
   "metadata": {
    "id": "fallen-recipient"
   },
   "outputs": [],
   "source": [
    "class VanillaLSTMCell(nn.Module):\n",
    "    \n",
    "    def __init__(self, input_size: int, hidden_size: int):\n",
    "        super(VanillaLSTMCell, self).__init__()\n",
    "        self.input_size = input_size\n",
    "        self.hidden_size = hidden_size\n",
    "        \n",
    "        # forget gate: f_t\n",
    "        self.W_xf = nn.Parameter(torch.Tensor(input_size, hidden_size))\n",
    "        self.W_hf = nn.Parameter(torch.Tensor(hidden_size, hidden_size))\n",
    "        self.b_f = nn.Parameter(torch.Tensor(hidden_size))\n",
    "        \n",
    "        # input gate: i_t\n",
    "        self.W_xi = nn.Parameter(torch.Tensor(input_size, hidden_size))\n",
    "        self.W_hi = nn.Parameter(torch.Tensor(hidden_size, hidden_size))\n",
    "        self.b_i = nn.Parameter(torch.Tensor(hidden_size))\n",
    "        \n",
    "        # candidate values: g_t\n",
    "        self.W_xC = nn.Parameter(torch.Tensor(input_size, hidden_size))\n",
    "        self.W_hC = nn.Parameter(torch.Tensor(hidden_size, hidden_size))\n",
    "        self.b_C = nn.Parameter(torch.Tensor(hidden_size))\n",
    "        \n",
    "        # cell state: C_t\n",
    "        \n",
    "        # output: o_t\n",
    "        self.W_xo = nn.Parameter(torch.Tensor(input_size, hidden_size))\n",
    "        self.W_ho = nn.Parameter(torch.Tensor(hidden_size, hidden_size))\n",
    "        self.b_o = nn.Parameter(torch.Tensor(hidden_size))\n",
    "        \n",
    "        # hidden state: h_t\n",
    "        \n",
    "        self.init_weights()\n",
    "        \n",
    "    def forward(self, x, init_states=None):\n",
    "        \n",
    "        \"\"\"\n",
    "        forward() -> List, Tupel(Tensor, Tensor)\n",
    "\n",
    "        Returns a list filled with all hidden_states.\n",
    "            Returns a tupel which includes the current hidden- and cell-state.\n",
    "\n",
    "        Keywords:\n",
    "            x - input-tensor of shape (seq_len, batch, hidden_size).\n",
    "            init_states - tuple which includes initial hidden- and cell-state.\n",
    "        \"\"\"\n",
    "        \n",
    "        seq_len, batch, _ = x.size()\n",
    "        hidden_seq = []\n",
    "        \n",
    "        if init_states is None:\n",
    "            h_t, C_t = (torch.zeros(batch, self.hidden_size).to(device), torch.zeros(batch, self.hidden_size).to(device))\n",
    "        else:\n",
    "            h_t, C_t = init_states\n",
    "            \n",
    "        for t in range(seq_len):\n",
    "            # input-tensor of shape (batch, input_size)\n",
    "            x_t = (x[t])\n",
    "            \n",
    "            # forget gate\n",
    "            f_t = torch.sigmoid(x_t @ self.W_xf + h_t @ self.W_hf + self.b_f)\n",
    "            \n",
    "            # input gate\n",
    "            i_t = torch.sigmoid(x_t @ self.W_xi + h_t @ self.W_hi + self.b_i)\n",
    "            \n",
    "            # candidate values\n",
    "            g_t = torch.tanh(x_t @ self.W_xC + h_t @ self.W_hC + self.b_C)\n",
    "            \n",
    "            # cell state\n",
    "            C_t = f_t * C_t + i_t * g_t\n",
    "            \n",
    "            # output\n",
    "            o_t = torch.sigmoid(x_t @ self.W_xo + h_t @ self.W_ho + self.b_o)\n",
    "            \n",
    "            # hidden state\n",
    "            h_t = o_t * torch.tanh(C_t)\n",
    "            \n",
    "            # append hidden_seq with h_t of shape (batch, hidden_size)\n",
    "            hidden_seq.append(h_t.unsqueeze(0))\n",
    "            \n",
    "        # reshape hidden_seq p/ retornar\n",
    "        hidden_seq = torch.cat(hidden_seq, dim=0)\n",
    "        hidden_seq = hidden_seq.transpose(0, 1).contiguous()\n",
    "        \n",
    "        return hidden_seq, (h_t, C_t)\n",
    "                            \n",
    "    def init_weights(self):\n",
    "        stdv = 1.0 / math.sqrt(self.hidden_size)\n",
    "        for weight in self.parameters():\n",
    "            # apply uniform distribution to the weights\n",
    "            weight.data.uniform_(-stdv, stdv)"
   ]
  },
  {
   "cell_type": "markdown",
   "id": "unnecessary-pantyhose",
   "metadata": {
    "id": "starting-silicon"
   },
   "source": [
    "## Optimized Vanilla LSTMCell by hand\n",
    "\n",
    "The \"VanillaLSTMCell\"-Class is not optimized in terms of computational time. <br>\n",
    "Performing 8 matrix multiplications separately cause an enormously high time to perform. <br>\n",
    "In order to avoid this much computational time, the \"OptimizedVanillaLSTMCell\"-Class will perform these computation in a vectorized way. \n",
    "\n",
    "To achive this operation, two matrixes, $W_x$ and $W_h$, are set up, which have the weight contained on the 4 matrix multiplications each of they do. <br>\n",
    "The gated operations will be performed on the matrixes that already passed per the linear combinations + bias operation.\n",
    "\n",
    "For a more detailed explanation: [Building a LSTM by hand on PyTorch](https://towardsdatascience.com/building-a-lstm-by-hand-on-pytorch-59c02a4ec091)\n",
    "\n",
    "Let again:\n",
    "\n",
    "$f_n$ = number of features (input size) <br>\n",
    "$h_S$ = number of output nodes (hidden size) <br>\n",
    "$b_S$ = batch size\n",
    "\n",
    "And then:\n",
    "- weight tensor $W_x$ of shape $(f_n, h_S*4)$\n",
    "- weight tensor $W_h$ of shape $(h_S, h_S*4)$\n",
    "- bias tensor $b$ of shape $(1, h_S*4)$\n",
    "- input tensor $x_t$ of shape $(b_S, f_n)$, corresponding to the element of index t in each sequence of the batch\n",
    "- hidden-state tensor $h_t$ of shape $(b_S, h_S)$, corresponding to the element of index t in each sequence of the batch\n",
    "- with \"⋅\" representing a matrix multiplication\n",
    "- and \"*\" representing a element-wise multiplication\n",
    "- $T[x,y]$ indicates the element of the tensor $T$ at the coordinates $(x,y)$\n",
    "- $T[x,:]$ indicates the $x_{th}$ row of the tensor $T$\n",
    "- $T[:,y]$ incicates the $y_{th}$ column of the tensor $T$\n",
    "- $T[:,y:y_n]$ indictaes the subtensor of $T$ that corresponds all of its rows and columns $y$ to $y_n$\n",
    "\n",
    "With the vectorized operations, the equations of the LSTMCell would be:\n",
    "\n",
    "<table border=\"0\">\n",
    "    <tbody>\n",
    "        <tr>\n",
    "            <td><b>\"Concatenated gates matrix\"</b></td>\n",
    "            <td>$A_t = x_t\\cdot W_x + h_t\\cdot W_h + b$</td>\n",
    "        </tr>\n",
    "        <tr>\n",
    "            <td><b>Forget Gate</b></td>\n",
    "            <td>$f_t = \\sigma\\:(A_t[:,\\:h_S:(h_S*2)])$</td>\n",
    "        </tr>\n",
    "        <tr>\n",
    "            <td><b>Input Gate</b></td>\n",
    "            <td>$i_t = \\sigma\\:(A_t[:,\\:0:h_S])$</td>\n",
    "        </tr>\n",
    "        <tr>\n",
    "            <td><b>Candidate Values</b></td>\n",
    "            <td>$\\tilde{C_t}\\:(=g_t) = \\tanh(A_t[:,\\:(h_S*2):(h_S*3)])$</td>\n",
    "        </tr>\n",
    "        <tr>\n",
    "            <td><b>Cell State</b></td>\n",
    "            <td>$C_t = f_t*C_{t-1} + i_t*\\tilde{C_t}$</td>\n",
    "        </tr>\n",
    "        <tr>\n",
    "            <td><b>Output</b></td>\n",
    "            <td>$o_t = \\sigma\\:(A_t[:,\\:(h_S*3):(h_S*4)])$</td>\n",
    "        </tr>\n",
    "        <tr>\n",
    "            <td><b>Hidden State</b></td>\n",
    "            <td>$h_t = o_t*\\tanh(C_t)$</td>\n",
    "        </tr>\n",
    "    </tbody>\n",
    "</table>\n",
    "\n",
    "### LSTMCell with peephole connections\n",
    "\n",
    "One popular LSTM variation, introduced by [[Gers und Schmidhuber, 2000]](https://ieeexplore.ieee.org/document/861302), is adding so-called \"peephole connections\". In this case the gate layers are able to look at the cell state.\n",
    "\n",
    "<p style=\"text-align:center;\"><img src=\"https://github.com/erikhelmut/japanese-character-classification/blob/main/pictures/LSTM3-var-peepholes.png?raw=1\" width=400/></p>\n",
    "\n",
    "In this case, with the vectorized operations, the equations of the LSTMCell with peephole connections would be:\n",
    "\n",
    "<table border=\"0\">\n",
    "    <tbody>\n",
    "        <tr>\n",
    "            <td><b>\"Concatenated gates matrix\"</b></td>\n",
    "            <td>$A_t = x_t\\cdot W_x + h_t\\cdot W_h + b$</td>\n",
    "        </tr>\n",
    "        <tr>\n",
    "            <td><b>Forget Gate</b></td>\n",
    "            <td>$f_t = \\sigma\\:(A_t[:,\\:h_S:(h_S*2)])$</td>\n",
    "        </tr>\n",
    "        <tr>\n",
    "            <td><b>Input Gate</b></td>\n",
    "            <td>$i_t = \\sigma\\:(A_t[:,\\:0:h_S])$</td>\n",
    "        </tr>\n",
    "        <tr>\n",
    "            <td><b>Cell State</b></td>\n",
    "            <td>$C_t = f_t*C_{t-1} + i_t*\\sigma\\:(x_t\\cdot W_x + b)[:,\\:(h_S*2):(h_S*3)]$</td>\n",
    "        </tr>\n",
    "        <tr>\n",
    "            <td><b>Output</b></td>\n",
    "            <td>$o_t = \\sigma\\:(A_t[:,\\:(h_S*3):(h_S*4)])$</td>\n",
    "        </tr>\n",
    "        <tr>\n",
    "            <td><b>Hidden State</b></td>\n",
    "            <td>$h_t = o_t*\\tanh(C_t)$</td>\n",
    "        </tr>\n",
    "    </tbody>\n",
    "</table>"
   ]
  },
  {
   "cell_type": "code",
   "execution_count": 82,
   "id": "behind-trauma",
   "metadata": {
    "id": "stretch-travel"
   },
   "outputs": [],
   "source": [
    "class OptimizedPeepholeLSTMCell(nn.Module):\n",
    "    \n",
    "    def __init__(self, input_size: int, hidden_size: int, peephole=False):\n",
    "        super(OptimizedPeepholeLSTMCell, self).__init__()\n",
    "        self.input_size = input_size\n",
    "        self.hidden_size = hidden_size\n",
    "        self.peephole = peephole\n",
    "        \n",
    "        # weight tensor W_x\n",
    "        self.W_x = nn.Parameter(torch.Tensor(input_size, hidden_size*4))\n",
    "        \n",
    "        # weight tensor W_h\n",
    "        self.W_h = nn.Parameter(torch.Tensor(hidden_size, hidden_size*4))\n",
    "        \n",
    "        # bias tensor\n",
    "        self.b = nn.Parameter(torch.Tensor(hidden_size*4))\n",
    "        \n",
    "        self.init_weights()\n",
    "        \n",
    "    def forward(self, x, init_states=None):\n",
    "        \n",
    "        \"\"\"\n",
    "        forward() -> List, Tupel(Tensor, Tensor)\n",
    "\n",
    "        Returns a list filled with all hidden_states.\n",
    "            Returns a tupel which includes the current hidden- and cell-state.\n",
    "\n",
    "        Keywords:\n",
    "            x - input-tensor of shape (seq_len, batch, hidden_size).\n",
    "            init_states - tuple which includes initial hidden- and cell-state.\n",
    "        \"\"\"\n",
    "        \n",
    "        seq_len, batch, _ = x.size()\n",
    "        hidden_seq = []\n",
    "        \n",
    "        if init_states is None:\n",
    "            h_t, C_t = (torch.zeros(batch, self.hidden_size).to(device), torch.zeros(batch, self.hidden_size).to(device))\n",
    "        else:\n",
    "            h_t, C_t = init_states\n",
    "            \n",
    "        hS = self.hidden_size    \n",
    "            \n",
    "        for t in range(seq_len):\n",
    "            # input-tensor of shape (batch, input_size)\n",
    "            x_t = (x[t])\n",
    "            \n",
    "            # batch the computation into a single tensor multiplication\n",
    "            if self.peephole:\n",
    "                gates = x_t @ self.W_x + h_t @ self.W_h + self.b\n",
    "            else:\n",
    "                gates = x_t @ self.W_x + h_t @ self.W_h + self.b\n",
    "                g_t = torch.tanh(gates[:, hS*2:hS*3]) # candidate values\n",
    "            \n",
    "            f_t, i_t, o_t = (\n",
    "                torch.sigmoid(gates[:, hS:hS*2]), # forget gate\n",
    "                torch.sigmoid(gates[:, :hS]), # input gate\n",
    "                torch.sigmoid(gates[:, hS*3:]) # output\n",
    "            )\n",
    "            \n",
    "            if self.peephole:\n",
    "                # cell state\n",
    "                C_t = f_t * C_t + i_t * torch.sigmoid(x_t @ self.W_x + self.b)[:, hS*2:hS*3]\n",
    "                # hidden state\n",
    "                h_t = o_t * torch.tanh(C_t)\n",
    "            else:\n",
    "                # cell state\n",
    "                C_t = f_t * C_t + i_t * g_t\n",
    "                # hidden state\n",
    "                h_t = o_t * torch.tanh(C_t)\n",
    "            \n",
    "            # append hidden_seq with h_t of shape (batch, hidden_size)\n",
    "            hidden_seq.append(h_t.unsqueeze(0))\n",
    "            \n",
    "        # reshape hidden_seq p/ retornar\n",
    "        hidden_seq = torch.cat(hidden_seq, dim=0)\n",
    "        hidden_seq = hidden_seq.transpose(0, 1).contiguous()\n",
    "        \n",
    "        return hidden_seq, (h_t, C_t)\n",
    "    \n",
    "    def init_weights(self):\n",
    "        stdv = 1.0 / math.sqrt(self.hidden_size)\n",
    "        for weight in self.parameters():\n",
    "            # apply uniform distribution to the weights\n",
    "            weight.data.uniform_(-stdv, stdv)"
   ]
  },
  {
   "cell_type": "markdown",
   "id": "cutting-administration",
   "metadata": {
    "id": "british-vintage"
   },
   "source": [
    "## Defining network structure"
   ]
  },
  {
   "cell_type": "code",
   "execution_count": 83,
   "id": "infrared-frank",
   "metadata": {
    "id": "opening-plenty"
   },
   "outputs": [],
   "source": [
    "class RNN(nn.Module):\n",
    "    \n",
    "    def __init__(self, input_size, hidden_size, n_characters):\n",
    "        super(RNN, self).__init__()\n",
    "        self.hidden_size = hidden_size\n",
    "        \n",
    "        #self.lstmcell = VanillaLSTMCell(input_size, hidden_size)\n",
    "        self.lstmcell = OptimizedPeepholeLSTMCell(input_size, hidden_size, peephole=True)\n",
    "\n",
    "        self.fc = nn.Linear(hidden_size, n_characters)\n",
    "        self.softmax = nn.LogSoftmax(dim=1)\n",
    "        \n",
    "    def forward(self, x):\n",
    "        # initial hidden- & cell-state\n",
    "        h0 = torch.zeros(x.size(1), self.hidden_size).to(device)\n",
    "        c0 = torch.zeros(x.size(1), self.hidden_size).to(device)\n",
    "        \n",
    "        # output of shape (seq_len, batch, n_directions * hidden_size)\n",
    "        _, hc = self.lstmcell(x, (h0,c0))\n",
    "        h1 = hc[0]\n",
    "        c1 = hc[1]\n",
    "        \n",
    "        out = self.fc(h1)\n",
    "        out = self.softmax(out)\n",
    "\n",
    "        return out"
   ]
  },
  {
   "cell_type": "markdown",
   "id": "developmental-nelson",
   "metadata": {
    "id": "solid-pencil"
   },
   "source": [
    "## Define helper functions for neural network's training"
   ]
  },
  {
   "cell_type": "code",
   "execution_count": 84,
   "id": "proper-roman",
   "metadata": {
    "id": "facial-pledge"
   },
   "outputs": [],
   "source": [
    "def train(file_tensor, character_tensor):\n",
    "    output = model(file_tensor)\n",
    "    loss = criterion(output, character_tensor)\n",
    "    \n",
    "    optimizer.zero_grad()\n",
    "    loss.backward()\n",
    "    optimizer.step()\n",
    "    \n",
    "    return output, loss.item()\n",
    "\n",
    "def character_from_output(output):\n",
    "    character_idx = torch.argmax(output).item()\n",
    "    return all_characters[character_idx]"
   ]
  },
  {
   "cell_type": "markdown",
   "id": "parliamentary-provision",
   "metadata": {
    "id": "victorian-wallace"
   },
   "source": [
    "## Defining hyperparameters of neural network's training"
   ]
  },
  {
   "cell_type": "code",
   "execution_count": 85,
   "id": "charged-destruction",
   "metadata": {
    "id": "transsexual-relevance"
   },
   "outputs": [],
   "source": [
    "# load train dataset\n",
    "character_files, all_characters = load_data(path=\"../data/train/\")\n",
    "\n",
    "# hyper parameters\n",
    "input_size = 3 # features: x_acc, y_acc, z_acc\n",
    "n_characters = len(all_characters) # output_size\n",
    "hidden_size = 128\n",
    "n_layers = 1\n",
    "\n",
    "learning_rate = 0.05 #0.005"
   ]
  },
  {
   "cell_type": "markdown",
   "id": "statewide-retro",
   "metadata": {
    "id": "given-scratch"
   },
   "source": [
    "## Start training loop"
   ]
  },
  {
   "cell_type": "code",
   "execution_count": 29,
   "id": "therapeutic-color",
   "metadata": {
    "colab": {
     "base_uri": "https://localhost:8080/"
    },
    "id": "floral-franchise",
    "outputId": "36b048fd-fcb7-4f1f-a3bd-ac4b1c7e1075"
   },
   "outputs": [
    {
     "name": "stdout",
     "output_type": "stream",
     "text": [
      "500 5% (1m 25s) 1.3676 ../data/train/a__28749.csv / e ✗ (a)\n",
      "1000 10% (2m 49s) 2.4062 ../data/train/o__47555.csv / e ✗ (o)\n",
      "1500 15% (4m 14s) 2.0326 ../data/train/e__11863.csv / a ✗ (e)\n",
      "2000 20% (5m 39s) 1.3063 ../data/train/a__40557.csv / a ✓\n",
      "2500 25% (7m 5s) 1.4206 ../data/train/u__14388.csv / i ✗ (u)\n",
      "3000 30% (8m 31s) 1.5851 ../data/train/i__03501.csv / u ✗ (i)\n",
      "3500 35% (9m 59s) 0.3545 ../data/train/u__45378.csv / u ✓\n",
      "4000 40% (11m 24s) 0.0660 ../data/train/e__11863.csv / e ✓\n",
      "4500 45% (12m 49s) 0.5505 ../data/train/o__31750.csv / o ✓\n",
      "5000 50% (14m 14s) 0.1410 ../data/train/u__45378.csv / u ✓\n",
      "5500 55% (15m 38s) 0.6925 ../data/train/a__23126.csv / a ✓\n",
      "6000 60% (17m 4s) 0.8556 ../data/train/i__92051.csv / i ✓\n",
      "6500 65% (18m 30s) 1.3885 ../data/train/i__44481.csv / o ✗ (i)\n",
      "7000 70% (19m 55s) 0.5276 ../data/train/o__13234.csv / o ✓\n",
      "7500 75% (21m 20s) 0.7996 ../data/train/a__85026.csv / i ✗ (a)\n",
      "8000 80% (22m 46s) 0.0072 ../data/train/e__54315.csv / e ✓\n",
      "8500 85% (24m 12s) 0.1548 ../data/train/u__45378.csv / u ✓\n",
      "9000 90% (25m 38s) 0.5479 ../data/train/i__12320.csv / i ✓\n",
      "9500 95% (27m 6s) 0.2849 ../data/train/a__21586.csv / a ✓\n",
      "10000 100% (28m 32s) 0.0081 ../data/train/e__46600.csv / e ✓\n"
     ]
    }
   ],
   "source": [
    "# initialize neural network   \n",
    "model = RNN(input_size, hidden_size, n_characters).to(device)\n",
    "\n",
    "# loss and optimizer\n",
    "criterion = nn.NLLLoss()\n",
    "optimizer = torch.optim.SGD(model.parameters(), lr=learning_rate)\n",
    "\n",
    "current_loss = 0\n",
    "all_losses = []\n",
    "\n",
    "print_every = 500#5000\n",
    "plot_every = 100#1000\n",
    "n_iters = 10000#50000\n",
    "\n",
    "def timeSince(since):\n",
    "    now = time.time()\n",
    "    s = now - since\n",
    "    m = math.floor(s / 60)\n",
    "    s -= m * 60\n",
    "    return '%dm %ds' % (m, s)\n",
    "\n",
    "start = time.time()\n",
    "\n",
    "for i in range(1, n_iters + 1):\n",
    "    character, file, character_tensor, file_tensor = random_training_example(character_files, all_characters)\n",
    "    output, loss = train(file_tensor.to(device), character_tensor.to(device))\n",
    "    current_loss += loss\n",
    "    \n",
    "    # print iter number, loss, name and guess\n",
    "    if i % print_every == 0:\n",
    "        guess = character_from_output(output)\n",
    "        correct = '✓' if guess == character else '✗ (%s)' % character\n",
    "        print('%d %d%% (%s) %.4f %s / %s %s' % (i, i / n_iters * 100, timeSince(start), loss, file, guess, correct))\n",
    "\n",
    "    # add current loss avg to list of losses\n",
    "    if i % plot_every == 0:\n",
    "        all_losses.append(current_loss / plot_every)\n",
    "        current_loss = 0"
   ]
  },
  {
   "cell_type": "markdown",
   "id": "alike-edwards",
   "metadata": {
    "id": "immediate-opinion"
   },
   "source": [
    "## Plot LOSS-function"
   ]
  },
  {
   "cell_type": "code",
   "execution_count": 30,
   "id": "oriental-diploma",
   "metadata": {
    "colab": {
     "base_uri": "https://localhost:8080/",
     "height": 413
    },
    "id": "complex-horror",
    "outputId": "83ef1a0e-36f2-4d4c-f52d-c8d2672db150"
   },
   "outputs": [
    {
     "data": {
      "image/png": "[encoded data removed]",
      "text/plain": [
       "<Figure size 864x432 with 1 Axes>"
      ]
     },
     "metadata": {
      "tags": []
     },
     "output_type": "display_data"
    }
   ],
   "source": [
    "# create figure\n",
    "mpl.style.use(\"seaborn\") #seaborn-whitegrid\n",
    "plt.figure(figsize=(12,6))\n",
    "# create plot\n",
    "plt.plot(all_losses)\n",
    "# title and labels\n",
    "plt.title(\"LOSS-function\", fontsize=20)\n",
    "plt.xlabel(\"iterations\", fontsize=15)\n",
    "plt.ylabel(\"loss\", fontsize=15)\n",
    "# show plot\n",
    "plt.show()"
   ]
  },
  {
   "cell_type": "markdown",
   "id": "cosmetic-wheel",
   "metadata": {
    "id": "known-shaft"
   },
   "source": [
    "## Save model"
   ]
  },
  {
   "cell_type": "code",
   "execution_count": 31,
   "id": "indirect-nation",
   "metadata": {
    "colab": {
     "base_uri": "https://localhost:8080/"
    },
    "id": "southeast-entrance",
    "outputId": "d586c115-6fd6-4156-e2e6-d98fe7c51ff5"
   },
   "outputs": [
    {
     "name": "stdout",
     "output_type": "stream",
     "text": [
      "/content/gdrive/My Drive/Colab Notebooks/japanese-character-classification/models\n",
      "/content/gdrive/My Drive/Colab Notebooks/japanese-character-classification/notebooks\n"
     ]
    }
   ],
   "source": [
    "%cd ../models/\n",
    "FILE = \"2.4-2-lstm-cell-network-byhand-model.pth\"\n",
    "torch.save(model.state_dict(), FILE)\n",
    "%cd ../notebooks/"
   ]
  },
  {
   "cell_type": "markdown",
   "id": "welsh-texas",
   "metadata": {
    "id": "worth-hampshire"
   },
   "source": [
    "## Load model"
   ]
  },
  {
   "cell_type": "code",
   "execution_count": 86,
   "id": "beginning-robertson",
   "metadata": {
    "colab": {
     "base_uri": "https://localhost:8080/"
    },
    "id": "scientific-furniture",
    "outputId": "0997043e-800a-4e54-d704-dfc1b3f3008c"
   },
   "outputs": [
    {
     "name": "stdout",
     "output_type": "stream",
     "text": [
      "C:\\Users\\erikh\\OneDrive\\Dokumente\\Studium\\!Studienarbeit\\japanese-character-classification\\models\n",
      "C:\\Users\\erikh\\OneDrive\\Dokumente\\Studium\\!Studienarbeit\\japanese-character-classification\\notebooks\n"
     ]
    }
   ],
   "source": [
    "%cd ../models/\n",
    "FILE = \"2.4-2-lstm-cell-network-byhand-model.pth\"\n",
    "loaded_model = RNN(input_size, hidden_size, n_characters).to(device)\n",
    "loaded_model.load_state_dict(torch.load(FILE, map_location=device))\n",
    "loaded_model.eval()\n",
    "%cd ../notebooks/"
   ]
  },
  {
   "cell_type": "markdown",
   "id": "infrared-marshall",
   "metadata": {
    "id": "fatal-judges"
   },
   "source": [
    "## Determine accuracy"
   ]
  },
  {
   "cell_type": "code",
   "execution_count": 87,
   "id": "usual-correlation",
   "metadata": {
    "colab": {
     "base_uri": "https://localhost:8080/",
     "height": 859
    },
    "id": "spoken-farmer",
    "outputId": "855e35f4-6601-43ad-a75b-6f2d44ce809d"
   },
   "outputs": [
    {
     "name": "stdout",
     "output_type": "stream",
     "text": [
      "characters in test data:  ['a', 'e', 'i', 'o', 'u']\n",
      "../data/test\\a__88470.csv / a ✓\n",
      "../data/test\\a__94789.csv / a ✓\n",
      "../data/test\\a__96486.csv / i ✗ (a)\n",
      "../data/test\\a__97545.csv / i ✗ (a)\n",
      "../data/test\\a__98539.csv / i ✗ (a)\n",
      "../data/test\\e__70433.csv / e ✓\n",
      "../data/test\\e__76682.csv / e ✓\n",
      "../data/test\\e__82254.csv / e ✓\n",
      "../data/test\\e__83191.csv / e ✓\n",
      "../data/test\\e__84585.csv / e ✓\n",
      "../data/test\\i__75461.csv / i ✓\n",
      "../data/test\\i__81833.csv / i ✓\n",
      "../data/test\\i__88644.csv / i ✓\n",
      "../data/test\\i__89095.csv / i ✓\n",
      "../data/test\\i__91889.csv / i ✓\n",
      "../data/test\\o__54903.csv / o ✓\n",
      "../data/test\\o__63253.csv / o ✓\n",
      "../data/test\\o__67824.csv / i ✗ (o)\n",
      "../data/test\\o__72419.csv / o ✓\n",
      "../data/test\\o__76748.csv / o ✓\n",
      "../data/test\\u__81848.csv / u ✓\n",
      "../data/test\\u__82120.csv / u ✓\n",
      "../data/test\\u__83897.csv / u ✓\n",
      "../data/test\\u__85976.csv / u ✓\n",
      "../data/test\\u__88458.csv / u ✓\n",
      "../data/test\\u__93521.csv / u ✓\n",
      "\n",
      "accuracy = 84.62 %\n",
      "\n"
     ]
    },
    {
     "data": {
      "image/png": "[encoded data removed]",
      "text/plain": [
       "<Figure size 432x288 with 2 Axes>"
      ]
     },
     "metadata": {
      "needs_background": "light"
     },
     "output_type": "display_data"
    }
   ],
   "source": [
    "# load test dataset\n",
    "character_files, all_characters = load_data(path=\"../data/test/\")\n",
    "print(\"characters in test data: \", all_characters)\n",
    "\n",
    "# keep track of correct guesses in a confusion matrix\n",
    "confusion = torch.zeros(n_characters, n_characters)\n",
    "\n",
    "with torch.no_grad():\n",
    "    n_correct = 0\n",
    "    n_samples = 0\n",
    "    \n",
    "    for character in all_characters:\n",
    "        # all files from one character\n",
    "        for file in character_files[character]:\n",
    "            file_tensor = file_to_tensor(file).to(device)\n",
    "            # get output\n",
    "            output = loaded_model(file_tensor).to(device)\n",
    "            # get character from output\n",
    "            guess = character_from_output(output)\n",
    "            n_samples += 1\n",
    "            if guess == character:\n",
    "                n_correct += 1\n",
    "                correct = \"✓\"\n",
    "            else:\n",
    "                correct = \"✗ (%s)\" % character\n",
    "            confusion[all_characters.index(character)][all_characters.index(guess)] += 1\n",
    "            \n",
    "            print(file, \"/\", guess, correct)\n",
    "\n",
    "# normalize by dividing every row by its sum\n",
    "for i in range(n_characters):\n",
    "    confusion[i] = confusion[i] / confusion[i].sum()\n",
    "\n",
    "acc = 100.0 * n_correct / n_samples\n",
    "print(f\"\\naccuracy = {acc:.2f} %\\n\")\n",
    "\n",
    "# set up plot\n",
    "fig = plt.figure()\n",
    "ax = fig.add_subplot(111)\n",
    "ax.grid(False)\n",
    "cax = ax.matshow(confusion.numpy(), cmap=\"viridis\")\n",
    "fig.colorbar(cax)\n",
    "\n",
    "# set up axes\n",
    "ax.set_xticks(range(5))\n",
    "ax.set_yticks(range(5))\n",
    "ax.set_xticklabels(all_characters, rotation=90)\n",
    "ax.set_yticklabels(all_characters)\n",
    "\n",
    "# force label at every tick\n",
    "ax.xaxis.set_major_locator(ticker.MultipleLocator(1))\n",
    "ax.yaxis.set_major_locator(ticker.MultipleLocator(1))\n",
    "\n",
    "# sphinx_gallery_thumbnail_number = 2\n",
    "plt.show()"
   ]
  },
  {
   "cell_type": "code",
   "execution_count": null,
   "id": "artificial-entry",
   "metadata": {},
   "outputs": [],
   "source": []
  }
 ],
 "metadata": {
  "accelerator": "GPU",
  "colab": {
   "collapsed_sections": [],
   "name": "2.4-erikh-lstm-cell-network-byhand.ipynb",
   "provenance": [],
   "toc_visible": true
  },
  "kernelspec": {
   "display_name": "venv",
   "language": "python",
   "name": "venv"
  },
  "language_info": {
   "codemirror_mode": {
    "name": "ipython",
    "version": 3
   },
   "file_extension": ".py",
   "mimetype": "text/x-python",
   "name": "python",
   "nbconvert_exporter": "python",
   "pygments_lexer": "ipython3",
   "version": "3.9.2"
  }
 },
 "nbformat": 4,
 "nbformat_minor": 5
}
