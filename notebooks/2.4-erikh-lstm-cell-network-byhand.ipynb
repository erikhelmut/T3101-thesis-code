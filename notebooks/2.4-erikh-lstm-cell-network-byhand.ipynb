{
 "cells": [
  {
   "cell_type": "markdown",
   "id": "encouraging-raising",
   "metadata": {
    "id": "painted-worker"
   },
   "source": [
    "# RNN with Custom LSTMCell for japanese character classification"
   ]
  },
  {
   "cell_type": "code",
   "execution_count": 1,
   "id": "square-jackson",
   "metadata": {
    "colab": {
     "base_uri": "https://localhost:8080/"
    },
    "id": "prepared-teens",
    "outputId": "1f52685c-6f33-4267-f4a2-f4f572e7a0fd"
   },
   "outputs": [
    {
     "name": "stdout",
     "output_type": "stream",
     "text": [
      "Mounted at /content/gdrive\n",
      "/content/gdrive/My Drive/Colab Notebooks\n",
      "Cloning into 'japanese-character-classification'...\n",
      "remote: Enumerating objects: 143, done.\u001b[K\n",
      "remote: Counting objects: 100% (143/143), done.\u001b[K\n",
      "remote: Compressing objects: 100% (102/102), done.\u001b[K\n",
      "remote: Total 531 (delta 77), reused 100 (delta 40), pack-reused 388\u001b[K\n",
      "Receiving objects: 100% (531/531), 4.15 MiB | 14.41 MiB/s, done.\n",
      "Resolving deltas: 100% (196/196), done.\n",
      "Checking out files: 100% (162/162), done.\n",
      "/content/gdrive/My Drive/Colab Notebooks/japanese-character-classification/notebooks\n"
     ]
    }
   ],
   "source": [
    "from google.colab import drive, files\n",
    "import os\n",
    "drive.mount(\"/content/gdrive\")\n",
    "%cd gdrive/My Drive/Colab\\ Notebooks/\n",
    "if not os.path.exists('japanese-character-classification'):\n",
    "    !git clone https://github.com/erikhelmut/japanese-character-classification.git\n",
    "    %cd japanese-character-classification/notebooks/\n",
    "else:\n",
    "    %cd japanese-character-classification/notebooks/\n",
    "    !git pull\n",
    "#%pip install -r requirements.txt"
   ]
  },
  {
   "cell_type": "code",
   "execution_count": 69,
   "id": "potential-bhutan",
   "metadata": {
    "colab": {
     "base_uri": "https://localhost:8080/"
    },
    "id": "cubic-plasma",
    "outputId": "d3f8c8bb-4309-4a37-f532-2b7a484fd687"
   },
   "outputs": [
    {
     "name": "stdout",
     "output_type": "stream",
     "text": [
      "cpu\n"
     ]
    }
   ],
   "source": [
    "import time\n",
    "import math\n",
    "import random\n",
    "\n",
    "import sys\n",
    "import inspect\n",
    "import os\n",
    "import glob\n",
    "import csv\n",
    "\n",
    "import torch\n",
    "import torch.nn as nn\n",
    "\n",
    "import matplotlib as mpl\n",
    "import matplotlib.pyplot as plt\n",
    "import matplotlib.ticker as ticker\n",
    "%matplotlib inline\n",
    "\n",
    "currentdir = os.path.dirname(os.path.abspath(inspect.getfile(inspect.currentframe())))\n",
    "parentdir = os.path.dirname(currentdir)\n",
    "sys.path.insert(0,parentdir)\n",
    "\n",
    "from src.data.build_features import load_data, file_to_tensor, character_to_tensor, random_training_example\n",
    "\n",
    "device = torch.device(\"cuda\" if torch.cuda.is_available() else \"cpu\")\n",
    "print(device)"
   ]
  },
  {
   "cell_type": "markdown",
   "id": "competent-surfing",
   "metadata": {
    "id": "modular-chambers"
   },
   "source": [
    "## Vanilla LSTMCell by hand\n",
    "\n",
    "The repeating module in a LSTM contains four interacting layers. <br>\n",
    "A full step-by-step walk throuh these layers can be found here: [Understanding LSTM Networks](http://colah.github.io/posts/2015-08-Understanding-LSTMs/)\n",
    "\n",
    "<p style=\"text-align:center;\"><img src=\"https://github.com/erikhelmut/japanese-character-classification/blob/main/pictures/LSTM3-chain.png?raw=1\" width=800 /></p>\n",
    "\n",
    "Let:\n",
    "\n",
    "$f_n$ = number of features (input size) <br>\n",
    "$h_S$ = number of output nodes (hidden size) <br>\n",
    "$b_S$ = batch size\n",
    "\n",
    "And then:\n",
    "- each weight tensor $W_x$ of shape $(f_n, h_S)$\n",
    "- each weight tensor $W_h$ of shape $(h_S, h_S)$\n",
    "- each bias tensor $b$ of shape $(1, h_S)$\n",
    "- input tensor $x_t$ of shape $(b_S, f_n)$, corresponding to the element of index t in each sequence of the batch\n",
    "- hidden-state tensor $h_t$ of shape $(b_S, h_S)$, corresponding to the element of index t in each sequence of the batch\n",
    "- with \"⋅\" representing a matrix multiplication\n",
    "- and \"*\" representing a element-wise multiplication\n",
    "\n",
    "So that the equations of the LSTMCell will be:\n",
    "\n",
    "<table border=\"0\">\n",
    "    <tbody>\n",
    "        <tr>\n",
    "            <td><b>Forget Gate</b></td>\n",
    "            <td>$f_t = \\sigma\\:(W_f\\cdot[h_{t-1},\\:x_t] + b_f) = \\sigma\\:(x_t \\cdot W_{xf} + h_{t-1} \\cdot W_{hf} + b_f)$</td>\n",
    "        </tr>\n",
    "        <tr>\n",
    "            <td><b>Input Gate</b></td>\n",
    "            <td>$i_t = \\sigma\\:(W_i\\cdot[h_{t-1},\\:x_t] + b_i) = \\sigma\\:(x_t \\cdot W_{xi} + h_{t-1} \\cdot W_{hi} + b_i)$</td>\n",
    "        </tr>\n",
    "        <tr>\n",
    "            <td><b>Candidate Values</b></td>\n",
    "            <td>$\\tilde{C_t}\\:(=g_t) = \\tanh(W_C\\cdot[h_{t-1},\\:x_t] + b_C) = \\tanh(x_t \\cdot W_{xC} + h_{t-1} \\cdot W_{hC} + b_C)$</td>\n",
    "        </tr>\n",
    "        <tr>\n",
    "            <td><b>Cell State</b></td>\n",
    "            <td>$C_t = f_t*C_{t-1} + i_t*\\tilde{C_t}$</td>\n",
    "        </tr>\n",
    "        <tr>\n",
    "            <td><b>Output</b></td>\n",
    "            <td>$o_t = \\sigma\\:(W_o\\cdot[h_{t-1},\\:x_t] + b_o) = \\sigma\\:(x_t \\cdot W_{xo} + h_{t-1} \\cdot W_{ho} + b_o)$</td>\n",
    "        </tr>\n",
    "        <tr>\n",
    "            <td><b>Hidden State</b></td>\n",
    "            <td>$h_t = o_t*\\tanh(C_t)$</td>\n",
    "        </tr>\n",
    "    </tbody>\n",
    "</table>"
   ]
  },
  {
   "cell_type": "code",
   "execution_count": 70,
   "id": "ideal-start",
   "metadata": {
    "id": "bridal-tobago"
   },
   "outputs": [],
   "source": [
    "class VanillaLSTMCell(nn.Module):\n",
    "    \n",
    "    def __init__(self, input_size: int, hidden_size: int):\n",
    "        super(VanillaLSTMCell, self).__init__()\n",
    "        self.input_size = input_size\n",
    "        self.hidden_size = hidden_size\n",
    "        \n",
    "        # forget gate: f_t\n",
    "        self.W_xf = nn.Parameter(torch.Tensor(input_size, hidden_size))\n",
    "        self.W_hf = nn.Parameter(torch.Tensor(hidden_size, hidden_size))\n",
    "        self.b_f = nn.Parameter(torch.Tensor(hidden_size))\n",
    "        \n",
    "        # input gate: i_t\n",
    "        self.W_xi = nn.Parameter(torch.Tensor(input_size, hidden_size))\n",
    "        self.W_hi = nn.Parameter(torch.Tensor(hidden_size, hidden_size))\n",
    "        self.b_i = nn.Parameter(torch.Tensor(hidden_size))\n",
    "        \n",
    "        # candidate values: g_t\n",
    "        self.W_xC = nn.Parameter(torch.Tensor(input_size, hidden_size))\n",
    "        self.W_hC = nn.Parameter(torch.Tensor(hidden_size, hidden_size))\n",
    "        self.b_C = nn.Parameter(torch.Tensor(hidden_size))\n",
    "        \n",
    "        # cell state: C_t\n",
    "        \n",
    "        # output: o_t\n",
    "        self.W_xo = nn.Parameter(torch.Tensor(input_size, hidden_size))\n",
    "        self.W_ho = nn.Parameter(torch.Tensor(hidden_size, hidden_size))\n",
    "        self.b_o = nn.Parameter(torch.Tensor(hidden_size))\n",
    "        \n",
    "        # hidden state: h_t\n",
    "        \n",
    "        self.init_weights()\n",
    "        \n",
    "    def forward(self, x, init_states=None):\n",
    "        \n",
    "        \"\"\"\n",
    "        forward() -> List, Tupel(Tensor, Tensor)\n",
    "\n",
    "        Returns a list filled with all hidden_states.\n",
    "            Returns a tupel which includes the current hidden- and cell-state.\n",
    "\n",
    "        Keywords:\n",
    "            x - input-tensor of shape (seq_len, batch, hidden_size).\n",
    "            init_states - tuple which includes initial hidden- and cell-state.\n",
    "        \"\"\"\n",
    "        \n",
    "        seq_len, batch, _ = x.size()\n",
    "        hidden_seq = []\n",
    "        \n",
    "        if init_states is None:\n",
    "            h_t, C_t = (torch.zeros(batch, self.hidden_size).to(device), torch.zeros(batch, self.hidden_size).to(device))\n",
    "        else:\n",
    "            h_t, C_t = init_states\n",
    "            \n",
    "        for t in range(seq_len):\n",
    "            # input-tensor of shape (batch, input_size)\n",
    "            x_t = (x[t])\n",
    "            \n",
    "            # forget gate\n",
    "            f_t = torch.sigmoid(x_t @ self.W_xf + h_t @ self.W_hf + self.b_f)\n",
    "            \n",
    "            # input gate\n",
    "            i_t = torch.sigmoid(x_t @ self.W_xi + h_t @ self.W_hi + self.b_i)\n",
    "            \n",
    "            # candidate values\n",
    "            g_t = torch.tanh(x_t @ self.W_xC + h_t @ self.W_hC + self.b_C)\n",
    "            \n",
    "            # cell state\n",
    "            C_t = f_t * C_t + i_t * g_t\n",
    "            \n",
    "            # output\n",
    "            o_t = torch.sigmoid(x_t @ self.W_xo + h_t @ self.W_ho + self.b_o)\n",
    "            \n",
    "            # hidden state\n",
    "            h_t = o_t * torch.tanh(C_t)\n",
    "            \n",
    "            # append hidden_seq with h_t of shape (batch, hidden_size)\n",
    "            hidden_seq.append(h_t.unsqueeze(0))\n",
    "            \n",
    "        # reshape hidden_seq p/ retornar\n",
    "        hidden_seq = torch.cat(hidden_seq, dim=0)\n",
    "        hidden_seq = hidden_seq.transpose(0, 1).contiguous()\n",
    "        \n",
    "        return hidden_seq, (h_t, C_t)\n",
    "                            \n",
    "    def init_weights(self):\n",
    "        stdv = 1.0 / math.sqrt(self.hidden_size)\n",
    "        for weight in self.parameters():\n",
    "            # apply uniform distribution to the weights\n",
    "            weight.data.uniform_(-stdv, stdv)"
   ]
  },
  {
   "cell_type": "markdown",
   "id": "every-thong",
   "metadata": {},
   "source": [
    "## Optimized Vanilla LSTMCell by hand\n",
    "\n",
    "The \"VanillaLSTMCell\"-Class is not optimized in terms of computational time. <br>\n",
    "Performing 8 matrix multiplications separately cause an enormously high time to perform. <br>\n",
    "In order to avoid this much computational time, the \"OptimizedVanillaLSTMCell\"-Class will perform these computation in a vectorized way. \n",
    "\n",
    "To achive this operation, two matrixes, $W_x$ and $W_h$, are set up, which have the weight contained on the 4 matrix multiplications each of they do. <br>\n",
    "The gated operations will be performed on the matrixes that already passed per the linear combinations + bias operation.\n",
    "\n",
    "For a more detailed explanation: [Building a LSTM by hand on PyTorch](https://towardsdatascience.com/building-a-lstm-by-hand-on-pytorch-59c02a4ec091)\n",
    "\n",
    "Let again:\n",
    "\n",
    "$f_n$ = number of features (input size) <br>\n",
    "$h_S$ = number of output nodes (hidden size) <br>\n",
    "$b_S$ = batch size\n",
    "\n",
    "And then:\n",
    "- weight tensor $W_x$ of shape $(f_n, h_S*4)$\n",
    "- weight tensor $W_h$ of shape $(h_S, h_S*4)$\n",
    "- bias tensor $b$ of shape $(1, h_S*4)$\n",
    "- input tensor $x_t$ of shape $(b_S, f_n)$, corresponding to the element of index t in each sequence of the batch\n",
    "- hidden-state tensor $h_t$ of shape $(b_S, h_S)$, corresponding to the element of index t in each sequence of the batch\n",
    "- with \"⋅\" representing a matrix multiplication\n",
    "- and \"*\" representing a element-wise multiplication\n",
    "- $T[x,y]$ indicates the element of the tensor $T$ at the coordinates $(x,y)$\n",
    "- $T[x,:]$ indicates the $x_{th}$ row of the tensor $T$\n",
    "- $T[:,y]$ incicates the $y_{th}$ column of the tensor $T$\n",
    "- $T[:,y:y_n]$ indictaes the subtensor of $T$ that corresponds all of its rows and columns $y$ to $y_n$\n",
    "\n",
    "With the vectorized operations, the equations of the LSTMCell would be:\n",
    "\n",
    "<table border=\"0\">\n",
    "    <tbody>\n",
    "        <tr>\n",
    "            <td><b>\"Concatenated gates matrix\"</b></td>\n",
    "            <td>$A_t = x_t\\cdot W_x + h_t\\cdot W_h + b$</td>\n",
    "        </tr>\n",
    "        <tr>\n",
    "            <td><b>Forget Gate</b></td>\n",
    "            <td>$f_t = \\sigma\\:(A_t[:,\\:h_S:(h_S*2)])$</td>\n",
    "        </tr>\n",
    "        <tr>\n",
    "            <td><b>Input Gate</b></td>\n",
    "            <td>$i_t = \\sigma\\:(A_t[:,\\:0:h_S])$</td>\n",
    "        </tr>\n",
    "        <tr>\n",
    "            <td><b>Candidate Values</b></td>\n",
    "            <td>$\\tilde{C_t}\\:(=g_t) = \\tanh(A_t[:,\\:(h_S*2):(h_S*3)])$</td>\n",
    "        </tr>\n",
    "        <tr>\n",
    "            <td><b>Cell State</b></td>\n",
    "            <td>$C_t = f_t*C_{t-1} + i_t*\\tilde{C_t}$</td>\n",
    "        </tr>\n",
    "        <tr>\n",
    "            <td><b>Output</b></td>\n",
    "            <td>$o_t = \\sigma\\:(A_t[:,\\:(h_S*3):(h_S*4)])$</td>\n",
    "        </tr>\n",
    "        <tr>\n",
    "            <td><b>Hidden State</b></td>\n",
    "            <td>$h_t = o_t*\\tanh(C_t)$</td>\n",
    "        </tr>\n",
    "    </tbody>\n",
    "</table>\n",
    "\n",
    "### LSTMCell with peephole connections\n",
    "\n",
    "One popular LSTM variation, introduced by [[Gers und Schmidhuber, 2000]](https://ieeexplore.ieee.org/document/861302), is adding so-called \"peephole connections\". In this case the gate layers are able to look at the cell state.\n",
    "\n",
    "<p style=\"text-align:center;\"><img src=\"https://github.com/erikhelmut/japanese-character-classification/blob/main/pictures/LSTM3-var-peepholes.png?raw=1\" width=400/></p>\n",
    "\n",
    "In this case, with the vectorized operations, the equations of the LSTMCell with peephole connections would be:\n",
    "\n",
    "<table border=\"0\">\n",
    "    <tbody>\n",
    "        <tr>\n",
    "            <td><b>\"Concatenated gates matrix\"</b></td>\n",
    "            <td>$A_t = x_t\\cdot W_x + h_t\\cdot W_h + b$</td>\n",
    "        </tr>\n",
    "        <tr>\n",
    "            <td><b>Forget Gate</b></td>\n",
    "            <td>$f_t = \\sigma\\:(A_t[:,\\:h_S:(h_S*2)])$</td>\n",
    "        </tr>\n",
    "        <tr>\n",
    "            <td><b>Input Gate</b></td>\n",
    "            <td>$i_t = \\sigma\\:(A_t[:,\\:0:h_S])$</td>\n",
    "        </tr>\n",
    "        <tr>\n",
    "            <td><b>Cell State</b></td>\n",
    "            <td>$C_t = f_t*C_{t-1} + i_t*\\sigma\\:(x_t\\cdot W_x + b)[:,\\:(h_S*2):(h_S*3)]$</td>\n",
    "        </tr>\n",
    "        <tr>\n",
    "            <td><b>Output</b></td>\n",
    "            <td>$o_t = \\sigma\\:(A_t[:,\\:(h_S*3):(h_S*4)])$</td>\n",
    "        </tr>\n",
    "        <tr>\n",
    "            <td><b>Hidden State</b></td>\n",
    "            <td>$h_t = o_t*\\tanh(C_t)$</td>\n",
    "        </tr>\n",
    "    </tbody>\n",
    "</table>"
   ]
  },
  {
   "cell_type": "code",
   "execution_count": 71,
   "id": "dressed-tunnel",
   "metadata": {},
   "outputs": [],
   "source": [
    "class OptimizedPeepholeLSTMCell(nn.Module):\n",
    "    \n",
    "    def __init__(self, input_size: int, hidden_size: int, peephole=False):\n",
    "        super(OptimizedPeepholeLSTMCell, self).__init__()\n",
    "        self.input_size = input_size\n",
    "        self.hidden_size = hidden_size\n",
    "        self.peephole = peephole\n",
    "        \n",
    "        # weight tensor W_x\n",
    "        self.W_x = nn.Parameter(torch.Tensor(input_size, hidden_size*4))\n",
    "        \n",
    "        # weight tensor W_h\n",
    "        self.W_h = nn.Parameter(torch.Tensor(hidden_size, hidden_size*4))\n",
    "        \n",
    "        # bias tensor\n",
    "        self.b = nn.Parameter(torch.Tensor(hidden_size*4))\n",
    "        \n",
    "        self.init_weights()\n",
    "        \n",
    "    def forward(self, x, init_states=None):\n",
    "        \n",
    "        \"\"\"\n",
    "        forward() -> List, Tupel(Tensor, Tensor)\n",
    "\n",
    "        Returns a list filled with all hidden_states.\n",
    "            Returns a tupel which includes the current hidden- and cell-state.\n",
    "\n",
    "        Keywords:\n",
    "            x - input-tensor of shape (seq_len, batch, hidden_size).\n",
    "            init_states - tuple which includes initial hidden- and cell-state.\n",
    "        \"\"\"\n",
    "        \n",
    "        seq_len, batch, _ = x.size()\n",
    "        hidden_seq = []\n",
    "        \n",
    "        if init_states is None:\n",
    "            h_t, C_t = (torch.zeros(batch, self.hidden_size).to(device), torch.zeros(batch, self.hidden_size).to(device))\n",
    "        else:\n",
    "            h_t, C_t = init_states\n",
    "            \n",
    "        hS = self.hidden_size    \n",
    "            \n",
    "        for t in range(seq_len):\n",
    "            # input-tensor of shape (batch, input_size)\n",
    "            x_t = (x[t])\n",
    "            \n",
    "            # batch the computation into a single tensor multiplication\n",
    "            if self.peephole:\n",
    "                gates = x_t @ self.W_x + h_t @ self.W_h + self.b\n",
    "            else:\n",
    "                gates = x_t @ self.W_x + h_t @ self.W_h + self.b\n",
    "                g_t = torch.tanh(gates[:, hS*2:hS*3]) # candidate values\n",
    "            \n",
    "            f_t, i_t, o_t = (\n",
    "                torch.sigmoid(gates[:, hS:hS*2]), # forget gate\n",
    "                torch.sigmoid(gates[:, :hS]), # input gate\n",
    "                torch.sigmoid(gates[:, hS*3:]) # output\n",
    "            )\n",
    "            \n",
    "            if self.peephole:\n",
    "                # cell state\n",
    "                C_t = f_t * C_t + i_t * torch.sigmoid(x_t @ self.W_x + self.b)[:, hS*2:hS*3]\n",
    "                # hidden state\n",
    "                h_t = o_t * torch.tanh(C_t)\n",
    "            else:\n",
    "                # cell state\n",
    "                C_t = f_t * C_t + i_t * g_t\n",
    "                # hidden state\n",
    "                h_t = o_t * torch.tanh(C_t)\n",
    "            \n",
    "            # append hidden_seq with h_t of shape (batch, hidden_size)\n",
    "            hidden_seq.append(h_t.unsqueeze(0))\n",
    "            \n",
    "        # reshape hidden_seq p/ retornar\n",
    "        hidden_seq = torch.cat(hidden_seq, dim=0)\n",
    "        hidden_seq = hidden_seq.transpose(0, 1).contiguous()\n",
    "        \n",
    "        return hidden_seq, (h_t, C_t)\n",
    "    \n",
    "    def init_weights(self):\n",
    "        stdv = 1.0 / math.sqrt(self.hidden_size)\n",
    "        for weight in self.parameters():\n",
    "            # apply uniform distribution to the weights\n",
    "            weight.data.uniform_(-stdv, stdv)"
   ]
  },
  {
   "cell_type": "markdown",
   "id": "organizational-visiting",
   "metadata": {
    "id": "aging-armor"
   },
   "source": [
    "## Defining network structure"
   ]
  },
  {
   "cell_type": "code",
   "execution_count": 72,
   "id": "spiritual-waterproof",
   "metadata": {
    "id": "tested-great"
   },
   "outputs": [],
   "source": [
    "class RNN(nn.Module):\n",
    "    \n",
    "    def __init__(self, input_size, hidden_size, n_characters):\n",
    "        super(RNN, self).__init__()\n",
    "        self.hidden_size = hidden_size\n",
    "        \n",
    "        self.lstmcell = VanillaLSTMCell(input_size, hidden_size)\n",
    "        #self.lstmcell = OptimizedPeepholeLSTMCell(input_size, hidden_size, peephole=True)\n",
    "\n",
    "        self.fc = nn.Linear(hidden_size, n_characters)\n",
    "        self.softmax = nn.LogSoftmax(dim=1)\n",
    "        \n",
    "    def forward(self, x):\n",
    "        # initial hidden- & cell-state\n",
    "        h0 = torch.zeros(x.size(1), self.hidden_size).to(device)\n",
    "        c0 = torch.zeros(x.size(1), self.hidden_size).to(device)\n",
    "        \n",
    "        # output of shape (seq_len, batch, n_directions * hidden_size)\n",
    "        _, hc = self.lstmcell(x, (h0,c0))\n",
    "        h1 = hc[0]\n",
    "        c1 = hc[1]\n",
    "        \n",
    "        out = self.fc(h1)\n",
    "        out = self.softmax(out)\n",
    "\n",
    "        return out"
   ]
  },
  {
   "cell_type": "markdown",
   "id": "acoustic-motivation",
   "metadata": {
    "id": "mathematical-technician"
   },
   "source": [
    "## Define helper functions for neural network's training"
   ]
  },
  {
   "cell_type": "code",
   "execution_count": 73,
   "id": "transsexual-crisis",
   "metadata": {
    "id": "understanding-writing"
   },
   "outputs": [],
   "source": [
    "def train(file_tensor, character_tensor):\n",
    "    output = model(file_tensor)\n",
    "    loss = criterion(output, character_tensor)\n",
    "    \n",
    "    optimizer.zero_grad()\n",
    "    loss.backward()\n",
    "    optimizer.step()\n",
    "    \n",
    "    return output, loss.item()\n",
    "\n",
    "def character_from_output(output):\n",
    "    character_idx = torch.argmax(output).item()\n",
    "    return all_characters[character_idx]"
   ]
  },
  {
   "cell_type": "markdown",
   "id": "residential-electronics",
   "metadata": {
    "id": "fabulous-fiction"
   },
   "source": [
    "## Defining hyperparameters of neural network's training"
   ]
  },
  {
   "cell_type": "code",
   "execution_count": 74,
   "id": "maritime-millennium",
   "metadata": {
    "id": "postal-friendship"
   },
   "outputs": [],
   "source": [
    "# load train dataset\n",
    "character_files, all_characters = load_data(path=\"../data/train/\")\n",
    "\n",
    "# hyper parameters\n",
    "input_size = 3 # features: x_acc, y_acc, z_acc\n",
    "n_characters = len(all_characters) # output_size\n",
    "hidden_size = 128\n",
    "n_layers = 1\n",
    "\n",
    "learning_rate = 0.005"
   ]
  },
  {
   "cell_type": "markdown",
   "id": "contrary-stage",
   "metadata": {
    "id": "disabled-clark"
   },
   "source": [
    "## Start training loop"
   ]
  },
  {
   "cell_type": "code",
   "execution_count": 32,
   "id": "bearing-smile",
   "metadata": {
    "colab": {
     "base_uri": "https://localhost:8080/"
    },
    "id": "overall-radiation",
    "outputId": "1ec8c64d-7ded-4d36-9046-36a24c3170c6"
   },
   "outputs": [
    {
     "name": "stdout",
     "output_type": "stream",
     "text": [
      "5 0% (0m 1s) 1.5308 ../data/train\\i__07498.csv / i ✓\n",
      "10 0% (0m 2s) 1.5728 ../data/train\\e__49604.csv / i ✗ (e)\n",
      "15 0% (0m 3s) 1.5804 ../data/train\\i__39419.csv / a ✗ (i)\n",
      "20 0% (0m 4s) 1.5775 ../data/train\\e__12853.csv / i ✗ (e)\n",
      "25 0% (0m 5s) 1.7341 ../data/train\\o__49156.csv / a ✗ (o)\n",
      "30 0% (0m 7s) 1.7332 ../data/train\\o__31750.csv / e ✗ (o)\n",
      "35 0% (0m 8s) 1.5083 ../data/train\\e__06730.csv / e ✓\n",
      "40 0% (0m 9s) 1.5232 ../data/train\\a__29661.csv / e ✗ (a)\n",
      "45 0% (0m 10s) 1.6347 ../data/train\\i__22628.csv / e ✗ (i)\n",
      "50 0% (0m 11s) 1.5955 ../data/train\\i__92051.csv / e ✗ (i)\n"
     ]
    },
    {
     "ename": "KeyboardInterrupt",
     "evalue": "",
     "output_type": "error",
     "traceback": [
      "\u001b[1;31m---------------------------------------------------------------------------\u001b[0m",
      "\u001b[1;31mKeyboardInterrupt\u001b[0m                         Traceback (most recent call last)",
      "\u001b[1;32m<ipython-input-32-804f15271323>\u001b[0m in \u001b[0;36m<module>\u001b[1;34m\u001b[0m\n\u001b[0;32m     24\u001b[0m \u001b[1;32mfor\u001b[0m \u001b[0mi\u001b[0m \u001b[1;32min\u001b[0m \u001b[0mrange\u001b[0m\u001b[1;33m(\u001b[0m\u001b[1;36m1\u001b[0m\u001b[1;33m,\u001b[0m \u001b[0mn_iters\u001b[0m \u001b[1;33m+\u001b[0m \u001b[1;36m1\u001b[0m\u001b[1;33m)\u001b[0m\u001b[1;33m:\u001b[0m\u001b[1;33m\u001b[0m\u001b[1;33m\u001b[0m\u001b[0m\n\u001b[0;32m     25\u001b[0m     \u001b[0mcharacter\u001b[0m\u001b[1;33m,\u001b[0m \u001b[0mfile\u001b[0m\u001b[1;33m,\u001b[0m \u001b[0mcharacter_tensor\u001b[0m\u001b[1;33m,\u001b[0m \u001b[0mfile_tensor\u001b[0m \u001b[1;33m=\u001b[0m \u001b[0mrandom_training_example\u001b[0m\u001b[1;33m(\u001b[0m\u001b[0mcharacter_files\u001b[0m\u001b[1;33m,\u001b[0m \u001b[0mall_characters\u001b[0m\u001b[1;33m)\u001b[0m\u001b[1;33m\u001b[0m\u001b[1;33m\u001b[0m\u001b[0m\n\u001b[1;32m---> 26\u001b[1;33m     \u001b[0moutput\u001b[0m\u001b[1;33m,\u001b[0m \u001b[0mloss\u001b[0m \u001b[1;33m=\u001b[0m \u001b[0mtrain\u001b[0m\u001b[1;33m(\u001b[0m\u001b[0mfile_tensor\u001b[0m\u001b[1;33m.\u001b[0m\u001b[0mto\u001b[0m\u001b[1;33m(\u001b[0m\u001b[0mdevice\u001b[0m\u001b[1;33m)\u001b[0m\u001b[1;33m,\u001b[0m \u001b[0mcharacter_tensor\u001b[0m\u001b[1;33m.\u001b[0m\u001b[0mto\u001b[0m\u001b[1;33m(\u001b[0m\u001b[0mdevice\u001b[0m\u001b[1;33m)\u001b[0m\u001b[1;33m)\u001b[0m\u001b[1;33m\u001b[0m\u001b[1;33m\u001b[0m\u001b[0m\n\u001b[0m\u001b[0;32m     27\u001b[0m     \u001b[0mcurrent_loss\u001b[0m \u001b[1;33m+=\u001b[0m \u001b[0mloss\u001b[0m\u001b[1;33m\u001b[0m\u001b[1;33m\u001b[0m\u001b[0m\n\u001b[0;32m     28\u001b[0m \u001b[1;33m\u001b[0m\u001b[0m\n",
      "\u001b[1;32m<ipython-input-8-eaadb36e74a4>\u001b[0m in \u001b[0;36mtrain\u001b[1;34m(file_tensor, character_tensor)\u001b[0m\n\u001b[0;32m      4\u001b[0m \u001b[1;33m\u001b[0m\u001b[0m\n\u001b[0;32m      5\u001b[0m     \u001b[0moptimizer\u001b[0m\u001b[1;33m.\u001b[0m\u001b[0mzero_grad\u001b[0m\u001b[1;33m(\u001b[0m\u001b[1;33m)\u001b[0m\u001b[1;33m\u001b[0m\u001b[1;33m\u001b[0m\u001b[0m\n\u001b[1;32m----> 6\u001b[1;33m     \u001b[0mloss\u001b[0m\u001b[1;33m.\u001b[0m\u001b[0mbackward\u001b[0m\u001b[1;33m(\u001b[0m\u001b[1;33m)\u001b[0m\u001b[1;33m\u001b[0m\u001b[1;33m\u001b[0m\u001b[0m\n\u001b[0m\u001b[0;32m      7\u001b[0m     \u001b[0moptimizer\u001b[0m\u001b[1;33m.\u001b[0m\u001b[0mstep\u001b[0m\u001b[1;33m(\u001b[0m\u001b[1;33m)\u001b[0m\u001b[1;33m\u001b[0m\u001b[1;33m\u001b[0m\u001b[0m\n\u001b[0;32m      8\u001b[0m \u001b[1;33m\u001b[0m\u001b[0m\n",
      "\u001b[1;32m~\\AppData\\Local\\Programs\\Python\\Python39\\lib\\site-packages\\torch\\tensor.py\u001b[0m in \u001b[0;36mbackward\u001b[1;34m(self, gradient, retain_graph, create_graph, inputs)\u001b[0m\n\u001b[0;32m    243\u001b[0m                 \u001b[0mcreate_graph\u001b[0m\u001b[1;33m=\u001b[0m\u001b[0mcreate_graph\u001b[0m\u001b[1;33m,\u001b[0m\u001b[1;33m\u001b[0m\u001b[1;33m\u001b[0m\u001b[0m\n\u001b[0;32m    244\u001b[0m                 inputs=inputs)\n\u001b[1;32m--> 245\u001b[1;33m         \u001b[0mtorch\u001b[0m\u001b[1;33m.\u001b[0m\u001b[0mautograd\u001b[0m\u001b[1;33m.\u001b[0m\u001b[0mbackward\u001b[0m\u001b[1;33m(\u001b[0m\u001b[0mself\u001b[0m\u001b[1;33m,\u001b[0m \u001b[0mgradient\u001b[0m\u001b[1;33m,\u001b[0m \u001b[0mretain_graph\u001b[0m\u001b[1;33m,\u001b[0m \u001b[0mcreate_graph\u001b[0m\u001b[1;33m,\u001b[0m \u001b[0minputs\u001b[0m\u001b[1;33m=\u001b[0m\u001b[0minputs\u001b[0m\u001b[1;33m)\u001b[0m\u001b[1;33m\u001b[0m\u001b[1;33m\u001b[0m\u001b[0m\n\u001b[0m\u001b[0;32m    246\u001b[0m \u001b[1;33m\u001b[0m\u001b[0m\n\u001b[0;32m    247\u001b[0m     \u001b[1;32mdef\u001b[0m \u001b[0mregister_hook\u001b[0m\u001b[1;33m(\u001b[0m\u001b[0mself\u001b[0m\u001b[1;33m,\u001b[0m \u001b[0mhook\u001b[0m\u001b[1;33m)\u001b[0m\u001b[1;33m:\u001b[0m\u001b[1;33m\u001b[0m\u001b[1;33m\u001b[0m\u001b[0m\n",
      "\u001b[1;32m~\\AppData\\Local\\Programs\\Python\\Python39\\lib\\site-packages\\torch\\autograd\\__init__.py\u001b[0m in \u001b[0;36mbackward\u001b[1;34m(tensors, grad_tensors, retain_graph, create_graph, grad_variables, inputs)\u001b[0m\n\u001b[0;32m    143\u001b[0m         \u001b[0mretain_graph\u001b[0m \u001b[1;33m=\u001b[0m \u001b[0mcreate_graph\u001b[0m\u001b[1;33m\u001b[0m\u001b[1;33m\u001b[0m\u001b[0m\n\u001b[0;32m    144\u001b[0m \u001b[1;33m\u001b[0m\u001b[0m\n\u001b[1;32m--> 145\u001b[1;33m     Variable._execution_engine.run_backward(\n\u001b[0m\u001b[0;32m    146\u001b[0m         \u001b[0mtensors\u001b[0m\u001b[1;33m,\u001b[0m \u001b[0mgrad_tensors_\u001b[0m\u001b[1;33m,\u001b[0m \u001b[0mretain_graph\u001b[0m\u001b[1;33m,\u001b[0m \u001b[0mcreate_graph\u001b[0m\u001b[1;33m,\u001b[0m \u001b[0minputs\u001b[0m\u001b[1;33m,\u001b[0m\u001b[1;33m\u001b[0m\u001b[1;33m\u001b[0m\u001b[0m\n\u001b[0;32m    147\u001b[0m         allow_unreachable=True, accumulate_grad=True)  # allow_unreachable flag\n",
      "\u001b[1;31mKeyboardInterrupt\u001b[0m: "
     ]
    }
   ],
   "source": [
    "# initialize neural network   \n",
    "model = RNN(input_size, hidden_size, n_characters).to(device)\n",
    "\n",
    "# loss and optimizer\n",
    "criterion = nn.NLLLoss()\n",
    "optimizer = torch.optim.SGD(model.parameters(), lr=learning_rate)\n",
    "\n",
    "current_loss = 0\n",
    "all_losses = []\n",
    "\n",
    "print_every = 5#5000\n",
    "plot_every = 100#1000\n",
    "n_iters = 10000#50000\n",
    "\n",
    "def timeSince(since):\n",
    "    now = time.time()\n",
    "    s = now - since\n",
    "    m = math.floor(s / 60)\n",
    "    s -= m * 60\n",
    "    return '%dm %ds' % (m, s)\n",
    "\n",
    "start = time.time()\n",
    "\n",
    "for i in range(1, n_iters + 1):\n",
    "    character, file, character_tensor, file_tensor = random_training_example(character_files, all_characters)\n",
    "    output, loss = train(file_tensor.to(device), character_tensor.to(device))\n",
    "    current_loss += loss\n",
    "    \n",
    "    # print iter number, loss, name and guess\n",
    "    if i % print_every == 0:\n",
    "        guess = character_from_output(output)\n",
    "        correct = '✓' if guess == character else '✗ (%s)' % character\n",
    "        print('%d %d%% (%s) %.4f %s / %s %s' % (i, i / n_iters * 100, timeSince(start), loss, file, guess, correct))\n",
    "\n",
    "    # add current loss avg to list of losses\n",
    "    if i % plot_every == 0:\n",
    "        all_losses.append(current_loss / plot_every)\n",
    "        current_loss = 0"
   ]
  },
  {
   "cell_type": "markdown",
   "id": "polished-malta",
   "metadata": {
    "id": "transsexual-graphics"
   },
   "source": [
    "## Plot LOSS-function"
   ]
  },
  {
   "cell_type": "code",
   "execution_count": 33,
   "id": "representative-celebration",
   "metadata": {
    "colab": {
     "base_uri": "https://localhost:8080/",
     "height": 410
    },
    "id": "ruled-traveler",
    "outputId": "11de2478-6c65-42d6-ef23-f7870b57f4b7"
   },
   "outputs": [
    {
     "data": {
      "image/png": "[encoded data removed]",
      "text/plain": [
       "<Figure size 864x432 with 1 Axes>"
      ]
     },
     "metadata": {
      "tags": []
     },
     "output_type": "display_data"
    }
   ],
   "source": [
    "# create figure\n",
    "mpl.style.use(\"seaborn\") #seaborn-whitegrid\n",
    "plt.figure(figsize=(12,6))\n",
    "# create plot\n",
    "plt.plot(all_losses)\n",
    "# title and labels\n",
    "plt.title(\"LOSS-function\", fontsize=20)\n",
    "plt.xlabel(\"iterations\", fontsize=15)\n",
    "plt.ylabel(\"loss\", fontsize=15)\n",
    "# show plot\n",
    "plt.show()"
   ]
  },
  {
   "cell_type": "markdown",
   "id": "dimensional-arizona",
   "metadata": {
    "id": "ordinary-oregon"
   },
   "source": [
    "## Save model"
   ]
  },
  {
   "cell_type": "code",
   "execution_count": 30,
   "id": "magnetic-coral",
   "metadata": {
    "colab": {
     "base_uri": "https://localhost:8080/"
    },
    "id": "speaking-particle",
    "outputId": "5cd08fae-b735-4c5f-974d-2e89717571ab"
   },
   "outputs": [
    {
     "name": "stdout",
     "output_type": "stream",
     "text": [
      "/content/gdrive/My Drive/Colab Notebooks/japanese-character-classification/models\n",
      "/content/gdrive/My Drive/Colab Notebooks/japanese-character-classification/notebooks\n"
     ]
    }
   ],
   "source": [
    "%cd ../models/\n",
    "FILE = \"2.4-lstm-cell-network-byhand-model.pth\"\n",
    "torch.save(model.state_dict(), FILE)\n",
    "%cd ../notebooks/"
   ]
  },
  {
   "cell_type": "markdown",
   "id": "fewer-malpractice",
   "metadata": {
    "id": "random-mistake"
   },
   "source": [
    "## Load model"
   ]
  },
  {
   "cell_type": "code",
   "execution_count": 75,
   "id": "directed-birthday",
   "metadata": {
    "colab": {
     "base_uri": "https://localhost:8080/"
    },
    "id": "sustainable-briefs",
    "outputId": "e5694964-6b93-4aaa-f75c-6493d0984bde"
   },
   "outputs": [
    {
     "name": "stdout",
     "output_type": "stream",
     "text": [
      "C:\\Users\\erikh\\OneDrive\\Dokumente\\Studium\\!Studienarbeit\\japanese-character-classification\\models\n",
      "C:\\Users\\erikh\\OneDrive\\Dokumente\\Studium\\!Studienarbeit\\japanese-character-classification\\notebooks\n"
     ]
    }
   ],
   "source": [
    "%cd ../models/\n",
    "FILE = \"2.4-lstm-cell-network-byhand-model.pth\"\n",
    "loaded_model = RNN(input_size, hidden_size, n_characters).to(device)\n",
    "loaded_model.load_state_dict(torch.load(FILE, map_location=device))\n",
    "loaded_model.eval()\n",
    "%cd ../notebooks/"
   ]
  },
  {
   "cell_type": "markdown",
   "id": "detected-conversion",
   "metadata": {
    "id": "accompanied-semiconductor"
   },
   "source": [
    "## Determine accuracy"
   ]
  },
  {
   "cell_type": "code",
   "execution_count": 76,
   "id": "looking-barcelona",
   "metadata": {
    "colab": {
     "base_uri": "https://localhost:8080/",
     "height": 367
    },
    "id": "controlling-egyptian",
    "outputId": "83a840cf-fae6-4d7a-daa4-6862b92e9686"
   },
   "outputs": [
    {
     "name": "stdout",
     "output_type": "stream",
     "text": [
      "characters in test data:  ['a', 'e', 'i', 'o', 'u']\n",
      "../data/test\\a__88470.csv / a ✓\n",
      "../data/test\\a__94789.csv / a ✓\n",
      "../data/test\\a__96486.csv / a ✓\n",
      "../data/test\\a__97545.csv / a ✓\n",
      "../data/test\\a__98539.csv / a ✓\n",
      "../data/test\\e__70433.csv / e ✓\n",
      "../data/test\\e__76682.csv / e ✓\n",
      "../data/test\\e__82254.csv / e ✓\n",
      "../data/test\\e__83191.csv / e ✓\n",
      "../data/test\\e__84585.csv / e ✓\n",
      "../data/test\\i__75461.csv / i ✓\n",
      "../data/test\\i__81833.csv / i ✓\n",
      "../data/test\\i__88644.csv / i ✓\n",
      "../data/test\\i__89095.csv / i ✓\n",
      "../data/test\\i__91889.csv / i ✓\n",
      "../data/test\\o__54903.csv / u ✗ (o)\n",
      "../data/test\\o__63253.csv / a ✗ (o)\n",
      "../data/test\\o__67824.csv / o ✓\n",
      "../data/test\\o__72419.csv / u ✗ (o)\n",
      "../data/test\\o__76748.csv / u ✗ (o)\n",
      "../data/test\\u__81848.csv / u ✓\n",
      "../data/test\\u__82120.csv / u ✓\n",
      "../data/test\\u__83897.csv / u ✓\n",
      "../data/test\\u__85976.csv / u ✓\n",
      "../data/test\\u__88458.csv / u ✓\n",
      "../data/test\\u__93521.csv / u ✓\n",
      "\n",
      "accuracy = 84.62 %\n",
      "\n"
     ]
    },
    {
     "data": {
      "image/png": "[encoded data removed]",
      "text/plain": [
       "<Figure size 432x288 with 2 Axes>"
      ]
     },
     "metadata": {
      "needs_background": "light"
     },
     "output_type": "display_data"
    }
   ],
   "source": [
    "# load test dataset\n",
    "character_files, all_characters = load_data(path=\"../data/test/\")\n",
    "print(\"characters in test data: \", all_characters)\n",
    "\n",
    "# keep track of correct guesses in a confusion matrix\n",
    "confusion = torch.zeros(n_characters, n_characters)\n",
    "\n",
    "with torch.no_grad():\n",
    "    n_correct = 0\n",
    "    n_samples = 0\n",
    "    \n",
    "    for character in all_characters:\n",
    "        # all files from one character\n",
    "        for file in character_files[character]:\n",
    "            file_tensor = file_to_tensor(file).to(device)\n",
    "            # get output\n",
    "            output = loaded_model(file_tensor).to(device)\n",
    "            # get character from output\n",
    "            guess = character_from_output(output)\n",
    "            n_samples += 1\n",
    "            if guess == character:\n",
    "                n_correct += 1\n",
    "                correct = \"✓\"\n",
    "            else:\n",
    "                correct = \"✗ (%s)\" % character\n",
    "            confusion[all_characters.index(character)][all_characters.index(guess)] += 1\n",
    "            \n",
    "            print(file, \"/\", guess, correct)\n",
    "\n",
    "# normalize by dividing every row by its sum\n",
    "for i in range(n_characters):\n",
    "    confusion[i] = confusion[i] / confusion[i].sum()\n",
    "\n",
    "acc = 100.0 * n_correct / n_samples\n",
    "print(f\"\\naccuracy = {acc:.2f} %\\n\")\n",
    "\n",
    "# set up plot\n",
    "fig = plt.figure()\n",
    "ax = fig.add_subplot(111)\n",
    "ax.grid(False)\n",
    "cax = ax.matshow(confusion.numpy(), cmap=\"viridis\")\n",
    "fig.colorbar(cax)\n",
    "\n",
    "# set up axes\n",
    "ax.set_xticks(range(5))\n",
    "ax.set_yticks(range(5))\n",
    "ax.set_xticklabels(all_characters, rotation=90)\n",
    "ax.set_yticklabels(all_characters)\n",
    "\n",
    "# force label at every tick\n",
    "ax.xaxis.set_major_locator(ticker.MultipleLocator(1))\n",
    "ax.yaxis.set_major_locator(ticker.MultipleLocator(1))\n",
    "\n",
    "# sphinx_gallery_thumbnail_number = 2\n",
    "plt.show()"
   ]
  },
  {
   "cell_type": "code",
   "execution_count": null,
   "id": "cognitive-alfred",
   "metadata": {},
   "outputs": [],
   "source": []
  }
 ],
 "metadata": {
  "accelerator": "GPU",
  "colab": {
   "collapsed_sections": [],
   "name": "2.4-erikh-lstm-cell-network-byhand.ipynb",
   "provenance": [],
   "toc_visible": true
  },
  "kernelspec": {
   "display_name": "venv",
   "language": "python",
   "name": "venv"
  },
  "language_info": {
   "codemirror_mode": {
    "name": "ipython",
    "version": 3
   },
   "file_extension": ".py",
   "mimetype": "text/x-python",
   "name": "python",
   "nbconvert_exporter": "python",
   "pygments_lexer": "ipython3",
   "version": "3.9.2"
  }
 },
 "nbformat": 4,
 "nbformat_minor": 5
}
