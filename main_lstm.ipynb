{
 "cells": [
  {
   "cell_type": "markdown",
   "id": "suffering-heading",
   "metadata": {},
   "source": [
    "# RNN with LSTM for japanese character classification"
   ]
  },
  {
   "cell_type": "code",
   "execution_count": 8,
   "id": "proof-roots",
   "metadata": {},
   "outputs": [],
   "source": [
    "import time\n",
    "import math\n",
    "\n",
    "import torch\n",
    "import torch.nn as nn\n",
    "\n",
    "import matplotlib as mpl\n",
    "import matplotlib.pyplot as plt\n",
    "%matplotlib inline\n",
    "\n",
    "from utils import load_data, file_to_tensor, character_to_tensor, random_training_example\n",
    "\n",
    "device = torch.device(\"cuda\" if torch.cuda.is_available() else \"cpu\")"
   ]
  },
  {
   "cell_type": "markdown",
   "id": "surprised-sacramento",
   "metadata": {},
   "source": [
    "## Define network structure"
   ]
  },
  {
   "cell_type": "code",
   "execution_count": 3,
   "id": "compressed-nursery",
   "metadata": {},
   "outputs": [],
   "source": [
    "class RNN(nn.Module):\n",
    "    \n",
    "    def __init__(self, input_size, hidden_size, n_layers, n_characters):\n",
    "        super(RNN, self).__init__()\n",
    "        self.n_layers = n_layers\n",
    "        self.hidden_size = hidden_size\n",
    "        \n",
    "        self.lstm = nn.LSTM(input_size, hidden_size, n_layers, batch_first=False)\n",
    "        # -> x of shape (seq_len, batch, hidden_size)\n",
    "        self.fc = nn.Linear(hidden_size, n_characters)\n",
    "        self.softmax = nn.LogSoftmax(dim=1)\n",
    "        \n",
    "    def forward(self, x):\n",
    "        # initial hidden- & cell-state\n",
    "        h0 = torch.zeros(self.n_layers, x.size(1), self.hidden_size).to(device)\n",
    "        c0 = torch.zeros(self.n_layers, x.size(1), self.hidden_size).to(device)\n",
    "        \n",
    "        # output of shape (seq_len, batch, n_directions * hidden_size)\n",
    "        out, _ = self.lstm(x, (h0,c0))\n",
    "        \n",
    "        # only last Time-Step\n",
    "        out = out[-1, :, :]\n",
    "        \n",
    "        out = self.fc(out)\n",
    "        out = self.softmax(out)\n",
    "\n",
    "        return out"
   ]
  },
  {
   "cell_type": "markdown",
   "id": "broken-guyana",
   "metadata": {},
   "source": [
    "## Define helper functinos for neural network's training"
   ]
  },
  {
   "cell_type": "code",
   "execution_count": 4,
   "id": "standard-scott",
   "metadata": {},
   "outputs": [],
   "source": [
    "def train(file_tensor, character_tensor):\n",
    "    output = model(file_tensor)\n",
    "    loss = criterion(output, character_tensor)\n",
    "    \n",
    "    optimizer.zero_grad()\n",
    "    loss.backward()\n",
    "    optimizer.step()\n",
    "    \n",
    "    return output, loss.item()\n",
    "\n",
    "def character_from_output(output):\n",
    "    character_idx = torch.argmax(output).item()\n",
    "    return all_characters[character_idx]"
   ]
  },
  {
   "cell_type": "markdown",
   "id": "copyrighted-luxembourg",
   "metadata": {},
   "source": [
    "## Defining hyperparameters of neural network's training"
   ]
  },
  {
   "cell_type": "code",
   "execution_count": 17,
   "id": "compact-watts",
   "metadata": {},
   "outputs": [],
   "source": [
    "# load train dataset\n",
    "character_files, all_characters = load_data(subfolder=\"train\")\n",
    "\n",
    "# hyper parameters\n",
    "input_size = 3 # features: x_acc, y_acc, z_acc\n",
    "n_characters = len(all_characters) # output_size\n",
    "hidden_size = 128\n",
    "n_layers = 1\n",
    "\n",
    "learning_rate = 0.005"
   ]
  },
  {
   "cell_type": "markdown",
   "id": "julian-literacy",
   "metadata": {},
   "source": [
    "## Start training loop"
   ]
  },
  {
   "cell_type": "code",
   "execution_count": 18,
   "id": "warming-ancient",
   "metadata": {},
   "outputs": [
    {
     "name": "stdout",
     "output_type": "stream",
     "text": [
      "500 5% (1m 42s) 1.7020 data/train\\a__55697.csv / u ✗ (a)\n",
      "1000 10% (3m 19s) 1.6599 data/train\\a__99708.csv / u ✗ (a)\n",
      "1500 15% (4m 56s) 1.4975 data/train\\u__42376.csv / u ✓\n",
      "2000 20% (6m 32s) 1.5212 data/train\\u__45378.csv / u ✓\n",
      "2500 25% (8m 11s) 1.4848 data/train\\e__12853.csv / e ✓\n",
      "3000 30% (9m 48s) 1.6311 data/train\\i__54477.csv / u ✗ (i)\n",
      "3500 35% (11m 25s) 1.3426 data/train\\e__30746.csv / e ✓\n",
      "4000 40% (13m 0s) 1.5380 data/train\\i__12393.csv / e ✗ (i)\n",
      "4500 45% (14m 31s) 1.4765 data/train\\i__44481.csv / u ✗ (i)\n",
      "5000 50% (16m 1s) 1.3560 data/train\\u__56673.csv / u ✓\n",
      "5500 55% (16m 59s) 1.4268 data/train\\a__85026.csv / e ✗ (a)\n",
      "6000 60% (17m 59s) 0.9805 data/train\\u__35261.csv / u ✓\n",
      "6500 65% (19m 6s) 0.9590 data/train\\u__89555.csv / u ✓\n",
      "7000 70% (20m 35s) 1.3779 data/train\\u__74597.csv / o ✗ (u)\n",
      "7500 75% (22m 3s) 1.1857 data/train\\i__13846.csv / i ✓\n",
      "8000 80% (23m 30s) 1.2702 data/train\\u__47583.csv / o ✗ (u)\n",
      "8500 85% (24m 57s) 0.0260 data/train\\e__32221.csv / e ✓\n",
      "9000 90% (26m 29s) 1.0592 data/train\\i__41794.csv / i ✓\n",
      "9500 95% (27m 48s) 1.3400 data/train\\i__12320.csv / o ✗ (i)\n",
      "10000 100% (28m 44s) 0.0255 data/train\\e__86396.csv / e ✓\n"
     ]
    }
   ],
   "source": [
    "# initialize neural network   \n",
    "model = RNN(input_size, hidden_size, n_layers, n_characters).to(device)\n",
    "\n",
    "# loss and optimizer\n",
    "criterion = nn.NLLLoss()\n",
    "optimizer = torch.optim.SGD(model.parameters(), lr=learning_rate)\n",
    "\n",
    "current_loss = 0\n",
    "all_losses = []\n",
    "\n",
    "print_every = 500\n",
    "plot_every = 100\n",
    "n_iters = 10000\n",
    "\n",
    "def timeSince(since):\n",
    "    now = time.time()\n",
    "    s = now - since\n",
    "    m = math.floor(s / 60)\n",
    "    s -= m * 60\n",
    "    return '%dm %ds' % (m, s)\n",
    "\n",
    "start = time.time()\n",
    "\n",
    "for i in range(1, n_iters + 1):\n",
    "    character, file, character_tensor, file_tensor = random_training_example(character_files, all_characters)\n",
    "    output, loss = train(file_tensor.to(device), character_tensor.to(device))\n",
    "    current_loss += loss\n",
    "    \n",
    "    # print iter number, loss, name and guess\n",
    "    if i % print_every == 0:\n",
    "        guess = character_from_output(output)\n",
    "        correct = '✓' if guess == character else '✗ (%s)' % character\n",
    "        print('%d %d%% (%s) %.4f %s / %s %s' % (i, i / n_iters * 100, timeSince(start), loss, file, guess, correct))\n",
    "\n",
    "    # add current loss avg to list of losses\n",
    "    if i % plot_every == 0:\n",
    "        all_losses.append(current_loss / plot_every)\n",
    "        current_loss = 0"
   ]
  },
  {
   "cell_type": "markdown",
   "id": "known-essex",
   "metadata": {},
   "source": [
    "## Plot LOSS-function"
   ]
  },
  {
   "cell_type": "code",
   "execution_count": 19,
   "id": "verified-ceiling",
   "metadata": {},
   "outputs": [
    {
     "data": {
      "image/png": "[encoded data removed]",
      "text/plain": [
       "<Figure size 864x432 with 1 Axes>"
      ]
     },
     "metadata": {},
     "output_type": "display_data"
    }
   ],
   "source": [
    "# create figure\n",
    "mpl.style.use(\"seaborn-whitegrid\")\n",
    "plt.figure(figsize=(12,6))\n",
    "# create plot\n",
    "plt.plot(all_losses)\n",
    "# title and labels\n",
    "plt.title(\"LOSS\", fontsize=20)\n",
    "plt.xlabel(\"iterations\", fontsize=15)\n",
    "plt.ylabel(\"loss\", fontsize=15)\n",
    "# show plot\n",
    "plt.show()"
   ]
  },
  {
   "cell_type": "markdown",
   "id": "confidential-edition",
   "metadata": {},
   "source": [
    "## Save model"
   ]
  },
  {
   "cell_type": "code",
   "execution_count": 22,
   "id": "anonymous-agent",
   "metadata": {},
   "outputs": [],
   "source": [
    "FILE = \"main_lstm.pth\"\n",
    "torch.save(model.state_dict(), FILE)"
   ]
  },
  {
   "cell_type": "markdown",
   "id": "exclusive-kentucky",
   "metadata": {},
   "source": [
    "## Load model"
   ]
  },
  {
   "cell_type": "code",
   "execution_count": null,
   "id": "grateful-singles",
   "metadata": {},
   "outputs": [],
   "source": [
    "loaded_model = RNN(n_features, hidden_size, n_characters)\n",
    "loaded_model.load_state_dict(torch.load(FILE))\n",
    "loaded_model.eval()"
   ]
  },
  {
   "cell_type": "markdown",
   "id": "several-victim",
   "metadata": {},
   "source": [
    "## Determine accuracy"
   ]
  },
  {
   "cell_type": "code",
   "execution_count": 21,
   "id": "committed-sierra",
   "metadata": {},
   "outputs": [
    {
     "name": "stdout",
     "output_type": "stream",
     "text": [
      "accuracy = 57.69 %\n"
     ]
    }
   ],
   "source": [
    "# load test dataset\n",
    "character_files, all_characters = load_data(subfolder=\"test\")\n",
    "\n",
    "with torch.no_grad():\n",
    "    n_correct = 0\n",
    "    n_samples = 0\n",
    "    \n",
    "    for character in all_characters:\n",
    "        # all files from one character\n",
    "        for file in character_files[character]:\n",
    "            file_tensor = file_to_tensor(file).to(device)\n",
    "            # get output\n",
    "            output = model(file_tensor)\n",
    "            # get character from output\n",
    "            guess = character_from_output(output)\n",
    "            n_samples += 1\n",
    "            if guess == character:\n",
    "                n_correct += 1\n",
    "    \n",
    "    acc = 100.0 * n_correct / n_samples\n",
    "    print(f\"accuracy = {acc:.2f} %\")"
   ]
  },
  {
   "cell_type": "code",
   "execution_count": null,
   "id": "intense-diagnosis",
   "metadata": {},
   "outputs": [],
   "source": []
  }
 ],
 "metadata": {
  "kernelspec": {
   "display_name": "Python 3",
   "language": "python",
   "name": "python3"
  },
  "language_info": {
   "codemirror_mode": {
    "name": "ipython",
    "version": 3
   },
   "file_extension": ".py",
   "mimetype": "text/x-python",
   "name": "python",
   "nbconvert_exporter": "python",
   "pygments_lexer": "ipython3",
   "version": "3.8.5"
  }
 },
 "nbformat": 4,
 "nbformat_minor": 5
}
